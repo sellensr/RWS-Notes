{
 "cells": [
  {
   "cell_type": "code",
   "execution_count": 2,
   "metadata": {},
   "outputs": [],
   "source": [
    "# gets all of numpy but you will still need to refer to e.g. numpy.random.randn() as random.randn()\n",
    "from numpy import *               # all of the array capable elements for numerical data          \n",
    "from scipy.stats import norm      # comprehensive functions for Gaussian normal distributions\n",
    "import csv                        # library for reading and writing comma separated value files\n",
    "from matplotlib.pyplot import *   # all of pyplot to graph the results of our calculations\n",
    "\n",
    "# put figures inline in the notebook, so you don't have to call show()\n",
    "%matplotlib inline\n",
    "\n",
    "# This lets you make the default figure size larger (or smaller)\n",
    "from IPython.core.pylabtools import figsize\n",
    "figsize(14, 7)\n",
    "\n",
    "from datetime import *\n"
   ]
  },
  {
   "cell_type": "markdown",
   "metadata": {},
   "source": [
    "# What time is it?\n",
    "**datetime.now( )** returns a datetime object for the current time. It can be handled as a unit or split out into components. Taking the difference between two datetime objects yields a timedelta object. You can create your own timedelta object and manipulate it or add it to a datetime object. Exercise caution around leap seconds if they will be a factor."
   ]
  },
  {
   "cell_type": "code",
   "execution_count": 35,
   "metadata": {},
   "outputs": [
    {
     "name": "stdout",
     "output_type": "stream",
     "text": [
      "2019-04-19 15:33:48.902474\n",
      "15\n"
     ]
    },
    {
     "data": {
      "text/plain": [
       "datetime.datetime(2019, 4, 19, 15, 33, 48, 902474)"
      ]
     },
     "execution_count": 35,
     "metadata": {},
     "output_type": "execute_result"
    }
   ],
   "source": [
    "t0 = datetime.now()\n",
    "print(t0)    # a datetime object of year, month, day, hour, minute, second, microsecond\n",
    "print(t0.hour)\n",
    "t0"
   ]
  },
  {
   "cell_type": "code",
   "execution_count": 36,
   "metadata": {},
   "outputs": [
    {
     "data": {
      "text/plain": [
       "datetime.timedelta(0, 1, 831684)"
      ]
     },
     "execution_count": 36,
     "metadata": {},
     "output_type": "execute_result"
    }
   ],
   "source": [
    "t1 = datetime.now() - t0\n",
    "t1    # a timedelta object of days, seconds, microseconds"
   ]
  },
  {
   "cell_type": "code",
   "execution_count": 37,
   "metadata": {},
   "outputs": [
    {
     "name": "stdout",
     "output_type": "stream",
     "text": [
      "0 1 831684\n"
     ]
    }
   ],
   "source": [
    "print(t1.days, t1.seconds,t1.microseconds)   # microseconds can't be bigger than 1000000"
   ]
  },
  {
   "cell_type": "markdown",
   "metadata": {},
   "source": [
    "Does the implementation take into account the positive leap second between 1998 and 1999?"
   ]
  },
  {
   "cell_type": "code",
   "execution_count": 38,
   "metadata": {},
   "outputs": [
    {
     "name": "stdout",
     "output_type": "stream",
     "text": [
      "1998-12-31 23:59:59.500000 1999-01-01 00:00:01.500000\n"
     ]
    }
   ],
   "source": [
    "t2359 = datetime(1998,12,31,23,59,59,500000)\n",
    "twoSeconds = timedelta(0,2,0)\n",
    "print(t2359, t2359 + twoSeconds)"
   ]
  },
  {
   "cell_type": "markdown",
   "metadata": {},
   "source": [
    "The sign of a timedelta object depends on the order of the difference. You can manipulate a timedelta object to put it all in microseconds, or all in days."
   ]
  },
  {
   "cell_type": "code",
   "execution_count": 41,
   "metadata": {},
   "outputs": [
    {
     "data": {
      "text/plain": [
       "datetime.timedelta(-1, 86263, 154383)"
      ]
     },
     "execution_count": 41,
     "metadata": {},
     "output_type": "execute_result"
    }
   ],
   "source": [
    "t2 = t0 - datetime.now()\n",
    "t2    # a timedelta object of days, seconds, microseconds"
   ]
  },
  {
   "cell_type": "code",
   "execution_count": 42,
   "metadata": {},
   "outputs": [
    {
     "data": {
      "text/plain": [
       "datetime.timedelta(10000000, 2, 3)"
      ]
     },
     "execution_count": 42,
     "metadata": {},
     "output_type": "execute_result"
    }
   ],
   "source": [
    "t3 = timedelta(10000000,2,3)\n",
    "t3"
   ]
  },
  {
   "cell_type": "code",
   "execution_count": 43,
   "metadata": {},
   "outputs": [
    {
     "data": {
      "text/plain": [
       "864000000002000003"
      ]
     },
     "execution_count": 43,
     "metadata": {},
     "output_type": "execute_result"
    }
   ],
   "source": [
    "tus = ((t3.days * 24 * 3600) + t3.seconds) * 1000000 + t3.microseconds\n",
    "tus"
   ]
  },
  {
   "cell_type": "code",
   "execution_count": 44,
   "metadata": {},
   "outputs": [
    {
     "data": {
      "text/plain": [
       "10000000.000023147"
      ]
     },
     "execution_count": 44,
     "metadata": {},
     "output_type": "execute_result"
    }
   ],
   "source": [
    "tdays = tus/1000000/3600/24\n",
    "tdays"
   ]
  },
  {
   "cell_type": "markdown",
   "metadata": {},
   "source": [
    "**time.monotonic( )** returns a time in seconds that is guaranteed to increase continuously at a uniform rate of 1 second per second. There is no guarantee about when a time of zero corresponds to, and that zero will change between processors and across restarts.\n",
    "\n",
    "**time.time( )** returns a unix time in seconds since 1970-01-01, but may have some jitter due to corrective leap seconds. The difference between two consecutive values of time.time( ) could be zero or negative leading to obvious problems with the physics."
   ]
  },
  {
   "cell_type": "code",
   "execution_count": 45,
   "metadata": {},
   "outputs": [
    {
     "name": "stdout",
     "output_type": "stream",
     "text": [
      "479276.162343523\n",
      "479276.162649439\n"
     ]
    }
   ],
   "source": [
    "import time\n",
    "print(time.monotonic())\n",
    "print(time.monotonic())"
   ]
  },
  {
   "cell_type": "code",
   "execution_count": 46,
   "metadata": {},
   "outputs": [
    {
     "name": "stdout",
     "output_type": "stream",
     "text": [
      "1555702574.939988\n",
      "1555702574.94024\n",
      "1555702574.9403362\n"
     ]
    }
   ],
   "source": [
    "print (time.time())\n",
    "print (time.time())\n",
    "print (time.time())"
   ]
  },
  {
   "cell_type": "code",
   "execution_count": null,
   "metadata": {},
   "outputs": [],
   "source": []
  }
 ],
 "metadata": {
  "kernelspec": {
   "display_name": "Python 3",
   "language": "python",
   "name": "python3"
  },
  "language_info": {
   "codemirror_mode": {
    "name": "ipython",
    "version": 3
   },
   "file_extension": ".py",
   "mimetype": "text/x-python",
   "name": "python",
   "nbconvert_exporter": "python",
   "pygments_lexer": "ipython3",
   "version": "3.6.6"
  }
 },
 "nbformat": 4,
 "nbformat_minor": 2
}
