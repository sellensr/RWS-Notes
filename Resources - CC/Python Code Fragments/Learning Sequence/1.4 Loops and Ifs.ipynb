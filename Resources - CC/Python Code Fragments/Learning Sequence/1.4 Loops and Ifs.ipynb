{
 "cells": [
  {
   "cell_type": "markdown",
   "metadata": {},
   "source": [
    "# Loops and Ifs\n",
    "\n",
    "The basic building blocks of every language are loops and conditional statements, usually with the keywords if, for and while... For more try\n",
    "\n",
    "https://docs.python.org/3.6/tutorial/introduction.html\n",
    "https://docs.python.org/3.6/tutorial/controlflow.html\n",
    "\n",
    "or just google 'python if' or 'python for' or 'python while' and choose the style of tutorial that suits you. You will quickly find your own preferred sources. Often the docs.python.org explanations are thorough, correct, and have more detail and options than you really wanted.\n",
    "\n",
    "Here's a few examples to remind you about the format. Note the colons (:) and the indentation following them that defines the extent of each loop or conditional segment.\n",
    "\n"
   ]
  },
  {
   "cell_type": "code",
   "execution_count": 1,
   "metadata": {},
   "outputs": [
    {
     "name": "stdout",
     "output_type": "stream",
     "text": [
      "[0. 0. 0. 0. 0. 0. 0. 0. 0. 0.]\n",
      "0 0.0\n",
      "1 4.0\n",
      "2 10.0\n",
      "3 18.0\n",
      "4 28.0\n",
      "5 40.0\n",
      "6 54.0\n",
      "7 70.0\n",
      "8 88.0\n",
      "9 108.0\n"
     ]
    }
   ],
   "source": [
    "from numpy import *\n",
    "\n",
    "x = zeros(10)\n",
    "print(x)\n",
    "for i in range(0,10):\n",
    "    x[i] = 3*i + i**2\n",
    "    print(i,x[i])"
   ]
  },
  {
   "cell_type": "markdown",
   "metadata": {},
   "source": [
    "No idea what this while loop or the if statement would be doing in a practical problem"
   ]
  },
  {
   "cell_type": "code",
   "execution_count": 2,
   "metadata": {},
   "outputs": [
    {
     "name": "stdout",
     "output_type": "stream",
     "text": [
      "9 108.0\n",
      "4 28.0\n",
      "2 10.0\n"
     ]
    }
   ],
   "source": [
    "i = 9\n",
    "while(x[i] >= 10):\n",
    "    print(i,x[i])\n",
    "    i = int(i/2)"
   ]
  },
  {
   "cell_type": "code",
   "execution_count": 3,
   "metadata": {},
   "outputs": [
    {
     "name": "stdout",
     "output_type": "stream",
     "text": [
      "small 0 0.0\n",
      "small 1 4.0\n",
      "small 2 10.0\n",
      "medium 3 18.0\n",
      "just showing how to have more than one statement\n",
      "medium 4 28.0\n",
      "just showing how to have more than one statement\n",
      "medium 5 40.0\n",
      "just showing how to have more than one statement\n",
      "medium 6 54.0\n",
      "just showing how to have more than one statement\n",
      "large 7 70.0\n",
      "large 8 88.0\n",
      "large 9 108.0\n"
     ]
    }
   ],
   "source": [
    "for i in range(0,10):\n",
    "    if(i < 3):\n",
    "        print('small',i,x[i])\n",
    "    elif(i < 7):\n",
    "        print('medium',i,x[i])\n",
    "        print('just showing how to have more than one statement')\n",
    "    else:\n",
    "        print('large',i,x[i])"
   ]
  },
  {
   "cell_type": "code",
   "execution_count": null,
   "metadata": {},
   "outputs": [],
   "source": []
  },
  {
   "cell_type": "code",
   "execution_count": null,
   "metadata": {},
   "outputs": [],
   "source": []
  },
  {
   "cell_type": "code",
   "execution_count": null,
   "metadata": {},
   "outputs": [],
   "source": []
  },
  {
   "cell_type": "code",
   "execution_count": null,
   "metadata": {},
   "outputs": [],
   "source": []
  }
 ],
 "metadata": {
  "anaconda-cloud": {},
  "kernelspec": {
   "display_name": "Python 3",
   "language": "python",
   "name": "python3"
  },
  "language_info": {
   "codemirror_mode": {
    "name": "ipython",
    "version": 3
   },
   "file_extension": ".py",
   "mimetype": "text/x-python",
   "name": "python",
   "nbconvert_exporter": "python",
   "pygments_lexer": "ipython3",
   "version": "3.6.4"
  }
 },
 "nbformat": 4,
 "nbformat_minor": 1
}
