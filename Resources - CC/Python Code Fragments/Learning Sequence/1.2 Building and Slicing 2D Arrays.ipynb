{
 "cells": [
  {
   "cell_type": "markdown",
   "metadata": {
    "collapsed": true,
    "nbpresent": {
     "id": "15482a24-9adf-4abd-a4a9-cbef3bfe100d"
    }
   },
   "source": [
    "# Build a 2D array for time series data \n",
    "Start by importing all the important libraries and setting up for large graphs."
   ]
  },
  {
   "cell_type": "code",
   "execution_count": 2,
   "metadata": {},
   "outputs": [],
   "source": [
    "# gets all of numpy but you will still need to refer to e.g. numpy.random.randn() as random.randn()\n",
    "from numpy import *               # all of the array capable elements for numerical data          \n",
    "from scipy.stats import norm      # comprehensive functions for Gaussian normal distributions\n",
    "import csv                        # library for reading and writing comma separated value files\n",
    "from matplotlib.pyplot import *   # all of pyplot to graph the results of our calculations\n",
    "\n",
    "# put figures inline in the notebook, so you don't have to call show()\n",
    "%matplotlib inline\n",
    "\n",
    "# This lets you make the default figure size larger (or smaller)\n",
    "from IPython.core.pylabtools import figsize\n",
    "figsize(14, 7)"
   ]
  },
  {
   "cell_type": "markdown",
   "metadata": {},
   "source": [
    "# Create a numpy array with zeros()\n",
    "empty() works like zeros(), but there is no initialization so you don't know what will be in the array.\n",
    "\n",
    "ones() fills the array with value 1 instead of value zero\n",
    "\n",
    "a is a two dimensional array with 2 rows and 3 columns\n",
    "\n",
    "array indices start with 0, 1, 2,... so that a[0,1] is the element in the first row and the second column, while a[1,2] is the element in the second row and the third column.\n",
    "\n",
    "( Note that you can make an array with zero elements and then add to it with append(), concatenate(), or insert(). )"
   ]
  },
  {
   "cell_type": "code",
   "execution_count": 3,
   "metadata": {},
   "outputs": [
    {
     "name": "stdout",
     "output_type": "stream",
     "text": [
      "[[0.  1.3 0. ]\n",
      " [0.  0.  5.1]]\n"
     ]
    }
   ],
   "source": [
    "a = zeros((2,3))\n",
    "a[0,1] = 1.3\n",
    "a[1,2] = 5.1\n",
    "print(a)"
   ]
  },
  {
   "cell_type": "markdown",
   "metadata": {},
   "source": [
    "# Create numpy arrays by direct assignment\n",
    "b is a one dimensional row array\n",
    "\n",
    "c is a two dimensional array with only one column, so sort of a 1D array tipped on end\n",
    "\n",
    "d is the same as c, but not tipped on end, so it can't hstack()"
   ]
  },
  {
   "cell_type": "code",
   "execution_count": 4,
   "metadata": {},
   "outputs": [
    {
     "data": {
      "text/plain": [
       "array([1, 2, 3])"
      ]
     },
     "execution_count": 4,
     "metadata": {},
     "output_type": "execute_result"
    }
   ],
   "source": [
    "b = array([1,2,3])      # 1 row, 3 columns\n",
    "b"
   ]
  },
  {
   "cell_type": "code",
   "execution_count": 5,
   "metadata": {},
   "outputs": [
    {
     "data": {
      "text/plain": [
       "array([[2.2],\n",
       "       [3.3]])"
      ]
     },
     "execution_count": 5,
     "metadata": {},
     "output_type": "execute_result"
    }
   ],
   "source": [
    "c = array([[2.2],[3.3]])    # 2 rows, 1 column\n",
    "c"
   ]
  },
  {
   "cell_type": "code",
   "execution_count": 6,
   "metadata": {},
   "outputs": [
    {
     "data": {
      "text/plain": [
       "array([2.2, 3.3])"
      ]
     },
     "execution_count": 6,
     "metadata": {},
     "output_type": "execute_result"
    }
   ],
   "source": [
    "d = array([2.2,3.3])       # 1 row, 2 columns, really a 1D array\n",
    "d"
   ]
  },
  {
   "cell_type": "markdown",
   "metadata": {},
   "source": [
    "# Add rows and columns with hstack() and vstack()\n",
    "There are many powerful functions for changing the shapes of arrays and combining them into new arrays of different dimensions. For most of what we will do in MECH 217 it could be easier to define the arrays and fill them, rather than keeping track of the combinations."
   ]
  },
  {
   "cell_type": "code",
   "execution_count": 7,
   "metadata": {},
   "outputs": [
    {
     "data": {
      "text/plain": [
       "array([[0. , 1.3, 0. ],\n",
       "       [0. , 0. , 5.1],\n",
       "       [1. , 2. , 3. ]])"
      ]
     },
     "execution_count": 7,
     "metadata": {},
     "output_type": "execute_result"
    }
   ],
   "source": [
    "vstack((a,b))   # must have the same number of columns "
   ]
  },
  {
   "cell_type": "code",
   "execution_count": 8,
   "metadata": {},
   "outputs": [
    {
     "data": {
      "text/plain": [
       "array([[0. , 1.3, 0. , 2.2],\n",
       "       [0. , 0. , 5.1, 3.3]])"
      ]
     },
     "execution_count": 8,
     "metadata": {},
     "output_type": "execute_result"
    }
   ],
   "source": [
    "hstack((a,c))   # must have the same number of rows"
   ]
  },
  {
   "cell_type": "code",
   "execution_count": 9,
   "metadata": {
    "scrolled": true
   },
   "outputs": [
    {
     "data": {
      "text/plain": [
       "array([[0. , 1.3, 0. , 2.2],\n",
       "       [0. , 0. , 5.1, 3.3],\n",
       "       [2.2, 0. , 1.3, 0. ],\n",
       "       [3.3, 0. , 0. , 5.1]])"
      ]
     },
     "execution_count": 9,
     "metadata": {},
     "output_type": "execute_result"
    }
   ],
   "source": [
    "vstack((hstack((a,c)),hstack((c,a)))) "
   ]
  },
  {
   "cell_type": "code",
   "execution_count": 10,
   "metadata": {},
   "outputs": [
    {
     "ename": "ValueError",
     "evalue": "all the input arrays must have same number of dimensions",
     "output_type": "error",
     "traceback": [
      "\u001b[0;31m---------------------------------------------------------------------------\u001b[0m",
      "\u001b[0;31mValueError\u001b[0m                                Traceback (most recent call last)",
      "\u001b[0;32m<ipython-input-10-69620d2789ea>\u001b[0m in \u001b[0;36m<module>\u001b[0;34m()\u001b[0m\n\u001b[0;32m----> 1\u001b[0;31m \u001b[0mhstack\u001b[0m\u001b[0;34m(\u001b[0m\u001b[0;34m(\u001b[0m\u001b[0ma\u001b[0m\u001b[0;34m,\u001b[0m\u001b[0md\u001b[0m\u001b[0;34m)\u001b[0m\u001b[0;34m)\u001b[0m  \u001b[0;31m# fails because d is 1D\u001b[0m\u001b[0;34m\u001b[0m\u001b[0m\n\u001b[0m",
      "\u001b[0;32m/anaconda3/lib/python3.6/site-packages/numpy/core/shape_base.py\u001b[0m in \u001b[0;36mhstack\u001b[0;34m(tup)\u001b[0m\n\u001b[1;32m    286\u001b[0m         \u001b[0;32mreturn\u001b[0m \u001b[0m_nx\u001b[0m\u001b[0;34m.\u001b[0m\u001b[0mconcatenate\u001b[0m\u001b[0;34m(\u001b[0m\u001b[0marrs\u001b[0m\u001b[0;34m,\u001b[0m \u001b[0;36m0\u001b[0m\u001b[0;34m)\u001b[0m\u001b[0;34m\u001b[0m\u001b[0m\n\u001b[1;32m    287\u001b[0m     \u001b[0;32melse\u001b[0m\u001b[0;34m:\u001b[0m\u001b[0;34m\u001b[0m\u001b[0m\n\u001b[0;32m--> 288\u001b[0;31m         \u001b[0;32mreturn\u001b[0m \u001b[0m_nx\u001b[0m\u001b[0;34m.\u001b[0m\u001b[0mconcatenate\u001b[0m\u001b[0;34m(\u001b[0m\u001b[0marrs\u001b[0m\u001b[0;34m,\u001b[0m \u001b[0;36m1\u001b[0m\u001b[0;34m)\u001b[0m\u001b[0;34m\u001b[0m\u001b[0m\n\u001b[0m\u001b[1;32m    289\u001b[0m \u001b[0;34m\u001b[0m\u001b[0m\n\u001b[1;32m    290\u001b[0m \u001b[0;34m\u001b[0m\u001b[0m\n",
      "\u001b[0;31mValueError\u001b[0m: all the input arrays must have same number of dimensions"
     ]
    }
   ],
   "source": [
    "hstack((a,d))  # fails because d is 1D"
   ]
  },
  {
   "cell_type": "code",
   "execution_count": 14,
   "metadata": {},
   "outputs": [
    {
     "data": {
      "text/plain": [
       "array([[2.2, 0. , 1.3, 0. ],\n",
       "       [3.3, 0. , 0. , 5.1]])"
      ]
     },
     "execution_count": 14,
     "metadata": {},
     "output_type": "execute_result"
    }
   ],
   "source": [
    "e = d.reshape((2,1))\n",
    "hstack((e,a))   # succeeds because we changed the shape of d"
   ]
  },
  {
   "cell_type": "markdown",
   "metadata": {},
   "source": [
    "# Put 1D arrays into a 2D array as columns"
   ]
  },
  {
   "cell_type": "markdown",
   "metadata": {},
   "source": [
    "Create a bunch of discrete times when we would sample the temperature, then create a matching set of temperature values. By specifying the population mean and standard deviation to sample from, we know roughly what our sample results should be. This is just some random data for the example."
   ]
  },
  {
   "cell_type": "code",
   "execution_count": 15,
   "metadata": {},
   "outputs": [],
   "source": [
    "cnt =11\n",
    "t = linspace(0,1,cnt)\n",
    "Tbar = 24\n",
    "sigmaT = 0.3\n",
    "T = Tbar + sigmaT * np.random.randn(cnt)"
   ]
  },
  {
   "cell_type": "code",
   "execution_count": 16,
   "metadata": {},
   "outputs": [
    {
     "data": {
      "text/plain": [
       "[<matplotlib.lines.Line2D at 0x1a1c68be48>]"
      ]
     },
     "execution_count": 16,
     "metadata": {},
     "output_type": "execute_result"
    },
    {
     "data": {
      "image/png": "[encoded data removed]",
      "text/plain": [
       "<Figure size 432x288 with 1 Axes>"
      ]
     },
     "metadata": {
      "needs_background": "light"
     },
     "output_type": "display_data"
    }
   ],
   "source": [
    "plot(t,T)"
   ]
  },
  {
   "cell_type": "code",
   "execution_count": 17,
   "metadata": {},
   "outputs": [
    {
     "data": {
      "text/plain": [
       "array([0. , 0.1, 0.2, 0.3, 0.4, 0.5, 0.6, 0.7, 0.8, 0.9, 1. ])"
      ]
     },
     "execution_count": 17,
     "metadata": {},
     "output_type": "execute_result"
    }
   ],
   "source": [
    "t"
   ]
  },
  {
   "cell_type": "code",
   "execution_count": 18,
   "metadata": {},
   "outputs": [
    {
     "data": {
      "text/plain": [
       "array([23.83520884, 24.4489209 , 23.80841778, 23.73567388, 24.54916164,\n",
       "       23.72526794, 24.62927071, 23.7852908 , 23.71295074, 23.81689271,\n",
       "       23.9347371 ])"
      ]
     },
     "execution_count": 18,
     "metadata": {},
     "output_type": "execute_result"
    }
   ],
   "source": [
    "T"
   ]
  },
  {
   "cell_type": "markdown",
   "metadata": {},
   "source": [
    "Now we have two vectors t and T that we can plot, which will usually meet all our needs. If we would like to combine them in a 2D table, with column 0 containing the time t and column 1, the temperature T. Leaving a couple of empty columns to fill in for later might be helpful. t.size is the number of elements in t[ ]. We could get the same result by using len(t)."
   ]
  },
  {
   "cell_type": "code",
   "execution_count": 19,
   "metadata": {},
   "outputs": [
    {
     "data": {
      "text/plain": [
       "array([[ 0.        , 23.83520884,  0.        ,  0.        ],\n",
       "       [ 0.1       , 24.4489209 ,  0.        ,  0.        ],\n",
       "       [ 0.2       , 23.80841778,  0.        ,  0.        ],\n",
       "       [ 0.3       , 23.73567388,  0.        ,  0.        ],\n",
       "       [ 0.4       , 24.54916164,  0.        ,  0.        ],\n",
       "       [ 0.5       , 23.72526794,  0.        ,  0.        ],\n",
       "       [ 0.6       , 24.62927071,  0.        ,  0.        ],\n",
       "       [ 0.7       , 23.7852908 ,  0.        ,  0.        ],\n",
       "       [ 0.8       , 23.71295074,  0.        ,  0.        ],\n",
       "       [ 0.9       , 23.81689271,  0.        ,  0.        ],\n",
       "       [ 1.        , 23.9347371 ,  0.        ,  0.        ]])"
      ]
     },
     "execution_count": 19,
     "metadata": {},
     "output_type": "execute_result"
    }
   ],
   "source": [
    "aa = zeros((t.size,4))\n",
    "aa[:,0] = t\n",
    "aa[:,1] = T\n",
    "aa"
   ]
  },
  {
   "cell_type": "markdown",
   "metadata": {},
   "source": [
    "Now take a new line of 4 values and add it on to the bottom of the array."
   ]
  },
  {
   "cell_type": "code",
   "execution_count": 20,
   "metadata": {},
   "outputs": [
    {
     "name": "stdout",
     "output_type": "stream",
     "text": [
      "[[ 0.         23.83520884  0.          0.        ]\n",
      " [ 0.1        24.4489209   0.          0.        ]\n",
      " [ 0.2        23.80841778  0.          0.        ]\n",
      " [ 0.3        23.73567388  0.          0.        ]\n",
      " [ 0.4        24.54916164  0.          0.        ]\n",
      " [ 0.5        23.72526794  0.          0.        ]\n",
      " [ 0.6        24.62927071  0.          0.        ]\n",
      " [ 0.7        23.7852908   0.          0.        ]\n",
      " [ 0.8        23.71295074  0.          0.        ]\n",
      " [ 0.9        23.81689271  0.          0.        ]\n",
      " [ 1.         23.9347371   0.          0.        ]\n",
      " [ 1.1        23.          3.          4.        ]]\n"
     ]
    }
   ],
   "source": [
    "new = array([1.1,23,3,4])\n",
    "aa = vstack((aa,new))\n",
    "print(aa)\n"
   ]
  },
  {
   "cell_type": "code",
   "execution_count": 21,
   "metadata": {},
   "outputs": [
    {
     "data": {
      "text/plain": [
       "[<matplotlib.lines.Line2D at 0x1a1c74bb38>]"
      ]
     },
     "execution_count": 21,
     "metadata": {},
     "output_type": "execute_result"
    },
    {
     "data": {
      "image/png": "[encoded data removed]",
      "text/plain": [
       "<Figure size 432x288 with 1 Axes>"
      ]
     },
     "metadata": {
      "needs_background": "light"
     },
     "output_type": "display_data"
    }
   ],
   "source": [
    "plot(aa[:,0],aa[:,1])"
   ]
  },
  {
   "cell_type": "markdown",
   "metadata": {
    "collapsed": true
   },
   "source": [
    "## We can reference different parts of the array by slicing using colons.\n",
    "\n",
    "Try some of your own to get the hang of it! The indices can be variables or expressions, not just constants."
   ]
  },
  {
   "cell_type": "code",
   "execution_count": 22,
   "metadata": {},
   "outputs": [
    {
     "name": "stdout",
     "output_type": "stream",
     "text": [
      "[[ 0.         23.83520884]\n",
      " [ 0.1        24.4489209 ]\n",
      " [ 0.2        23.80841778]\n",
      " [ 0.3        23.73567388]\n",
      " [ 0.4        24.54916164]\n",
      " [ 0.5        23.72526794]\n",
      " [ 0.6        24.62927071]\n",
      " [ 0.7        23.7852908 ]\n",
      " [ 0.8        23.71295074]\n",
      " [ 0.9        23.81689271]\n",
      " [ 1.         23.9347371 ]\n",
      " [ 1.1        23.        ]]\n"
     ]
    }
   ],
   "source": [
    "print(aa[:,0:2])"
   ]
  },
  {
   "cell_type": "code",
   "execution_count": 23,
   "metadata": {},
   "outputs": [
    {
     "name": "stdout",
     "output_type": "stream",
     "text": [
      "[[0.]\n",
      " [0.]\n",
      " [0.]]\n"
     ]
    }
   ],
   "source": [
    "print(aa[:3,3:])"
   ]
  },
  {
   "cell_type": "code",
   "execution_count": 24,
   "metadata": {},
   "outputs": [
    {
     "name": "stdout",
     "output_type": "stream",
     "text": [
      "[[23.72526794  0.          0.        ]\n",
      " [24.62927071  0.          0.        ]\n",
      " [23.7852908   0.          0.        ]\n",
      " [23.71295074  0.          0.        ]\n",
      " [23.81689271  0.          0.        ]\n",
      " [23.9347371   0.          0.        ]\n",
      " [23.          3.          4.        ]]\n"
     ]
    }
   ],
   "source": [
    "print(aa[5:,1:])"
   ]
  },
  {
   "cell_type": "code",
   "execution_count": 25,
   "metadata": {},
   "outputs": [
    {
     "data": {
      "text/plain": [
       "array([[ 0.        , 23.83520884,  0.        ,  0.        ],\n",
       "       [ 0.1       , 24.4489209 ,  0.        ,  0.        ],\n",
       "       [ 0.2       , 23.80841778,  0.        ,  0.        ],\n",
       "       [ 3.14159   , 23.73567388,  0.        ,  0.        ],\n",
       "       [ 0.4       , 24.54916164,  0.        ,  0.        ],\n",
       "       [ 0.5       , 23.72526794,  0.        ,  0.        ],\n",
       "       [ 0.6       , 24.62927071,  0.        ,  0.        ],\n",
       "       [ 0.7       , 23.7852908 ,  0.        ,  0.        ],\n",
       "       [ 0.8       , 23.71295074,  0.        ,  0.        ],\n",
       "       [ 0.9       , 23.81689271,  0.        ,  0.        ],\n",
       "       [ 1.        , 23.9347371 ,  0.        ,  0.        ],\n",
       "       [ 1.1       , 23.        ,  3.        ,  4.        ]])"
      ]
     },
     "execution_count": 25,
     "metadata": {},
     "output_type": "execute_result"
    }
   ],
   "source": [
    "def h(x):\n",
    "    x[3,0]=3.14159\n",
    "h(aa)\n",
    "aa"
   ]
  },
  {
   "cell_type": "code",
   "execution_count": 31,
   "metadata": {},
   "outputs": [
    {
     "name": "stdout",
     "output_type": "stream",
     "text": [
      "1 2 3\n",
      "(1, 4, 3)\n"
     ]
    },
    {
     "data": {
      "text/plain": [
       "(1, 2, 3)"
      ]
     },
     "execution_count": 31,
     "metadata": {},
     "output_type": "execute_result"
    }
   ],
   "source": [
    "a = (1,2,3)\n",
    "def g(x):\n",
    "    a,b,c = x\n",
    "    print(a,b,c)\n",
    "    b = 4\n",
    "    x = (a,b,c)\n",
    "    print(x)\n",
    "g(a)\n",
    "a"
   ]
  },
  {
   "cell_type": "code",
   "execution_count": null,
   "metadata": {},
   "outputs": [],
   "source": []
  },
  {
   "cell_type": "code",
   "execution_count": null,
   "metadata": {
    "collapsed": true
   },
   "outputs": [],
   "source": []
  },
  {
   "cell_type": "code",
   "execution_count": null,
   "metadata": {
    "collapsed": true
   },
   "outputs": [],
   "source": []
  }
 ],
 "metadata": {
  "anaconda-cloud": {},
  "kernelspec": {
   "display_name": "Python 3",
   "language": "python",
   "name": "python3"
  },
  "language_info": {
   "codemirror_mode": {
    "name": "ipython",
    "version": 3
   },
   "file_extension": ".py",
   "mimetype": "text/x-python",
   "name": "python",
   "nbconvert_exporter": "python",
   "pygments_lexer": "ipython3",
   "version": "3.6.6"
  },
  "nbpresent": {
   "slides": {
    "0940e74b-ccdd-40dc-954d-79a06c44d7ee": {
     "id": "0940e74b-ccdd-40dc-954d-79a06c44d7ee",
     "prev": "e3296e8e-746c-4769-94e0-21cfd46b8e08",
     "regions": {
      "b56d8833-5a28-4b61-b1b6-882456f3f295": {
       "attrs": {
        "height": 0.8,
        "width": 0.8,
        "x": 0.1,
        "y": 0.1
       },
       "content": {
        "cell": "36b8edae-d618-418e-a0b5-115bf906d5a0",
        "part": "whole"
       },
       "id": "b56d8833-5a28-4b61-b1b6-882456f3f295"
      }
     }
    },
    "1580b6d9-18e4-4df4-ac23-10e0b2880934": {
     "id": "1580b6d9-18e4-4df4-ac23-10e0b2880934",
     "prev": "a8b823a2-690c-46d1-9f7a-db9dc013620f",
     "regions": {
      "e10adf10-45b0-4d72-a0b3-49824486766d": {
       "attrs": {
        "height": 0.8,
        "width": 0.8,
        "x": 0.1,
        "y": 0.1
       },
       "content": {
        "cell": "599788cb-33a4-49fc-8557-cbc477e99ca3",
        "part": "whole"
       },
       "id": "e10adf10-45b0-4d72-a0b3-49824486766d"
      }
     }
    },
    "19f40fd1-4564-45fa-915b-4ad69bab39fd": {
     "id": "19f40fd1-4564-45fa-915b-4ad69bab39fd",
     "prev": "90ef9761-aeda-4ba9-a29f-058930570567",
     "regions": {
      "9511aa1e-fe35-4c65-9587-d04726e24a20": {
       "attrs": {
        "height": 0.8,
        "width": 0.8,
        "x": 0.1,
        "y": 0.1
       },
       "content": {
        "cell": "5cd31b2f-185d-4b37-8284-6a563bde1cfb",
        "part": "whole"
       },
       "id": "9511aa1e-fe35-4c65-9587-d04726e24a20"
      }
     }
    },
    "3f732970-dab2-4dec-bcf8-d614030901f2": {
     "id": "3f732970-dab2-4dec-bcf8-d614030901f2",
     "prev": "47b242a4-895a-47a4-a642-cf2016fa4aff",
     "regions": {
      "d141a402-b1c6-4d05-ac34-d59efdfaf550": {
       "attrs": {
        "height": 0.8,
        "width": 0.8,
        "x": 0.1,
        "y": 0.1
       },
       "content": {
        "cell": "84f2f92f-28ac-42a6-b605-aafc52901444",
        "part": "whole"
       },
       "id": "d141a402-b1c6-4d05-ac34-d59efdfaf550"
      }
     }
    },
    "47b242a4-895a-47a4-a642-cf2016fa4aff": {
     "id": "47b242a4-895a-47a4-a642-cf2016fa4aff",
     "prev": "1580b6d9-18e4-4df4-ac23-10e0b2880934",
     "regions": {
      "0d368343-72ee-4a6c-9d37-e73f9961d5ae": {
       "attrs": {
        "height": 0.8,
        "width": 0.8,
        "x": 0.1,
        "y": 0.1
       },
       "content": {
        "cell": "6027a0b2-4c6c-4b68-9a19-2d4838b42e4d",
        "part": "whole"
       },
       "id": "0d368343-72ee-4a6c-9d37-e73f9961d5ae"
      }
     }
    },
    "90ef9761-aeda-4ba9-a29f-058930570567": {
     "id": "90ef9761-aeda-4ba9-a29f-058930570567",
     "prev": null,
     "regions": {
      "c274fc54-073b-441b-92d7-082f05c4f38a": {
       "attrs": {
        "height": 0.8,
        "width": 0.8,
        "x": 0.1,
        "y": 0.1
       },
       "content": {
        "cell": "e4fe89cb-be2a-43ef-a816-8a53b203f455",
        "part": "whole"
       },
       "id": "c274fc54-073b-441b-92d7-082f05c4f38a"
      }
     }
    },
    "a8b823a2-690c-46d1-9f7a-db9dc013620f": {
     "id": "a8b823a2-690c-46d1-9f7a-db9dc013620f",
     "prev": "0940e74b-ccdd-40dc-954d-79a06c44d7ee",
     "regions": {
      "efd7079e-0725-41ed-ba88-c022638ec034": {
       "attrs": {
        "height": 0.8,
        "width": 0.8,
        "x": 0.1,
        "y": 0.1
       },
       "content": {
        "cell": "c2225207-f4d6-40a6-a0a8-137d78d88ffd",
        "part": "whole"
       },
       "id": "efd7079e-0725-41ed-ba88-c022638ec034"
      }
     }
    },
    "b04afee2-c377-45ed-8d7f-3b7218d7a42c": {
     "id": "b04afee2-c377-45ed-8d7f-3b7218d7a42c",
     "prev": "19f40fd1-4564-45fa-915b-4ad69bab39fd",
     "regions": {
      "201dca3d-9324-436f-a186-e2a5a9b3ce8b": {
       "attrs": {
        "height": 0.8,
        "width": 0.8,
        "x": 0.1,
        "y": 0.1
       },
       "content": {
        "cell": "070f4740-6510-479f-9f06-685a4c0b560a",
        "part": "whole"
       },
       "id": "201dca3d-9324-436f-a186-e2a5a9b3ce8b"
      }
     }
    },
    "b0c819be-6d64-4d7c-a9b3-952f53797805": {
     "id": "b0c819be-6d64-4d7c-a9b3-952f53797805",
     "prev": "3f732970-dab2-4dec-bcf8-d614030901f2",
     "regions": {
      "4ea0d7fd-294b-452b-9a34-e09f08ba8ded": {
       "attrs": {
        "height": 0.8,
        "width": 0.8,
        "x": 0.1,
        "y": 0.1
       },
       "content": {
        "cell": "94716fc8-bc7d-4e41-8c62-2781a7998588",
        "part": "whole"
       },
       "id": "4ea0d7fd-294b-452b-9a34-e09f08ba8ded"
      }
     }
    },
    "b34a29e9-3df5-4217-89bb-41014b0cb06a": {
     "id": "b34a29e9-3df5-4217-89bb-41014b0cb06a",
     "prev": "b0c819be-6d64-4d7c-a9b3-952f53797805",
     "regions": {
      "8010fc32-28e7-4455-875e-187cd34218e9": {
       "attrs": {
        "height": 0.8,
        "width": 0.8,
        "x": 0.1,
        "y": 0.1
       },
       "content": {
        "cell": "fa00fa48-b596-4dc3-945d-8cc34ebaeb06",
        "part": "whole"
       },
       "id": "8010fc32-28e7-4455-875e-187cd34218e9"
      }
     }
    },
    "e3296e8e-746c-4769-94e0-21cfd46b8e08": {
     "id": "e3296e8e-746c-4769-94e0-21cfd46b8e08",
     "prev": "b04afee2-c377-45ed-8d7f-3b7218d7a42c",
     "regions": {
      "0e6bf2e6-92a4-4f67-9444-b1e430bc91b7": {
       "attrs": {
        "height": 0.8,
        "width": 0.8,
        "x": 0.1,
        "y": 0.1
       },
       "content": {
        "cell": "9a2da165-8977-49c5-8300-3795e9353327",
        "part": "whole"
       },
       "id": "0e6bf2e6-92a4-4f67-9444-b1e430bc91b7"
      }
     }
    }
   },
   "themes": {}
  }
 },
 "nbformat": 4,
 "nbformat_minor": 1
}
