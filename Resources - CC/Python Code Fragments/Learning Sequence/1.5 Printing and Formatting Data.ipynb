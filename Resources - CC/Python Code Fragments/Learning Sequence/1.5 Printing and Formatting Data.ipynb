{
 "cells": [
  {
   "cell_type": "code",
   "execution_count": 1,
   "metadata": {},
   "outputs": [],
   "source": [
    "# gets all of numpy but you will still need to refer to e.g. numpy.random.randn() as random.randn()\n",
    "from numpy import *               # all of the array capable elements for numerical data          \n",
    "from scipy.stats import norm      # comprehensive functions for Gaussian normal distributions\n",
    "import csv                        # library for reading and writing comma separated value files\n",
    "from matplotlib.pyplot import *   # all of pyplot to graph the results of our calculations\n",
    "\n",
    "# put figures inline in the notebook, so you don't have to call show()\n",
    "%matplotlib inline\n",
    "\n",
    "# This lets you make the default figure size larger (or smaller)\n",
    "from IPython.core.pylabtools import figsize\n",
    "figsize(14, 7)"
   ]
  },
  {
   "cell_type": "markdown",
   "metadata": {
    "collapsed": true,
    "nbpresent": {
     "id": "15482a24-9adf-4abd-a4a9-cbef3bfe100d"
    }
   },
   "source": [
    "# Printing and Formatting Data \n",
    "This % formatting seems to be \"the old way\" but it works for me. You might want to be more up to date with https://www.python-course.eu/python3_formatted_output.php and .format(). You will have to google numpy's array_str() function yourself to find out all the options for formatting an array into a string."
   ]
  },
  {
   "cell_type": "code",
   "execution_count": 13,
   "metadata": {},
   "outputs": [
    {
     "name": "stdout",
     "output_type": "stream",
     "text": [
      "1 2.6\n",
      "[0.44898235]\n",
      " 2.60 with some text    1\n",
      " 2.60 with some text    1\n",
      "5 -1235786967 3.141592653589793\n",
      "A format string for unsigned     5, int -1235786967, and double    3.142\n",
      "A format string for unsigned     5, int -1235786967, and double    3.142\n",
      "[0.59 0.22 1.   0.36 0.87 0.19 0.69 0.29 0.14 0.44 0.98\n",
      " 0.5  0.95 0.39 0.91 0.74 0.56 0.03 0.03 0.53 0.2  0.47\n",
      " 0.06 0.47 0.77 0.97 0.68 0.78 0.99 0.77 0.53 0.08 0.78\n",
      " 0.52 0.26 0.1  0.87 0.44 0.92 0.92 0.15 0.19 0.13 0.38\n",
      " 0.2  0.08 0.71 0.72 0.67 0.93 0.17 0.75 0.36 0.38 0.09\n",
      " 0.69 0.37 0.16 0.53 0.7  0.48 0.99 0.12 0.63 0.68 0.03\n",
      " 0.32 0.63 0.41 0.76 0.01 0.12 0.09 0.34 0.33 0.72 0.33\n",
      " 0.18 0.51 0.18 0.19 0.37 0.78 0.66 0.24 0.39 0.01 0.7\n",
      " 0.08 0.02 0.96 0.37 0.9  0.64 0.11 0.68 0.72 0.8  0.53\n",
      " 0.45]\n"
     ]
    }
   ],
   "source": [
    "a = 1\n",
    "b = 2.6\n",
    "print(a,b)\n",
    "print(random.rand(1))\n",
    "print('%5.2f with some text %4d'%(b,a))\n",
    "print('{1:5.2f} with some text {0:4d}'.format(a,b))\n",
    "i = 5\n",
    "j = -1235786967\n",
    "x = pi\n",
    "print(i,j,x)\n",
    "print(\"A format string for unsigned %5u, int %7d, and double %8.3f\"%(i,j,x));\n",
    "print(\"A format string for unsigned {0:5d},\"\n",
    "      \" int {1:7d}, and double {2:8.3f}\".format(i,j,x));\n",
    "print(array_str(random.rand(100),precision = 2, max_line_width = 60))"
   ]
  },
  {
   "cell_type": "markdown",
   "metadata": {},
   "source": [
    "# Put 1D arrays into a 2D array as columns"
   ]
  },
  {
   "cell_type": "markdown",
   "metadata": {},
   "source": [
    "Create a bunch of discrete times when we would sample the temperature, then create a matching set of temperature values. By specifying the population mean and standard deviation to sample from, we know roughly what our sample results should be. This is just some random data for the example."
   ]
  },
  {
   "cell_type": "code",
   "execution_count": 5,
   "metadata": {},
   "outputs": [],
   "source": [
    "cnt =11\n",
    "t = linspace(0,1,cnt)\n",
    "Tbar = 24\n",
    "sigmaT = 0.3\n",
    "T = Tbar + sigmaT * random.randn(cnt)"
   ]
  },
  {
   "cell_type": "code",
   "execution_count": 6,
   "metadata": {},
   "outputs": [
    {
     "data": {
      "text/plain": [
       "array([0. , 0.1, 0.2, 0.3, 0.4, 0.5, 0.6, 0.7, 0.8, 0.9, 1. ])"
      ]
     },
     "execution_count": 6,
     "metadata": {},
     "output_type": "execute_result"
    }
   ],
   "source": [
    "t"
   ]
  },
  {
   "cell_type": "code",
   "execution_count": 7,
   "metadata": {},
   "outputs": [
    {
     "data": {
      "text/plain": [
       "array([23.39098005, 24.29180347, 24.22463885, 23.48001465, 24.75912157,\n",
       "       24.00972476, 24.07830972, 24.00533424, 23.87555595, 24.12018497,\n",
       "       24.61483809])"
      ]
     },
     "execution_count": 7,
     "metadata": {},
     "output_type": "execute_result"
    }
   ],
   "source": [
    "T"
   ]
  },
  {
   "cell_type": "code",
   "execution_count": 8,
   "metadata": {},
   "outputs": [
    {
     "name": "stdout",
     "output_type": "stream",
     "text": [
      "[23.39 24.29 24.22 23.48 24.76 24.01\n",
      " 24.08 24.01 23.88 24.12 24.61]\n"
     ]
    }
   ],
   "source": [
    "print(array_str(T, max_line_width=40, precision = 2))\n"
   ]
  },
  {
   "cell_type": "markdown",
   "metadata": {},
   "source": [
    "Now we have two vectors t and T that we would like to combine in a 2D table, with column 0 the time t and column 1, the temperature T. Leave a couple of empty columns for later. t.size is the number of elements in t[ ]. We could get the same result by using len(t)"
   ]
  },
  {
   "cell_type": "code",
   "execution_count": 9,
   "metadata": {},
   "outputs": [
    {
     "name": "stdout",
     "output_type": "stream",
     "text": [
      "[[ 0.   23.39  0.    0.  ]\n",
      " [ 0.1  24.29  0.    0.  ]\n",
      " [ 0.2  24.22  0.    0.  ]\n",
      " [ 0.3  23.48  0.    0.  ]\n",
      " [ 0.4  24.76  0.    0.  ]\n",
      " [ 0.5  24.01  0.    0.  ]\n",
      " [ 0.6  24.08  0.    0.  ]\n",
      " [ 0.7  24.01  0.    0.  ]\n",
      " [ 0.8  23.88  0.    0.  ]\n",
      " [ 0.9  24.12  0.    0.  ]\n",
      " [ 1.   24.61  0.    0.  ]]\n"
     ]
    }
   ],
   "source": [
    "a = zeros((t.size,4))\n",
    "a[:,0] = t\n",
    "a[:,1] = T\n",
    "print(array_str(a, max_line_width=200, precision=2))"
   ]
  },
  {
   "cell_type": "code",
   "execution_count": null,
   "metadata": {
    "collapsed": true
   },
   "outputs": [],
   "source": []
  }
 ],
 "metadata": {
  "anaconda-cloud": {},
  "kernelspec": {
   "display_name": "Python 3",
   "language": "python",
   "name": "python3"
  },
  "language_info": {
   "codemirror_mode": {
    "name": "ipython",
    "version": 3
   },
   "file_extension": ".py",
   "mimetype": "text/x-python",
   "name": "python",
   "nbconvert_exporter": "python",
   "pygments_lexer": "ipython3",
   "version": "3.6.6"
  },
  "nbpresent": {
   "slides": {
    "0940e74b-ccdd-40dc-954d-79a06c44d7ee": {
     "id": "0940e74b-ccdd-40dc-954d-79a06c44d7ee",
     "prev": "e3296e8e-746c-4769-94e0-21cfd46b8e08",
     "regions": {
      "b56d8833-5a28-4b61-b1b6-882456f3f295": {
       "attrs": {
        "height": 0.8,
        "width": 0.8,
        "x": 0.1,
        "y": 0.1
       },
       "content": {
        "cell": "36b8edae-d618-418e-a0b5-115bf906d5a0",
        "part": "whole"
       },
       "id": "b56d8833-5a28-4b61-b1b6-882456f3f295"
      }
     }
    },
    "1580b6d9-18e4-4df4-ac23-10e0b2880934": {
     "id": "1580b6d9-18e4-4df4-ac23-10e0b2880934",
     "prev": "a8b823a2-690c-46d1-9f7a-db9dc013620f",
     "regions": {
      "e10adf10-45b0-4d72-a0b3-49824486766d": {
       "attrs": {
        "height": 0.8,
        "width": 0.8,
        "x": 0.1,
        "y": 0.1
       },
       "content": {
        "cell": "599788cb-33a4-49fc-8557-cbc477e99ca3",
        "part": "whole"
       },
       "id": "e10adf10-45b0-4d72-a0b3-49824486766d"
      }
     }
    },
    "19f40fd1-4564-45fa-915b-4ad69bab39fd": {
     "id": "19f40fd1-4564-45fa-915b-4ad69bab39fd",
     "prev": "90ef9761-aeda-4ba9-a29f-058930570567",
     "regions": {
      "9511aa1e-fe35-4c65-9587-d04726e24a20": {
       "attrs": {
        "height": 0.8,
        "width": 0.8,
        "x": 0.1,
        "y": 0.1
       },
       "content": {
        "cell": "5cd31b2f-185d-4b37-8284-6a563bde1cfb",
        "part": "whole"
       },
       "id": "9511aa1e-fe35-4c65-9587-d04726e24a20"
      }
     }
    },
    "3f732970-dab2-4dec-bcf8-d614030901f2": {
     "id": "3f732970-dab2-4dec-bcf8-d614030901f2",
     "prev": "47b242a4-895a-47a4-a642-cf2016fa4aff",
     "regions": {
      "d141a402-b1c6-4d05-ac34-d59efdfaf550": {
       "attrs": {
        "height": 0.8,
        "width": 0.8,
        "x": 0.1,
        "y": 0.1
       },
       "content": {
        "cell": "84f2f92f-28ac-42a6-b605-aafc52901444",
        "part": "whole"
       },
       "id": "d141a402-b1c6-4d05-ac34-d59efdfaf550"
      }
     }
    },
    "47b242a4-895a-47a4-a642-cf2016fa4aff": {
     "id": "47b242a4-895a-47a4-a642-cf2016fa4aff",
     "prev": "1580b6d9-18e4-4df4-ac23-10e0b2880934",
     "regions": {
      "0d368343-72ee-4a6c-9d37-e73f9961d5ae": {
       "attrs": {
        "height": 0.8,
        "width": 0.8,
        "x": 0.1,
        "y": 0.1
       },
       "content": {
        "cell": "6027a0b2-4c6c-4b68-9a19-2d4838b42e4d",
        "part": "whole"
       },
       "id": "0d368343-72ee-4a6c-9d37-e73f9961d5ae"
      }
     }
    },
    "90ef9761-aeda-4ba9-a29f-058930570567": {
     "id": "90ef9761-aeda-4ba9-a29f-058930570567",
     "prev": null,
     "regions": {
      "c274fc54-073b-441b-92d7-082f05c4f38a": {
       "attrs": {
        "height": 0.8,
        "width": 0.8,
        "x": 0.1,
        "y": 0.1
       },
       "content": {
        "cell": "e4fe89cb-be2a-43ef-a816-8a53b203f455",
        "part": "whole"
       },
       "id": "c274fc54-073b-441b-92d7-082f05c4f38a"
      }
     }
    },
    "a8b823a2-690c-46d1-9f7a-db9dc013620f": {
     "id": "a8b823a2-690c-46d1-9f7a-db9dc013620f",
     "prev": "0940e74b-ccdd-40dc-954d-79a06c44d7ee",
     "regions": {
      "efd7079e-0725-41ed-ba88-c022638ec034": {
       "attrs": {
        "height": 0.8,
        "width": 0.8,
        "x": 0.1,
        "y": 0.1
       },
       "content": {
        "cell": "c2225207-f4d6-40a6-a0a8-137d78d88ffd",
        "part": "whole"
       },
       "id": "efd7079e-0725-41ed-ba88-c022638ec034"
      }
     }
    },
    "b04afee2-c377-45ed-8d7f-3b7218d7a42c": {
     "id": "b04afee2-c377-45ed-8d7f-3b7218d7a42c",
     "prev": "19f40fd1-4564-45fa-915b-4ad69bab39fd",
     "regions": {
      "201dca3d-9324-436f-a186-e2a5a9b3ce8b": {
       "attrs": {
        "height": 0.8,
        "width": 0.8,
        "x": 0.1,
        "y": 0.1
       },
       "content": {
        "cell": "070f4740-6510-479f-9f06-685a4c0b560a",
        "part": "whole"
       },
       "id": "201dca3d-9324-436f-a186-e2a5a9b3ce8b"
      }
     }
    },
    "b0c819be-6d64-4d7c-a9b3-952f53797805": {
     "id": "b0c819be-6d64-4d7c-a9b3-952f53797805",
     "prev": "3f732970-dab2-4dec-bcf8-d614030901f2",
     "regions": {
      "4ea0d7fd-294b-452b-9a34-e09f08ba8ded": {
       "attrs": {
        "height": 0.8,
        "width": 0.8,
        "x": 0.1,
        "y": 0.1
       },
       "content": {
        "cell": "94716fc8-bc7d-4e41-8c62-2781a7998588",
        "part": "whole"
       },
       "id": "4ea0d7fd-294b-452b-9a34-e09f08ba8ded"
      }
     }
    },
    "b34a29e9-3df5-4217-89bb-41014b0cb06a": {
     "id": "b34a29e9-3df5-4217-89bb-41014b0cb06a",
     "prev": "b0c819be-6d64-4d7c-a9b3-952f53797805",
     "regions": {
      "8010fc32-28e7-4455-875e-187cd34218e9": {
       "attrs": {
        "height": 0.8,
        "width": 0.8,
        "x": 0.1,
        "y": 0.1
       },
       "content": {
        "cell": "fa00fa48-b596-4dc3-945d-8cc34ebaeb06",
        "part": "whole"
       },
       "id": "8010fc32-28e7-4455-875e-187cd34218e9"
      }
     }
    },
    "e3296e8e-746c-4769-94e0-21cfd46b8e08": {
     "id": "e3296e8e-746c-4769-94e0-21cfd46b8e08",
     "prev": "b04afee2-c377-45ed-8d7f-3b7218d7a42c",
     "regions": {
      "0e6bf2e6-92a4-4f67-9444-b1e430bc91b7": {
       "attrs": {
        "height": 0.8,
        "width": 0.8,
        "x": 0.1,
        "y": 0.1
       },
       "content": {
        "cell": "9a2da165-8977-49c5-8300-3795e9353327",
        "part": "whole"
       },
       "id": "0e6bf2e6-92a4-4f67-9444-b1e430bc91b7"
      }
     }
    }
   },
   "themes": {}
  }
 },
 "nbformat": 4,
 "nbformat_minor": 1
}
