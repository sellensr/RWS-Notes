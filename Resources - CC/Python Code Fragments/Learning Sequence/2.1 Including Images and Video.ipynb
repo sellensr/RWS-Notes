{
 "cells": [
  {
   "cell_type": "markdown",
   "metadata": {},
   "source": [
    "# Including Images and Video in a Notebook"
   ]
  },
  {
   "cell_type": "markdown",
   "metadata": {},
   "source": [
    "## Click the image to play a video \n",
    "<a href=\"http://www.youtube.com/watch?feature=player_embedded&v=-bEeVGgU-PI\" target=\"_blank\"> \n",
    "<img src=\"http://img.youtube.com/vi/-bEeVGgU-PI/0.jpg\" \n",
    "alt=\"IMAGE ALT TEXT HERE\" width=\"480\" height=\"360\" border=\"10\" /></a>\n",
    "\n",
    "This cell follows the example in this code from https://github.com/adam-p/markdown-here/wiki/Markdown-Cheatsheet to link to a youtube video for playback.\n",
    "\n",
    "`<a href=\"http://www.youtube.com/watch?feature=player_embedded&v=YOUTUBE_VIDEO_ID_HERE\n",
    "\" target=\"_blank\"><img src=\"http://img.youtube.com/vi/YOUTUBE_VIDEO_ID_HERE/0.jpg\" \n",
    "alt=\"IMAGE ALT TEXT HERE\" width=\"240\" height=\"180\" border=\"10\" /></a>`"
   ]
  },
  {
   "cell_type": "markdown",
   "metadata": {},
   "source": [
    "## Here's how to include a graphic image\n",
    "\n",
    "This is a really fast way to get your hand drawn sketches and equations into your notebook. Just snap a picture with your phone and paste it in.\n",
    "\n",
    "<img src='Analog Formula Screen Shot 2017-08-10 at 11.44.26.png' style=\"width: 300px;\">\n",
    "\n",
    "Use code like \n",
    "\n",
    "`<img src='Analog Formula Screen Shot 2017-08-10 at 11.44.26.png' style=\"width: 300px;\">`\n",
    "\n",
    "with the image file in the same folder as the notebook file\n",
    "to include the image. Get some more hints on using markdown at https://github.com/adam-p/markdown-here/wiki/Markdown-Cheatsheet or simply by googling something like \"img size in markdown\".\n"
   ]
  },
  {
   "cell_type": "code",
   "execution_count": null,
   "metadata": {
    "collapsed": true
   },
   "outputs": [],
   "source": []
  },
  {
   "cell_type": "code",
   "execution_count": null,
   "metadata": {
    "collapsed": true
   },
   "outputs": [],
   "source": []
  }
 ],
 "metadata": {
  "kernelspec": {
   "display_name": "Python 3",
   "language": "python",
   "name": "python3"
  },
  "language_info": {
   "codemirror_mode": {
    "name": "ipython",
    "version": 3
   },
   "file_extension": ".py",
   "mimetype": "text/x-python",
   "name": "python",
   "nbconvert_exporter": "python",
   "pygments_lexer": "ipython3",
   "version": "3.6.4"
  }
 },
 "nbformat": 4,
 "nbformat_minor": 2
}
