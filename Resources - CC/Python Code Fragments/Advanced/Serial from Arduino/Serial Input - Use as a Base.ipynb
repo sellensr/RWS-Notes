{
 "cells": [
  {
   "cell_type": "markdown",
   "metadata": {},
   "source": [
    "# Start out with 'Serial Input' to understand the process\n",
    "Use this code as a starting point to pull in serial data once you know how things work."
   ]
  },
  {
   "cell_type": "code",
   "execution_count": 32,
   "metadata": {
    "collapsed": false
   },
   "outputs": [],
   "source": [
    "%matplotlib inline\n",
    "import numpy as np\n",
    "import matplotlib.pyplot as plt\n",
    "import time\n",
    "import serial\n",
    "import serial.tools.list_ports"
   ]
  },
  {
   "cell_type": "markdown",
   "metadata": {},
   "source": [
    "## Make sure the Arduino is plugged in and available\n",
    "\n",
    "If the IDE and/or the serial monitor are open, Jupyter may not be able to get access to the serial port. Run the cell to see a list of serial ports, then use the right format in the next cell to open the port you have the arduino plugged into."
   ]
  },
  {
   "cell_type": "code",
   "execution_count": 33,
   "metadata": {
    "collapsed": false
   },
   "outputs": [
    {
     "name": "stdout",
     "output_type": "stream",
     "text": [
      "/dev/cu.Bluetooth-Incoming-Port - n/a\n",
      "/dev/cu.usbmodemFD1461 - Generic CDC\n"
     ]
    }
   ],
   "source": [
    "# Show a list of existing serial ports so you can decide what to open\n",
    "ports = list(serial.tools.list_ports.comports())\n",
    "for p in ports:\n",
    "    print(p)"
   ]
  },
  {
   "cell_type": "code",
   "execution_count": 34,
   "metadata": {
    "collapsed": false
   },
   "outputs": [],
   "source": [
    "# Serial port must not be in use by another application, or complex errors will show up\n",
    "# Be sure the Arduino serial monitor is closed before you run this cell!\n",
    "#ser = serial.Serial('/dev/cu.usbmodemFD14131',115200,timeout=1)\n",
    "#ser = serial.Serial('/dev/cu.usbmodem1A1321',115200,timeout=1)\n",
    "#ser = serial.Serial('/dev/cu.usbmodem1411',115200,timeout=1)\n",
    "ser = serial.Serial('/dev/cu.usbmodemFD1461',115200,timeout=1)\n",
    "#ser = serial.Serial('COM3',115200,timeout=1)"
   ]
  },
  {
   "cell_type": "code",
   "execution_count": 35,
   "metadata": {
    "collapsed": false
   },
   "outputs": [
    {
     "name": "stdout",
     "output_type": "stream",
     "text": [
      "done\n"
     ]
    }
   ],
   "source": [
    "def catchUp():   # get rid of any data lying around the serial buffer\n",
    "    while ser.in_waiting > 100:  # read just about everything that's there\n",
    "        ser.reset_input_buffer()   # throwaway everything in the buffer\n",
    "        ser.readline()\n",
    "    ser.readline()\n",
    "    \n",
    "catchUp()\n",
    "print(\"done\")"
   ]
  },
  {
   "cell_type": "code",
   "execution_count": 45,
   "metadata": {
    "collapsed": false
   },
   "outputs": [
    {
     "name": "stdout",
     "output_type": "stream",
     "text": [
      "[['14828048' ' 711.00' ' 0.76' ' 26.43']\n",
      " ['14834904' ' 709.00' ' 0.76' ' 26.22']\n",
      " ['14841768' ' 711.00' ' 0.76' ' 26.43']]\n"
     ]
    },
    {
     "data": {
      "text/plain": [
       "[<matplotlib.lines.Line2D at 0x11372db00>,\n",
       " <matplotlib.lines.Line2D at 0x11372dcc0>]"
      ]
     },
     "execution_count": 45,
     "metadata": {},
     "output_type": "execute_result"
    },
    {
     "data": {
      "image/png": "[encoded data removed]",
      "text/plain": [
       "<matplotlib.figure.Figure at 0x11356fb70>"
      ]
     },
     "metadata": {},
     "output_type": "display_data"
    }
   ],
   "source": [
    "lines = 2000   # the number of lines you want to read from the arduino\n",
    "a = []        # a[] is just a list for now...\n",
    "\n",
    "catchUp()\n",
    "\n",
    "# read in a whole lot of lines from the serial port and append them to a[]\n",
    "for i in range(0,lines+1):\n",
    "    #read, then decode into simple ASCII, strip off whitespace and split at commas\n",
    "    a.append(ser.readline().decode(\"utf-8\").strip().split(','))\n",
    "    \n",
    "a = np.asarray(a)                              # convert a[] into an np.array\n",
    "print(a[:3,:])                                 # print a few lines to be sure it worked  \n",
    "d = np.asfarray(a[1:,1:])                      # slice to get the data columns as floats\n",
    "micros = np.asfarray(a[1:,0],dtype=np.uint32)  # and the first column as time in unsigned 32 bit\n",
    "plt.plot(micros,d[:,0],micros,d[:,1])"
   ]
  },
  {
   "cell_type": "code",
   "execution_count": 24,
   "metadata": {
    "collapsed": false
   },
   "outputs": [
    {
     "name": "stdout",
     "output_type": "stream",
     "text": [
      "True\n"
     ]
    }
   ],
   "source": [
    "print(ser.isOpen())"
   ]
  },
  {
   "cell_type": "code",
   "execution_count": 25,
   "metadata": {
    "collapsed": true
   },
   "outputs": [],
   "source": [
    "ser.close()"
   ]
  },
  {
   "cell_type": "markdown",
   "metadata": {},
   "source": [
    "## Write out the data to a file\n",
    "You need to open the file ('tmpYY-MM-DD-hh-mm-ss.csv' will wind up in the current directory) in order to write on it ('w'), then write a whole series of lines. Putting a time stamp on means you won't overwrite the last data you took by mistake, but may make things difficult to keep track of. Change the file names as soon as practical and delete the ones you don't need.\n",
    "\n",
    "I googled and found the timestamp code here:\n",
    "\n",
    "http://www.pythonforbeginners.com/basics/python-datetime-time-examples"
   ]
  },
  {
   "cell_type": "code",
   "execution_count": 46,
   "metadata": {
    "collapsed": false
   },
   "outputs": [
    {
     "name": "stdout",
     "output_type": "stream",
     "text": [
      "Data written to: tmp17-03-05-20-44-34.csv\n"
     ]
    }
   ],
   "source": [
    "import datetime\n",
    "fn = ('tmp' \n",
    "      + datetime.datetime.now().strftime(\"%y-%m-%d-%H-%M-%S\") \n",
    "      + '.csv')\n",
    "f = open(fn,'w')\n",
    "for i in range(0,lines):\n",
    "    f.write(\"%d, \" % micros[i])\n",
    "    for x in d[i]: f.write(\"%f, \" % x)\n",
    "    f.write(\"\\n\")\n",
    "f.close()\n",
    "print(\"Data written to: \"+fn)"
   ]
  },
  {
   "cell_type": "code",
   "execution_count": null,
   "metadata": {
    "collapsed": true
   },
   "outputs": [],
   "source": []
  }
 ],
 "metadata": {
  "anaconda-cloud": {},
  "kernelspec": {
   "display_name": "Python 3",
   "language": "python",
   "name": "python3"
  },
  "language_info": {
   "codemirror_mode": {
    "name": "ipython",
    "version": 3
   },
   "file_extension": ".py",
   "mimetype": "text/x-python",
   "name": "python",
   "nbconvert_exporter": "python",
   "pygments_lexer": "ipython3",
   "version": "3.6.0"
  }
 },
 "nbformat": 4,
 "nbformat_minor": 0
}
