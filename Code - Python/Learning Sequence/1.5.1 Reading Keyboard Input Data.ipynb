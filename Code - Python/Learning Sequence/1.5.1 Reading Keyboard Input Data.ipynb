{
 "cells": [
  {
   "cell_type": "code",
   "execution_count": null,
   "metadata": {},
   "outputs": [],
   "source": [
    "# gets all of numpy but you will still need to refer to e.g. numpy.random.randn() as random.randn()\n",
    "from numpy import *               # all of the array capable elements for numerical data          \n",
    "from scipy.stats import norm      # comprehensive functions for Gaussian normal distributions\n",
    "import csv                        # library for reading and writing comma separated value files\n",
    "from matplotlib.pyplot import *   # all of pyplot to graph the results of our calculations\n",
    "\n",
    "# put figures inline in the notebook, so you don't have to call show()\n",
    "%matplotlib inline\n",
    "\n",
    "# This lets you make the default figure size larger (or smaller)\n",
    "from IPython.core.pylabtools import figsize\n",
    "figsize(14, 7)"
   ]
  },
  {
   "cell_type": "markdown",
   "metadata": {
    "collapsed": true,
    "nbpresent": {
     "id": "15482a24-9adf-4abd-a4a9-cbef3bfe100d"
    }
   },
   "source": [
    "# Getting input from the keyboard \n",
    "The input() function reads a string of data from the keyboard. It could be any text you can type. The function conveniently leaves off any newline characters when you hit the return key and expects only ordinary letters and numbers as input. \n"
   ]
  },
  {
   "cell_type": "code",
   "execution_count": null,
   "metadata": {},
   "outputs": [],
   "source": [
    "text = input(\"Type some text:\")\n",
    "print(\"You typed>>\"+text+\"<<\")"
   ]
  },
  {
   "cell_type": "markdown",
   "metadata": {},
   "source": [
    "# Turning text into numbers\n",
    "We almost always want some numbers for our engineering calculations. See what happens if you give this code something other than an integer."
   ]
  },
  {
   "cell_type": "code",
   "execution_count": null,
   "metadata": {},
   "outputs": [],
   "source": [
    "text = input(\"Enter a number:\")\n",
    "print(\"You typed>>\"+text+\"<<\")\n",
    "print('As an integer it converts to: {0:d}'.format(int(text)))"
   ]
  },
  {
   "cell_type": "markdown",
   "metadata": {},
   "source": [
    "Errors like the ValueError generated when the text can't be converted to an integer are often referred to as exceptions. You can avoid having your code crash by **try**ing the conversion and responding appropriately if it generates an **except**ion. "
   ]
  },
  {
   "cell_type": "code",
   "execution_count": null,
   "metadata": {},
   "outputs": [],
   "source": [
    "text = input(\"Enter a number:\")\n",
    "print(\"You typed>>\"+text+\"<<\")\n",
    "try: \n",
    "    i = int(text)\n",
    "except:\n",
    "    print(\"Exception generated: \" + text + \" is not an integer -- setting i to zero\")\n",
    "    i = 0\n",
    "print('As an integer it was converted to: {0:d}'.format(i))"
   ]
  },
  {
   "cell_type": "code",
   "execution_count": null,
   "metadata": {},
   "outputs": [],
   "source": [
    "text = input(\"Enter a floating point number:\")\n",
    "print(\"You typed>>\"+text+\"<<\")\n",
    "try: \n",
    "    x = float(text)\n",
    "except:\n",
    "    print(\"Exception generated: \" + text + \" is not a number -- setting x to 0.0\")\n",
    "    x = 0.0\n",
    "print('As a float it was converted to: {0:f}'.format(x))\n",
    "print('As a float it was converted to: {0:.2f}'.format(x))\n",
    "print('As a float it was converted to: {0:10.7f}'.format(x))"
   ]
  },
  {
   "cell_type": "markdown",
   "metadata": {},
   "source": [
    "Programming user interfaces (UI) can be difficult because you need to make sure that your code will work OK, no matter what the unpredicatable user might choose to do."
   ]
  },
  {
   "cell_type": "code",
   "execution_count": null,
   "metadata": {},
   "outputs": [],
   "source": []
  },
  {
   "cell_type": "code",
   "execution_count": null,
   "metadata": {},
   "outputs": [],
   "source": []
  }
 ],
 "metadata": {
  "anaconda-cloud": {},
  "kernelspec": {
   "display_name": "Python 3",
   "language": "python",
   "name": "python3"
  },
  "language_info": {
   "codemirror_mode": {
    "name": "ipython",
    "version": 3
   },
   "file_extension": ".py",
   "mimetype": "text/x-python",
   "name": "python",
   "nbconvert_exporter": "python",
   "pygments_lexer": "ipython3",
   "version": "3.6.6"
  },
  "nbpresent": {
   "slides": {
    "0940e74b-ccdd-40dc-954d-79a06c44d7ee": {
     "id": "0940e74b-ccdd-40dc-954d-79a06c44d7ee",
     "prev": "e3296e8e-746c-4769-94e0-21cfd46b8e08",
     "regions": {
      "b56d8833-5a28-4b61-b1b6-882456f3f295": {
       "attrs": {
        "height": 0.8,
        "width": 0.8,
        "x": 0.1,
        "y": 0.1
       },
       "content": {
        "cell": "36b8edae-d618-418e-a0b5-115bf906d5a0",
        "part": "whole"
       },
       "id": "b56d8833-5a28-4b61-b1b6-882456f3f295"
      }
     }
    },
    "1580b6d9-18e4-4df4-ac23-10e0b2880934": {
     "id": "1580b6d9-18e4-4df4-ac23-10e0b2880934",
     "prev": "a8b823a2-690c-46d1-9f7a-db9dc013620f",
     "regions": {
      "e10adf10-45b0-4d72-a0b3-49824486766d": {
       "attrs": {
        "height": 0.8,
        "width": 0.8,
        "x": 0.1,
        "y": 0.1
       },
       "content": {
        "cell": "599788cb-33a4-49fc-8557-cbc477e99ca3",
        "part": "whole"
       },
       "id": "e10adf10-45b0-4d72-a0b3-49824486766d"
      }
     }
    },
    "19f40fd1-4564-45fa-915b-4ad69bab39fd": {
     "id": "19f40fd1-4564-45fa-915b-4ad69bab39fd",
     "prev": "90ef9761-aeda-4ba9-a29f-058930570567",
     "regions": {
      "9511aa1e-fe35-4c65-9587-d04726e24a20": {
       "attrs": {
        "height": 0.8,
        "width": 0.8,
        "x": 0.1,
        "y": 0.1
       },
       "content": {
        "cell": "5cd31b2f-185d-4b37-8284-6a563bde1cfb",
        "part": "whole"
       },
       "id": "9511aa1e-fe35-4c65-9587-d04726e24a20"
      }
     }
    },
    "3f732970-dab2-4dec-bcf8-d614030901f2": {
     "id": "3f732970-dab2-4dec-bcf8-d614030901f2",
     "prev": "47b242a4-895a-47a4-a642-cf2016fa4aff",
     "regions": {
      "d141a402-b1c6-4d05-ac34-d59efdfaf550": {
       "attrs": {
        "height": 0.8,
        "width": 0.8,
        "x": 0.1,
        "y": 0.1
       },
       "content": {
        "cell": "84f2f92f-28ac-42a6-b605-aafc52901444",
        "part": "whole"
       },
       "id": "d141a402-b1c6-4d05-ac34-d59efdfaf550"
      }
     }
    },
    "47b242a4-895a-47a4-a642-cf2016fa4aff": {
     "id": "47b242a4-895a-47a4-a642-cf2016fa4aff",
     "prev": "1580b6d9-18e4-4df4-ac23-10e0b2880934",
     "regions": {
      "0d368343-72ee-4a6c-9d37-e73f9961d5ae": {
       "attrs": {
        "height": 0.8,
        "width": 0.8,
        "x": 0.1,
        "y": 0.1
       },
       "content": {
        "cell": "6027a0b2-4c6c-4b68-9a19-2d4838b42e4d",
        "part": "whole"
       },
       "id": "0d368343-72ee-4a6c-9d37-e73f9961d5ae"
      }
     }
    },
    "90ef9761-aeda-4ba9-a29f-058930570567": {
     "id": "90ef9761-aeda-4ba9-a29f-058930570567",
     "prev": null,
     "regions": {
      "c274fc54-073b-441b-92d7-082f05c4f38a": {
       "attrs": {
        "height": 0.8,
        "width": 0.8,
        "x": 0.1,
        "y": 0.1
       },
       "content": {
        "cell": "e4fe89cb-be2a-43ef-a816-8a53b203f455",
        "part": "whole"
       },
       "id": "c274fc54-073b-441b-92d7-082f05c4f38a"
      }
     }
    },
    "a8b823a2-690c-46d1-9f7a-db9dc013620f": {
     "id": "a8b823a2-690c-46d1-9f7a-db9dc013620f",
     "prev": "0940e74b-ccdd-40dc-954d-79a06c44d7ee",
     "regions": {
      "efd7079e-0725-41ed-ba88-c022638ec034": {
       "attrs": {
        "height": 0.8,
        "width": 0.8,
        "x": 0.1,
        "y": 0.1
       },
       "content": {
        "cell": "c2225207-f4d6-40a6-a0a8-137d78d88ffd",
        "part": "whole"
       },
       "id": "efd7079e-0725-41ed-ba88-c022638ec034"
      }
     }
    },
    "b04afee2-c377-45ed-8d7f-3b7218d7a42c": {
     "id": "b04afee2-c377-45ed-8d7f-3b7218d7a42c",
     "prev": "19f40fd1-4564-45fa-915b-4ad69bab39fd",
     "regions": {
      "201dca3d-9324-436f-a186-e2a5a9b3ce8b": {
       "attrs": {
        "height": 0.8,
        "width": 0.8,
        "x": 0.1,
        "y": 0.1
       },
       "content": {
        "cell": "070f4740-6510-479f-9f06-685a4c0b560a",
        "part": "whole"
       },
       "id": "201dca3d-9324-436f-a186-e2a5a9b3ce8b"
      }
     }
    },
    "b0c819be-6d64-4d7c-a9b3-952f53797805": {
     "id": "b0c819be-6d64-4d7c-a9b3-952f53797805",
     "prev": "3f732970-dab2-4dec-bcf8-d614030901f2",
     "regions": {
      "4ea0d7fd-294b-452b-9a34-e09f08ba8ded": {
       "attrs": {
        "height": 0.8,
        "width": 0.8,
        "x": 0.1,
        "y": 0.1
       },
       "content": {
        "cell": "94716fc8-bc7d-4e41-8c62-2781a7998588",
        "part": "whole"
       },
       "id": "4ea0d7fd-294b-452b-9a34-e09f08ba8ded"
      }
     }
    },
    "b34a29e9-3df5-4217-89bb-41014b0cb06a": {
     "id": "b34a29e9-3df5-4217-89bb-41014b0cb06a",
     "prev": "b0c819be-6d64-4d7c-a9b3-952f53797805",
     "regions": {
      "8010fc32-28e7-4455-875e-187cd34218e9": {
       "attrs": {
        "height": 0.8,
        "width": 0.8,
        "x": 0.1,
        "y": 0.1
       },
       "content": {
        "cell": "fa00fa48-b596-4dc3-945d-8cc34ebaeb06",
        "part": "whole"
       },
       "id": "8010fc32-28e7-4455-875e-187cd34218e9"
      }
     }
    },
    "e3296e8e-746c-4769-94e0-21cfd46b8e08": {
     "id": "e3296e8e-746c-4769-94e0-21cfd46b8e08",
     "prev": "b04afee2-c377-45ed-8d7f-3b7218d7a42c",
     "regions": {
      "0e6bf2e6-92a4-4f67-9444-b1e430bc91b7": {
       "attrs": {
        "height": 0.8,
        "width": 0.8,
        "x": 0.1,
        "y": 0.1
       },
       "content": {
        "cell": "9a2da165-8977-49c5-8300-3795e9353327",
        "part": "whole"
       },
       "id": "0e6bf2e6-92a4-4f67-9444-b1e430bc91b7"
      }
     }
    }
   },
   "themes": {}
  }
 },
 "nbformat": 4,
 "nbformat_minor": 1
}
