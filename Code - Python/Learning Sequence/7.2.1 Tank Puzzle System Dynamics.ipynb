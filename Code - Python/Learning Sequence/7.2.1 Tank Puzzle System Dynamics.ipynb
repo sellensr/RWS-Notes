{
 "cells": [
  {
   "cell_type": "markdown",
   "metadata": {},
   "source": [
    "## Tank Puzzle\n",
    "You have probably seen puzzles like this on your social feed. The point is usually to notice some of the pipes are blocked (tanks D and H), but that ignores the engineering fact that it takes time for water to flow through the pipes and equalize. Let's get a better solution and learn how to handle a non-linear system of differential equations at the same time.\n",
    "\n",
    "<img src='Tank Puzzle.png'>\n",
    "\n",
    "Laminar flow rate $Q$ in a tube depends on the elevation difference $H$ and the friction in the tube which is proportional to length $L$ of the tube and viscosity $\\nu$ of the liquid\n",
    "\n",
    "\\begin{equation}\n",
    "Q = \\frac{\\pi g}{128 \\nu}\\frac{L}{D^4}H\n",
    "\\end{equation}\n",
    "\n",
    "if we ignore the forces that go into accelerating the fluid. It gets more complicated if we add that in, and considerably more complicated if we account for the possibility turbulent flow. \n",
    "\n",
    "Let's build that into a function and try it for a basic case like a 1 cm tube."
   ]
  },
  {
   "cell_type": "code",
   "execution_count": 1,
   "metadata": {},
   "outputs": [],
   "source": [
    "%matplotlib inline\n",
    "from numpy import *                # numerical library\n",
    "import matplotlib.pyplot as plt"
   ]
  },
  {
   "cell_type": "code",
   "execution_count": 2,
   "metadata": {},
   "outputs": [
    {
     "data": {
      "text/plain": [
       "0.0024067544969610557"
      ]
     },
     "execution_count": 2,
     "metadata": {},
     "output_type": "execute_result"
    }
   ],
   "source": [
    "def Q(H,L,D):\n",
    "    # From Fluid Mechanics for an elevation difference H, pipe length L and Diameter D\n",
    "    # flow rate Q depends on flow regime and other factors. Here we will assume a simple \n",
    "    # laminar flow in a smooth tube and ignore all forces except friction.\n",
    "    nu = 1e-6                 # the kinematic viscosity of water\n",
    "    g = 9.806                 # acceleration due to gravity\n",
    "    Q = pi * g / (128 * nu) * D**4/L * H    \n",
    "    return Q\n",
    "    \n",
    "Q(1,1,.01)"
   ]
  },
  {
   "cell_type": "markdown",
   "metadata": {},
   "source": [
    "Do a reasonableness check on the numbers, noting that 0.00033 m^3/s is 1/3 of a litre per second, about one beverage can. That flow seems too high to me! We need to account for the elevation change accelerating the fluid. Even if there was no friction, the flow velocity will be limited by conservation of energy following Bernoulli's equation.\n",
    "\n",
    "This next function is ugly with a whole lot of things that could be improved with better numerics (which you'll get in your math courses), but it is great to illustrate the point of how to cope with a process based function Q() that isn't readily written as an explicit formula!"
   ]
  },
  {
   "cell_type": "code",
   "execution_count": 5,
   "metadata": {},
   "outputs": [
    {
     "data": {
      "text/plain": [
       "-0.00031215407719007414"
      ]
     },
     "execution_count": 5,
     "metadata": {},
     "output_type": "execute_result"
    }
   ],
   "source": [
    "def Q(H,L,D):\n",
    "    # From Fluid Mechanics for an elevation difference H, pipe length L and Diameter D\n",
    "    # flow rate Q depends on flow regime and other factors. Here we will assume a simple \n",
    "    # laminar flow in a smooth tube and ignore the entry and exit losses and iterate \n",
    "    # towards a solution that balances the friction, gravity and dynamics.\n",
    "    if(abs(H)<0.001): return 0\n",
    "    sign = 1                  # for negative H calculate positive, then reverse at the end\n",
    "    if(H < 0):                # otherwise the sqrt() will cause problems\n",
    "        H *= -1\n",
    "        sign *= -1\n",
    "    nu = 1e-6                 # the kinematic viscosity of water\n",
    "    g = 9.806                 # acceleration due to gravity\n",
    "    V = sqrt(2*g*H)           # ignore friction on the first guess\n",
    "    delta = 1                 # a change measure\n",
    "    n = 0                     # iterations\n",
    "    while(delta > 0.0001 and n < 1000):     # improve the estimate\n",
    "        # What elevation would be required to overcome friction\n",
    "        delta = V\n",
    "        Hf = 32 * nu / g * L / D**2 * V\n",
    "        # move slowly towards the right answer to avoid numerical instability \n",
    "        # around 0 (0.1 instead of 1)\n",
    "        Ha = max(H - 0.1 * Hf,H/1000)\n",
    "        #print(V,Hf)           # watch convergence, but comment out for use\n",
    "        V = sqrt(2*g*Ha)\n",
    "        delta = abs((delta-V)/(delta+0.00000000001))\n",
    "        n += 1\n",
    "    Q = pi * D**2 / 4 * V      # flow rate is velocity times cross sectional area\n",
    "    return sign * Q\n",
    "    \n",
    "Q(-1,15,.01)"
   ]
  },
  {
   "cell_type": "markdown",
   "metadata": {},
   "source": [
    "Do a reasonableness check on the numbers, noting that 0.00033 m^3/s is 1/3 of a litre per second, about one beverage can. Test it over a range of values."
   ]
  },
  {
   "cell_type": "code",
   "execution_count": 6,
   "metadata": {},
   "outputs": [
    {
     "data": {
      "text/plain": [
       "Text(0,0.5,'Flow [litres/s]')"
      ]
     },
     "execution_count": 6,
     "metadata": {},
     "output_type": "execute_result"
    },
    {
     "data": {
      "image/png": "[encoded data removed]",
      "text/plain": [
       "<Figure size 432x288 with 1 Axes>"
      ]
     },
     "metadata": {
      "needs_background": "light"
     },
     "output_type": "display_data"
    }
   ],
   "source": [
    "n = 140\n",
    "h = linspace(-5,5,n)\n",
    "q = h.copy()\n",
    "for i in range(0,n): q[i] = Q(h[i],5,.01)\n",
    "plt.plot(h,q*1000)\n",
    "plt.xlabel('Elevation Difference [m]')\n",
    "plt.ylabel('Flow [litres/s]')"
   ]
  },
  {
   "cell_type": "markdown",
   "metadata": {},
   "source": [
    "This relationship is complicated, but we have a process to calculate it for any set of conditions so we can move on to look at its effects."
   ]
  },
  {
   "cell_type": "markdown",
   "metadata": {
    "collapsed": true,
    "nbpresent": {
     "id": "15482a24-9adf-4abd-a4a9-cbef3bfe100d"
    }
   },
   "source": [
    "# Flow Transient \n",
    "## User Euler's Method to predict transient level changes\n",
    "\n",
    "A balance on tank A tells us that the volume in tank A will increase or decrease based on the difference between the flow coming in from the tap and the flow going out from the tube to tank B: \n",
    "\n",
    "\\begin{equation}\n",
    "    \\frac{dV_a}{dt} = Q_t - Q_{ab}\n",
    "\\end{equation}\n",
    "\n",
    "and the volume depends on the height and the area, so\n",
    "\n",
    "\\begin{equation}\n",
    "    \\frac{dH_a}{dt} = \\frac{Q_t - Q_{ab}}{Aa}\n",
    "\\end{equation}\n",
    "\n",
    "So we need to be able to calculate flow from A to B for different cases:\n",
    "* Ha and Hb are both below the tube and there is no flow\n",
    "* Ha is above the tube but Hb is below, so flow depends only on Ha\n",
    "* Hb is above the tube but Ha is below, so flow depends only on Hb\n",
    "* Ha and Hb are both above the tube, so flow depends on the difference Ha - Hb\n",
    "\n",
    "Assume the bottom of tank A is at 3 m and the tube is at 3.1 m. while the bottom of tank B is at 2.5 m. Ignore tank C and it's tube for now.\n",
    "\n",
    "Calculate all the flow rates at the current time step, then advance the tank levels using Euler's Method for each of the tanks.\n",
    "\n",
    "If the flow from the tap is fixed, then sometimes it will be larger than the outflow, maybe even all the time if we set it quite high.\n",
    "\n",
    "\\begin{equation}\n",
    "    H_a(t+\\Delta t) = H_a(t) + \\frac{dH_a}{dt}\\Delta t = H_a(t) + \\frac{Q_t - Q_{ab}}{Aa}\\Delta t\n",
    "\\end{equation}\n",
    "\n",
    "As long as you have a differential equation for each of the elements (tanks) you can solve for as many different interacting elements as you want! "
   ]
  },
  {
   "cell_type": "code",
   "execution_count": 7,
   "metadata": {},
   "outputs": [
    {
     "data": {
      "text/plain": [
       "[<matplotlib.lines.Line2D at 0x11916e978>]"
      ]
     },
     "execution_count": 7,
     "metadata": {},
     "output_type": "execute_result"
    },
    {
     "data": {
      "image/png": "[encoded data removed]",
      "text/plain": [
       "<Figure size 432x288 with 1 Axes>"
      ]
     },
     "metadata": {
      "needs_background": "light"
     },
     "output_type": "display_data"
    }
   ],
   "source": [
    "Qtap = 0.000354    # one beverage can per second\n",
    "n = 500            # number of time steps\n",
    "dt = 1             # length of a time step\n",
    "t = linspace(0,n*dt,n)\n",
    "Ha = zeros(n)\n",
    "Ha[0] = 3.0        # the bottom of the tank\n",
    "Hb = zeros(n)    \n",
    "Hb[0] = 2.5\n",
    "Qab = zeros(n)\n",
    "Qt = Qtap + zeros(n)      # 1 beverage can per second\n",
    "A = 0.04           # 20 cm by 20 cm, the same for all the tanks\n",
    "D = 0.01           # 1 cm, the same for all the tubes\n",
    "L = 1              # 1 m, the same for all the tubes\n",
    "for i in range(0,n-1):\n",
    "    # fill in the blanks, then calculate the new values of H\n",
    "    #check all four cases for Qab\n",
    "    if(Ha[i] < 3.1):\n",
    "        if(Hb[i] < 3.1): Qab[i] = 0                 # both lower than tube\n",
    "        else: Qab[i] = Q(3.1-Hb[i],L,D)             # A lower, B higher\n",
    "    else:\n",
    "        if(Hb[i] < 3.1): Qab[i] = Q(Ha[i]-3.1,L,D)  # A higher, B lower\n",
    "        else: Qab[i] = Q(Ha[i]-Hb[i],L,D)           # both higher then tube\n",
    "            \n",
    "    Ha[i+1] = Ha[i] + (Qt[i] - Qab[i])/A * dt\n",
    "    Hb[i+1] = Hb[i] + (Qab[i])/A * dt\n",
    "plt.plot(t,Ha,label='Tank A')\n",
    "plt.plot(t,Hb,label='Tank B')\n"
   ]
  },
  {
   "cell_type": "markdown",
   "metadata": {},
   "source": [
    "So Tank A starts filling and when it gets up to the tube it fills more slowly because some of the flow goes through the tube and starts filling tank B. Then both keep on rising forever, so we need to account for overflowing edges, and we'll add tank C at the same time."
   ]
  },
  {
   "cell_type": "code",
   "execution_count": 8,
   "metadata": {},
   "outputs": [
    {
     "data": {
      "image/png": "[encoded data removed]",
      "text/plain": [
       "<Figure size 432x288 with 1 Axes>"
      ]
     },
     "metadata": {
      "needs_background": "light"
     },
     "output_type": "display_data"
    }
   ],
   "source": [
    "n = 800           # number of time steps\n",
    "dt = 1             # length of a time step\n",
    "A = 0.04           # 20 cm by 20 cm, the same for all the tanks\n",
    "D = 0.01           # 1 cm, the same for all the tubes\n",
    "L = 1              # 1 m, the same for all the tubes\n",
    "def CalcPlot():\n",
    "    Qt = Qtap + zeros(n)      # 1 beverage can per second\n",
    "    t = linspace(0,n*dt,n)\n",
    "    Ha = zeros(n)\n",
    "    Ha[0] = 3.0        # the bottom of the tank\n",
    "    Hb = zeros(n)    \n",
    "    Hb[0] = 2.5\n",
    "    Qab = zeros(n)\n",
    "    Hc = zeros(n)    \n",
    "    Hc[0] = 2.2\n",
    "    Qbc = zeros(n)\n",
    "    for i in range(0,n-1):\n",
    "        # fill in the blanks, then calculate the new values of H\n",
    "        if(Ha[i] < 3.1):\n",
    "            if(Hb[i] < 3.1): Qab[i] = 0                 # both lower than tube\n",
    "            else: Qab[i] = Q(3.1-Hb[i],L,D)             # A lower, B higher\n",
    "        else:\n",
    "            if(Hb[i] < 3.1): Qab[i] = Q(Ha[i]-3.1,L,D)  # A higher, B lower\n",
    "            else: Qab[i] = Q(Ha[i]-Hb[i],L,D)           # both higher then tube\n",
    "\n",
    "        if(Hb[i] < 2.6):\n",
    "            if(Hc[i] < 2.6): Qbc[i] = 0                 # both lower than tube\n",
    "            else: Qbc[i] = Q(2.6-Hc[i],L,D)             # A lower, B higher\n",
    "        else:\n",
    "            if(Hc[i] < 2.6): Qbc[i] = Q(Hb[i]-2.6,L,D)  # A higher, B lower\n",
    "            else: Qbc[i] = Q(Hb[i]-Hc[i],L,D)           # both higher then tube\n",
    "\n",
    "        Ha[i+1] = min(Ha[i] + (Qt[i] - Qab[i]) / A * dt,3.5)\n",
    "        Hb[i+1] = min(Hb[i] + (Qab[i] - Qbc[i]) / A * dt,3.2) \n",
    "        Hc[i+1] = min(Hc[i] + (Qbc[i])/A * dt,2.7) \n",
    "    plt.plot(t,Ha,label='Tank A')\n",
    "    plt.plot(t,Hb,label='Tank B')\n",
    "    plt.plot(t,Hc,label='Tank C')\n",
    "    plt.grid()\n",
    "CalcPlot()"
   ]
  },
  {
   "cell_type": "markdown",
   "metadata": {},
   "source": [
    "Tank A starts filling, then overflows into tank B through the tube and eventually overflows the top of the tank, so in this case tank A fills first! Tank B never gets full! Experiemnt with changing the flow to see the effects, and extend the model to all the interesting tanks (C, J, L, F, maybe even I and K). What is the effect of changing the time step size? "
   ]
  },
  {
   "cell_type": "code",
   "execution_count": 9,
   "metadata": {},
   "outputs": [
    {
     "data": {
      "image/png": "[encoded data removed]",
      "text/plain": [
       "<Figure size 432x288 with 1 Axes>"
      ]
     },
     "metadata": {
      "needs_background": "light"
     },
     "output_type": "display_data"
    }
   ],
   "source": [
    "Qtap = 0.0001\n",
    "n=2000\n",
    "dt =1\n",
    "CalcPlot()"
   ]
  },
  {
   "cell_type": "code",
   "execution_count": null,
   "metadata": {
    "collapsed": true
   },
   "outputs": [],
   "source": []
  },
  {
   "cell_type": "code",
   "execution_count": null,
   "metadata": {
    "collapsed": true
   },
   "outputs": [],
   "source": []
  },
  {
   "cell_type": "code",
   "execution_count": null,
   "metadata": {
    "collapsed": true
   },
   "outputs": [],
   "source": []
  },
  {
   "cell_type": "code",
   "execution_count": null,
   "metadata": {
    "collapsed": true
   },
   "outputs": [],
   "source": []
  },
  {
   "cell_type": "code",
   "execution_count": null,
   "metadata": {
    "collapsed": true
   },
   "outputs": [],
   "source": []
  },
  {
   "cell_type": "code",
   "execution_count": null,
   "metadata": {
    "collapsed": true
   },
   "outputs": [],
   "source": []
  },
  {
   "cell_type": "code",
   "execution_count": null,
   "metadata": {
    "collapsed": true
   },
   "outputs": [],
   "source": []
  },
  {
   "cell_type": "code",
   "execution_count": null,
   "metadata": {
    "collapsed": true
   },
   "outputs": [],
   "source": []
  },
  {
   "cell_type": "code",
   "execution_count": null,
   "metadata": {
    "collapsed": true
   },
   "outputs": [],
   "source": []
  },
  {
   "cell_type": "code",
   "execution_count": null,
   "metadata": {
    "collapsed": true
   },
   "outputs": [],
   "source": []
  },
  {
   "cell_type": "code",
   "execution_count": null,
   "metadata": {
    "collapsed": true
   },
   "outputs": [],
   "source": []
  },
  {
   "cell_type": "code",
   "execution_count": null,
   "metadata": {
    "collapsed": true
   },
   "outputs": [],
   "source": []
  },
  {
   "cell_type": "code",
   "execution_count": null,
   "metadata": {
    "collapsed": true
   },
   "outputs": [],
   "source": []
  },
  {
   "cell_type": "code",
   "execution_count": null,
   "metadata": {
    "collapsed": true
   },
   "outputs": [],
   "source": []
  },
  {
   "cell_type": "code",
   "execution_count": null,
   "metadata": {
    "collapsed": true
   },
   "outputs": [],
   "source": []
  },
  {
   "cell_type": "code",
   "execution_count": null,
   "metadata": {
    "collapsed": true
   },
   "outputs": [],
   "source": []
  },
  {
   "cell_type": "code",
   "execution_count": null,
   "metadata": {
    "collapsed": true
   },
   "outputs": [],
   "source": []
  },
  {
   "cell_type": "code",
   "execution_count": null,
   "metadata": {
    "collapsed": true
   },
   "outputs": [],
   "source": []
  },
  {
   "cell_type": "code",
   "execution_count": null,
   "metadata": {
    "collapsed": true
   },
   "outputs": [],
   "source": []
  }
 ],
 "metadata": {
  "anaconda-cloud": {},
  "kernelspec": {
   "display_name": "Python 3",
   "language": "python",
   "name": "python3"
  },
  "language_info": {
   "codemirror_mode": {
    "name": "ipython",
    "version": 3
   },
   "file_extension": ".py",
   "mimetype": "text/x-python",
   "name": "python",
   "nbconvert_exporter": "python",
   "pygments_lexer": "ipython3",
   "version": "3.6.6"
  },
  "nbpresent": {
   "slides": {
    "0940e74b-ccdd-40dc-954d-79a06c44d7ee": {
     "id": "0940e74b-ccdd-40dc-954d-79a06c44d7ee",
     "prev": "e3296e8e-746c-4769-94e0-21cfd46b8e08",
     "regions": {
      "b56d8833-5a28-4b61-b1b6-882456f3f295": {
       "attrs": {
        "height": 0.8,
        "width": 0.8,
        "x": 0.1,
        "y": 0.1
       },
       "content": {
        "cell": "36b8edae-d618-418e-a0b5-115bf906d5a0",
        "part": "whole"
       },
       "id": "b56d8833-5a28-4b61-b1b6-882456f3f295"
      }
     }
    },
    "1580b6d9-18e4-4df4-ac23-10e0b2880934": {
     "id": "1580b6d9-18e4-4df4-ac23-10e0b2880934",
     "prev": "a8b823a2-690c-46d1-9f7a-db9dc013620f",
     "regions": {
      "e10adf10-45b0-4d72-a0b3-49824486766d": {
       "attrs": {
        "height": 0.8,
        "width": 0.8,
        "x": 0.1,
        "y": 0.1
       },
       "content": {
        "cell": "599788cb-33a4-49fc-8557-cbc477e99ca3",
        "part": "whole"
       },
       "id": "e10adf10-45b0-4d72-a0b3-49824486766d"
      }
     }
    },
    "19f40fd1-4564-45fa-915b-4ad69bab39fd": {
     "id": "19f40fd1-4564-45fa-915b-4ad69bab39fd",
     "prev": "90ef9761-aeda-4ba9-a29f-058930570567",
     "regions": {
      "9511aa1e-fe35-4c65-9587-d04726e24a20": {
       "attrs": {
        "height": 0.8,
        "width": 0.8,
        "x": 0.1,
        "y": 0.1
       },
       "content": {
        "cell": "5cd31b2f-185d-4b37-8284-6a563bde1cfb",
        "part": "whole"
       },
       "id": "9511aa1e-fe35-4c65-9587-d04726e24a20"
      }
     }
    },
    "3f732970-dab2-4dec-bcf8-d614030901f2": {
     "id": "3f732970-dab2-4dec-bcf8-d614030901f2",
     "prev": "47b242a4-895a-47a4-a642-cf2016fa4aff",
     "regions": {
      "d141a402-b1c6-4d05-ac34-d59efdfaf550": {
       "attrs": {
        "height": 0.8,
        "width": 0.8,
        "x": 0.1,
        "y": 0.1
       },
       "content": {
        "cell": "84f2f92f-28ac-42a6-b605-aafc52901444",
        "part": "whole"
       },
       "id": "d141a402-b1c6-4d05-ac34-d59efdfaf550"
      }
     }
    },
    "47b242a4-895a-47a4-a642-cf2016fa4aff": {
     "id": "47b242a4-895a-47a4-a642-cf2016fa4aff",
     "prev": "1580b6d9-18e4-4df4-ac23-10e0b2880934",
     "regions": {
      "0d368343-72ee-4a6c-9d37-e73f9961d5ae": {
       "attrs": {
        "height": 0.8,
        "width": 0.8,
        "x": 0.1,
        "y": 0.1
       },
       "content": {
        "cell": "6027a0b2-4c6c-4b68-9a19-2d4838b42e4d",
        "part": "whole"
       },
       "id": "0d368343-72ee-4a6c-9d37-e73f9961d5ae"
      }
     }
    },
    "90ef9761-aeda-4ba9-a29f-058930570567": {
     "id": "90ef9761-aeda-4ba9-a29f-058930570567",
     "prev": null,
     "regions": {
      "c274fc54-073b-441b-92d7-082f05c4f38a": {
       "attrs": {
        "height": 0.8,
        "width": 0.8,
        "x": 0.1,
        "y": 0.1
       },
       "content": {
        "cell": "e4fe89cb-be2a-43ef-a816-8a53b203f455",
        "part": "whole"
       },
       "id": "c274fc54-073b-441b-92d7-082f05c4f38a"
      }
     }
    },
    "a8b823a2-690c-46d1-9f7a-db9dc013620f": {
     "id": "a8b823a2-690c-46d1-9f7a-db9dc013620f",
     "prev": "0940e74b-ccdd-40dc-954d-79a06c44d7ee",
     "regions": {
      "efd7079e-0725-41ed-ba88-c022638ec034": {
       "attrs": {
        "height": 0.8,
        "width": 0.8,
        "x": 0.1,
        "y": 0.1
       },
       "content": {
        "cell": "c2225207-f4d6-40a6-a0a8-137d78d88ffd",
        "part": "whole"
       },
       "id": "efd7079e-0725-41ed-ba88-c022638ec034"
      }
     }
    },
    "b04afee2-c377-45ed-8d7f-3b7218d7a42c": {
     "id": "b04afee2-c377-45ed-8d7f-3b7218d7a42c",
     "prev": "19f40fd1-4564-45fa-915b-4ad69bab39fd",
     "regions": {
      "201dca3d-9324-436f-a186-e2a5a9b3ce8b": {
       "attrs": {
        "height": 0.8,
        "width": 0.8,
        "x": 0.1,
        "y": 0.1
       },
       "content": {
        "cell": "070f4740-6510-479f-9f06-685a4c0b560a",
        "part": "whole"
       },
       "id": "201dca3d-9324-436f-a186-e2a5a9b3ce8b"
      }
     }
    },
    "b0c819be-6d64-4d7c-a9b3-952f53797805": {
     "id": "b0c819be-6d64-4d7c-a9b3-952f53797805",
     "prev": "3f732970-dab2-4dec-bcf8-d614030901f2",
     "regions": {
      "4ea0d7fd-294b-452b-9a34-e09f08ba8ded": {
       "attrs": {
        "height": 0.8,
        "width": 0.8,
        "x": 0.1,
        "y": 0.1
       },
       "content": {
        "cell": "94716fc8-bc7d-4e41-8c62-2781a7998588",
        "part": "whole"
       },
       "id": "4ea0d7fd-294b-452b-9a34-e09f08ba8ded"
      }
     }
    },
    "b34a29e9-3df5-4217-89bb-41014b0cb06a": {
     "id": "b34a29e9-3df5-4217-89bb-41014b0cb06a",
     "prev": "b0c819be-6d64-4d7c-a9b3-952f53797805",
     "regions": {
      "8010fc32-28e7-4455-875e-187cd34218e9": {
       "attrs": {
        "height": 0.8,
        "width": 0.8,
        "x": 0.1,
        "y": 0.1
       },
       "content": {
        "cell": "fa00fa48-b596-4dc3-945d-8cc34ebaeb06",
        "part": "whole"
       },
       "id": "8010fc32-28e7-4455-875e-187cd34218e9"
      }
     }
    },
    "e3296e8e-746c-4769-94e0-21cfd46b8e08": {
     "id": "e3296e8e-746c-4769-94e0-21cfd46b8e08",
     "prev": "b04afee2-c377-45ed-8d7f-3b7218d7a42c",
     "regions": {
      "0e6bf2e6-92a4-4f67-9444-b1e430bc91b7": {
       "attrs": {
        "height": 0.8,
        "width": 0.8,
        "x": 0.1,
        "y": 0.1
       },
       "content": {
        "cell": "9a2da165-8977-49c5-8300-3795e9353327",
        "part": "whole"
       },
       "id": "0e6bf2e6-92a4-4f67-9444-b1e430bc91b7"
      }
     }
    }
   },
   "themes": {}
  }
 },
 "nbformat": 4,
 "nbformat_minor": 1
}
