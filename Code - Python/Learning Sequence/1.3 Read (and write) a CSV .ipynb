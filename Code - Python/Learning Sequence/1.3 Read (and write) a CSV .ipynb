{
 "cells": [
  {
   "cell_type": "markdown",
   "metadata": {},
   "source": [
    "# Read in Data from a CSV file with csv\n",
    "\n",
    "Comma Separated Value (CSV) files are a common format for moving tables of data between different applications. Spreadsheet programs will save a table of data as CSV, and we can easily get our Arduino output to look like CSV, with the same number of elements in each line to make life easier.\n",
    "\n",
    "In this example each line contains the same number of tokens separated by commas. The first line in the file contains some descriptive text and the rest are rows of numbers. The first number in every row is a time in microseconds as an unsigned 32 bit number. We don't need to know this to pull the data in from the CSV file, and we can figure it out by looking at the data after we read it. You can check the original CSV file by looking at it in a text editor.\n",
    "\n",
    "This code is pretty well cut and paste from the csv.reader() documentation you can find by googling \"python csv\". https://docs.python.org/3/library/csv.html"
   ]
  },
  {
   "cell_type": "code",
   "execution_count": 2,
   "metadata": {},
   "outputs": [],
   "source": [
    "# gets all of numpy but you will still need to refer to e.g. numpy.random.randn() as random.randn()\n",
    "from numpy import *               # all of the array capable elements for numerical data          \n",
    "from scipy.stats import norm      # comprehensive functions for Gaussian normal distributions\n",
    "import csv                        # library for reading and writing comma separated value files\n",
    "from matplotlib.pyplot import *   # all of pyplot to graph the results of our calculations\n",
    "\n",
    "# put figures inline in the notebook, so you don't have to call show()\n",
    "%matplotlib inline\n",
    "\n",
    "# This lets you make the default figure size larger (or smaller)\n",
    "from IPython.core.pylabtools import figsize\n",
    "figsize(14, 7)"
   ]
  },
  {
   "cell_type": "code",
   "execution_count": 3,
   "metadata": {},
   "outputs": [],
   "source": [
    "with open('TMP00020.CSV') as csvfile:\n",
    "    dataRead = csv.reader(csvfile)\n",
    "    a = asarray([data for data in dataRead])"
   ]
  },
  {
   "cell_type": "markdown",
   "metadata": {},
   "source": [
    "## Print the first few lines as a check then plot\n",
    "a[ ] is now a two dimensional array compatible with numpy routines, but **everything in the array is still a string**, as we can see by printing the shape and the content. Note that there is a blank token at the end of every line because the file had an extra trailing comma at the end of each line. We'll have to be careful not to try to convert those blanks into numbers, as that will generate an error.\n"
   ]
  },
  {
   "cell_type": "code",
   "execution_count": 6,
   "metadata": {},
   "outputs": [
    {
     "name": "stdout",
     "output_type": "stream",
     "text": [
      "(5052, 8)\n",
      "[['microseconds' ' seconds' ' light' ' USB' ' T1' ' T2' ' BAT' ' ']\n",
      " ['4933697' ' 4.93' ' 48.69' ' 3.9836' ' 22.76' ' 24.00' ' 4.1524' ' ']\n",
      " ['5105694' ' 5.11' ' 48.74' ' 3.9821' ' 22.84' ' 24.10' ' 4.1476' ' ']\n",
      " ['5151696' ' 5.15' ' 48.69' ' 3.9757' ' 23.00' ' 24.10' ' 4.1492' ' ']\n",
      " ['5193699' ' 5.19' ' 48.74' ' 3.9805' ' 23.32' ' 24.10' ' 4.1461' ' ']]\n"
     ]
    }
   ],
   "source": [
    "print(shape(a))\n",
    "print(a[0:5])"
   ]
  },
  {
   "cell_type": "markdown",
   "metadata": {},
   "source": [
    "## Slice off the non-numeric data\n",
    "\n",
    "Now that we can see what the array looks like, we can tell which elements we will be able to convert into floating point numbers. For example we can recognize the second column is time in seconds and the fifth column is the T1 column, data from the TMP 36. \n",
    "\n",
    "The first row is charadter strings, so we better slice it off. Likewise the last column.\n",
    "\n",
    "b[ ] is just the numbers we want from a[ ], but still as strings. It leaves off the first row, the first column, and the last, blank, element in each row by slicing carefully. a[1: , 1:len(a[1])-1] slices the array to choose only rows from 1 to the end (1:) and columns only from 1 to 1 less than the length of the row (1:len(a[1])-1). Remember that the indices start at 0 and the slice won't include the last index, so 1:3 will include only elements 1 and 2.\n",
    "\n",
    "This code will fail if there aren't the same number of elements in each line of the file, because the shape of the array will be irregular."
   ]
  },
  {
   "cell_type": "code",
   "execution_count": 8,
   "metadata": {},
   "outputs": [
    {
     "name": "stdout",
     "output_type": "stream",
     "text": [
      "[[' 4.93' ' 48.69' ' 3.9836' ' 22.76' ' 24.00' ' 4.1524']\n",
      " [' 5.11' ' 48.74' ' 3.9821' ' 22.84' ' 24.10' ' 4.1476']\n",
      " [' 5.15' ' 48.69' ' 3.9757' ' 23.00' ' 24.10' ' 4.1492']\n",
      " [' 5.19' ' 48.74' ' 3.9805' ' 23.32' ' 24.10' ' 4.1461']]\n"
     ]
    }
   ],
   "source": [
    "b = a[1:,1:len(a[1])-1]\n",
    "print(b[0:4])"
   ]
  },
  {
   "cell_type": "markdown",
   "metadata": {},
   "source": [
    "## Convert to floating point values with asfarray()\n",
    "We still can't plot the data properly until we convert the strings to floats with asfarray().\n",
    "\n",
    "micros[ ] is a 1D array of the time in microseconds as a 32 bit unsigned integer. \n",
    "\n",
    "labs[ ] are the labels from the first line in the file, skipping the microseconds label.\n"
   ]
  },
  {
   "cell_type": "code",
   "execution_count": 9,
   "metadata": {},
   "outputs": [
    {
     "name": "stdout",
     "output_type": "stream",
     "text": [
      "[[ 4.93   48.69    3.9836 22.76   24.      4.1524]\n",
      " [ 5.11   48.74    3.9821 22.84   24.1     4.1476]\n",
      " [ 5.15   48.69    3.9757 23.     24.1     4.1492]\n",
      " [ 5.19   48.74    3.9805 23.32   24.1     4.1461]]\n"
     ]
    }
   ],
   "source": [
    "d = asfarray(b)\n",
    "print(d[0:4])\n",
    "labs = a[0,1:]\n",
    "micros = asfarray(a[1:,0])"
   ]
  },
  {
   "cell_type": "code",
   "execution_count": 10,
   "metadata": {},
   "outputs": [
    {
     "data": {
      "image/png": "[encoded data removed]",
      "text/plain": [
       "<Figure size 432x288 with 1 Axes>"
      ]
     },
     "metadata": {
      "needs_background": "light"
     },
     "output_type": "display_data"
    }
   ],
   "source": [
    "plot(d[:,0],d[:,3],label = labs[3]) # column 0 is the time in seconds\n",
    "plot(d[:,0],d[:,4],label = labs[4]) \n",
    "xlabel(labs[0])\n",
    "ylabel(labs[3]+', '+labs[4]+' [C]')\n",
    "legend()\n",
    "grid()"
   ]
  },
  {
   "cell_type": "markdown",
   "metadata": {
    "collapsed": true
   },
   "source": [
    "## Writing a CSV is even easier\n",
    "Most of the effort goes into creating a matrix in the tabular shape we want, and there are lots of Python routines for stacking and rotating and flipping, etc. Googling \"python flip a matrix\" will get you on the right track, just like \"python mirror an array\"."
   ]
  },
  {
   "cell_type": "code",
   "execution_count": 11,
   "metadata": {},
   "outputs": [
    {
     "name": "stdout",
     "output_type": "stream",
     "text": [
      "[[  0.           2.22222222   4.44444444   6.66666667   8.88888889]\n",
      " [146.98355715 181.62315308 211.45736273 243.37958836 266.36107399]]\n",
      "[[ 20.         351.85615393]\n",
      " [ 17.77777778 339.30291083]\n",
      " [ 15.55555556 325.40145022]\n",
      " [ 13.33333333 303.86293856]\n",
      " [ 11.11111111 292.03054233]]\n",
      "[[  0.         146.98355715]\n",
      " [  2.22222222 181.62315308]\n",
      " [  4.44444444 211.45736273]\n",
      " [  6.66666667 243.37958836]\n",
      " [  8.88888889 266.36107399]]\n"
     ]
    },
    {
     "data": {
      "text/plain": [
       "[<matplotlib.lines.Line2D at 0x1a1f2cb048>]"
      ]
     },
     "execution_count": 11,
     "metadata": {},
     "output_type": "execute_result"
    },
    {
     "data": {
      "image/png": "[encoded data removed]",
      "text/plain": [
       "<Figure size 432x288 with 1 Axes>"
      ]
     },
     "metadata": {
      "needs_background": "light"
     },
     "output_type": "display_data"
    }
   ],
   "source": [
    "t = linspace(0,20,10)\n",
    "T = 444 - exp(-t/17.3)*298 + random.randn(len(t))*2.5\n",
    "a = vstack((t,T))    # stack them one atop the other to make two rows\n",
    "print(a[:,:5])\n",
    "a = rot90(a)         # rotate the matrix 90 degrees to make two columns\n",
    "print(a[:5])\n",
    "a = flipud(a)        # flip the matrix upside down to put it in the order we want\n",
    "print(a[:5])\n",
    "savetxt(\"Tmeas.csv\", a, delimiter=\",\")   # write the file\n",
    "plot(a[:, 0],a[:,1])"
   ]
  },
  {
   "cell_type": "markdown",
   "metadata": {},
   "source": [
    "## Check by reading\n",
    "or by opening the file in an editor or a spreadsheet."
   ]
  },
  {
   "cell_type": "code",
   "execution_count": 12,
   "metadata": {},
   "outputs": [
    {
     "name": "stdout",
     "output_type": "stream",
     "text": [
      "[['0.000000000000000000e+00' '1.469835571515070853e+02']\n",
      " ['2.222222222222222321e+00' '1.816231530783558128e+02']\n",
      " ['4.444444444444444642e+00' '2.114573627305169339e+02']\n",
      " ['6.666666666666666963e+00' '2.433795883635030179e+02']\n",
      " ['8.888888888888889284e+00' '2.663610739882276448e+02']]\n"
     ]
    }
   ],
   "source": [
    "with open('Tmeas.csv') as csvfile:\n",
    "    dataRead = csv.reader(csvfile)\n",
    "    a = asarray([data for data in dataRead])\n",
    "print(a[0:5])"
   ]
  },
  {
   "cell_type": "code",
   "execution_count": null,
   "metadata": {},
   "outputs": [],
   "source": []
  },
  {
   "cell_type": "code",
   "execution_count": null,
   "metadata": {
    "collapsed": true
   },
   "outputs": [],
   "source": []
  },
  {
   "cell_type": "code",
   "execution_count": null,
   "metadata": {
    "collapsed": true
   },
   "outputs": [],
   "source": []
  },
  {
   "cell_type": "code",
   "execution_count": null,
   "metadata": {
    "collapsed": true
   },
   "outputs": [],
   "source": []
  }
 ],
 "metadata": {
  "anaconda-cloud": {},
  "kernelspec": {
   "display_name": "Python 3",
   "language": "python",
   "name": "python3"
  },
  "language_info": {
   "codemirror_mode": {
    "name": "ipython",
    "version": 3
   },
   "file_extension": ".py",
   "mimetype": "text/x-python",
   "name": "python",
   "nbconvert_exporter": "python",
   "pygments_lexer": "ipython3",
   "version": "3.6.6"
  }
 },
 "nbformat": 4,
 "nbformat_minor": 1
}
