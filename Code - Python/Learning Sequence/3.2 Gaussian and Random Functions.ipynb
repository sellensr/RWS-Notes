{
 "cells": [
  {
   "cell_type": "markdown",
   "metadata": {
    "collapsed": true,
    "nbpresent": {
     "id": "15482a24-9adf-4abd-a4a9-cbef3bfe100d"
    }
   },
   "source": [
    "# Gaussian and Random Functions\n",
    "\n",
    "A Gaussian Normal Distribution, often called a normal distribution, or a normal error function, is the least biased (maximum entropy) probability assumption to make if all you know about a set of data is its mean and standard deviation. It is also the distribution you get from combining many different random variables, even if the individual elements aren't normally distributed.\n",
    "\n",
    "First import a bunch of components we will use...\n"
   ]
  },
  {
   "cell_type": "code",
   "execution_count": null,
   "metadata": {
    "nbpresent": {
     "id": "213bc3b4-66b4-4798-9f30-01c61be30ad1"
    }
   },
   "outputs": [],
   "source": [
    "# gets all of numpy but you will still need to refer to e.g. numpy.random.randn() as random.randn()\n",
    "from numpy import *               # all of the array capable elements for numerical data          \n",
    "from scipy.stats import norm      # comprehensive functions for Gaussian normal distributions\n",
    "import csv                        # library for reading and writing comma separated value files\n",
    "from matplotlib.pyplot import *   # all of pyplot to graph the results of our calculations\n",
    "\n",
    "# put figures inline in the notebook, so you don't have to call show()\n",
    "%matplotlib inline\n",
    "\n",
    "# This lets you make the default figure size larger (or smaller)\n",
    "from IPython.core.pylabtools import figsize\n",
    "figsize(14, 7)"
   ]
  },
  {
   "cell_type": "markdown",
   "metadata": {
    "collapsed": true,
    "nbpresent": {
     "id": "adf0c9b6-a7b3-48b0-accf-d4e43b110461"
    }
   },
   "source": [
    "\n",
    "**norm.pdf(x,mean,standard_deviation)** returns the probability density at x for a gaussian\n",
    "\n",
    "**norm.cdf(x,mean,standard_deviation)** returns the cumulative probability density at x for a gaussian\n",
    "\n",
    "**norm.interval(probability,mean,standard_deviation)** returns the symmetric limits for probability about mean\n",
    "\n",
    "**random.rand(n)** returns n uniformly distributed random numbers between 0 and 1\n",
    "\n",
    "**random.randn(n)** returns n gaussian distributed random numbers with a mean of 0 and standard deviation of 1\n",
    "\n",
    "**random.randint(low, high, n)**\treturns n random integers from low (inclusive) to high (exclusive)\n",
    "\n",
    "The Gaussian distribution looks like this for a mean of zero and a standard deviation of one. The probability of any one sample lying between $\\pm$one standard deviation is about 68%, $\\pm$two standard deviations about 95%, and $\\pm$three standard deviations about 99%. \n",
    "\n",
    "scipy.stats.norm (http://docs.scipy.org/doc/scipy-0.16.0/reference/generated/scipy.stats.norm.html) gives you a whole lot of functions, including cdf() for the cumulative distribution (the integral of the pdf). There's a little over 80% probability that a sample will be less than 1.\n"
   ]
  },
  {
   "cell_type": "code",
   "execution_count": null,
   "metadata": {
    "nbpresent": {
     "id": "fc6b8c2c-95db-4a28-84ae-6271520c1a49"
    }
   },
   "outputs": [],
   "source": [
    "x = linspace(-3,3,1000)\n",
    "f = norm.pdf(x,0,1) \n",
    "g = norm.cdf(x,0,1)\n",
    "plot(x,f)\n",
    "plot(x,g)\n",
    "xto1 = linspace(-3,1,1000)\n",
    "fto1 = norm.pdf(xto1,0,1) \n",
    "fill_between(xto1,0,fto1)\n",
    "plot([1,1,-3],[0,norm.cdf(1,0,1),norm.cdf(1,0,1)])"
   ]
  },
  {
   "cell_type": "markdown",
   "metadata": {
    "collapsed": true,
    "nbpresent": {
     "id": "adf0c9b6-a7b3-48b0-accf-d4e43b110461"
    }
   },
   "source": [
    "## 95% Confidence Interval\n",
    "What range of values will you expect for your measurement 95% of the time, if the mean value is 192 and the standard deviation 10?\n",
    "\n",
    "So the interval containing 95% of the samples isn't exactly $\\pm$two standard deviations (172, 212), but pretty close:"
   ]
  },
  {
   "cell_type": "code",
   "execution_count": null,
   "metadata": {
    "nbpresent": {
     "id": "0a974b56-f641-45d9-95c6-199c6bc90038"
    }
   },
   "outputs": [],
   "source": [
    "norm.interval(0.95,192,10)"
   ]
  },
  {
   "cell_type": "markdown",
   "metadata": {
    "collapsed": true,
    "nbpresent": {
     "id": "adf0c9b6-a7b3-48b0-accf-d4e43b110461"
    }
   },
   "source": [
    "## Probability of a random value lying in a range\n",
    "What is the probability of getting a result between 2.7 and 4.0 if the variable is normally distributed with a mean of 3.1 and a standard deviation of 0.65?\n",
    "\n",
    "Integrate the area under the PDF or take the difference between the two CDF values, since the CDF is the integral up to a given value. Try using different values for low,high, m, s.\n"
   ]
  },
  {
   "cell_type": "code",
   "execution_count": null,
   "metadata": {
    "nbpresent": {
     "id": "0a974b56-f641-45d9-95c6-199c6bc90038"
    }
   },
   "outputs": [],
   "source": [
    "low = 2.7\n",
    "high = 4.0\n",
    "m = 3.1\n",
    "s = 0.65\n",
    "ph = norm.cdf(high,m,s)  # probability value is lower than \"high\"\n",
    "pl = norm.cdf(low,m,s)   # probability value is lower than \"low\"\n",
    "p = ph - pl\n",
    "print(p)\n",
    "x = linspace(m-3*s,m+3*s,1000)\n",
    "y = linspace(low,high,1000)\n",
    "f = norm.pdf(x,m,s) \n",
    "g = norm.pdf(y,m,s)\n",
    "h = norm.cdf(x,m,s)\n",
    "plot(x,f)\n",
    "plot(x,h)\n",
    "fill_between(y,0,g)\n",
    "plot([high,high,1],[0,ph,ph])\n",
    "plot([low,low,1],[0,pl,pl])"
   ]
  },
  {
   "cell_type": "markdown",
   "metadata": {},
   "source": [
    "## Histograms compare frequency of occurence"
   ]
  },
  {
   "cell_type": "code",
   "execution_count": null,
   "metadata": {},
   "outputs": [],
   "source": [
    "n = 1000\n",
    "r1 = random.rand(n) * 6\n",
    "r2 = random.randn(n) * 1.5 + 3\n",
    "r3 = random.randint(1,7,n)\n",
    "hist(r1,alpha=0.5, label = 'Random real values between 0 and 6')\n",
    "hist(r2,alpha=0.5, label = 'Gaussian random values, mean 3, SD 1.5')\n",
    "hist(r3,alpha=0.5,bins = 24, label = 'Random integers like a die')\n",
    "legend()\n",
    "ylabel('counts / bin')\n"
   ]
  },
  {
   "cell_type": "markdown",
   "metadata": {},
   "source": [
    "## Faking a Gaussian\n",
    "We could do some floating point math with exponentials that could take a long time on a microcontroller, or get a really good simulation by combining multiple random integers. \n",
    "\n",
    "This is a practical demonstration that combining multiple random variables tends towards a Gaussian distribution, even if the individual distributions are something else. Multiple sources of error will combine to give a Gaussian distribution overall.\n",
    "\n",
    "How many random integers does it take to be *good enough*? Note that the code reshapes the results to make the mean zero and the standard deviation 1. (Normalized)"
   ]
  },
  {
   "cell_type": "code",
   "execution_count": null,
   "metadata": {},
   "outputs": [],
   "source": [
    "# float randn(){\n",
    "#   // A pretty good fake Gaussian with mean = 0 and SD = 1 from random integers.\n",
    "#   // Arduino doesn't provide numpy.random.randn() like Python does.\n",
    "#   // See the python learning sequence 3.2 for a test\n",
    "#   // For 25 random numbers between 0 and 1000 inclusive \n",
    "#   // the mean will be 12500 and SD about 1445\n",
    "#   long tot = 0;\n",
    "#   for(int i = 0; i < 25; i++) tot += random(0,1001);\n",
    "#   return (tot - 12500.)/1445.;   // subtract the mean and divide by standard deviation\n",
    "# }\n",
    "\n",
    "n = 1000000    # the number of random tests to make\n",
    "m = 25         # the number of random variables to combine\n",
    "tot = random.randint(0,1001,n)\n",
    "for i in range(0,m-1): tot += random.randint(0,1001,n)\n",
    "mn = mean(tot)\n",
    "sd = std(tot)\n",
    "print(mean(tot),std(tot))\n",
    "print(mean(tot)/m,std(tot)/m)\n",
    "tot = tot - mn         # subtract the mean of many samples\n",
    "tot = tot / sd         # divide by the standard deviation of many samples\n",
    "print(mean(tot),std(tot))\n",
    "hist(tot,bins=50,density=True,label = 'Integer Simulation')\n",
    "x = linspace(-4,4)\n",
    "plot(x,norm.pdf(x),label = 'Gaussian PDF')\n",
    "legend()"
   ]
  },
  {
   "cell_type": "code",
   "execution_count": null,
   "metadata": {},
   "outputs": [],
   "source": []
  }
 ],
 "metadata": {
  "anaconda-cloud": {},
  "kernelspec": {
   "display_name": "Python 3",
   "language": "python",
   "name": "python3"
  },
  "language_info": {
   "codemirror_mode": {
    "name": "ipython",
    "version": 3
   },
   "file_extension": ".py",
   "mimetype": "text/x-python",
   "name": "python",
   "nbconvert_exporter": "python",
   "pygments_lexer": "ipython3",
   "version": "3.6.6"
  },
  "nbpresent": {
   "slides": {},
   "themes": {
    "default": "4e80ffb4-71fb-4d8d-899a-88cc56a7a805",
    "theme": {}
   }
  }
 },
 "nbformat": 4,
 "nbformat_minor": 1
}
