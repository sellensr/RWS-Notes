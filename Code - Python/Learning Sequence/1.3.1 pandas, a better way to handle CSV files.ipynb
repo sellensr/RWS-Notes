{
 "cells": [
  {
   "cell_type": "markdown",
   "metadata": {},
   "source": [
    "# Read in Data from a CSV file with pandas\n",
    "\n",
    "Comma Separated Value (CSV) files are a common format for moving tables of data between different applications. Spreadsheet programs will save a table of data as CSV, and we can easily get our Arduino output to look like CSV, with the same number of elements in each line to make life easier.\n",
    "\n",
    "In this example each line contains the same number of tokens separated by commas. The first line in the file contains some descriptive text and the rest are rows of numbers. The first number in every row is a time in microseconds as an unsigned 32 bit number. We don't need to know this to pull the data in from the CSV file, and we can figure it out by looking at the data after we read it. You can check the original CSV file by looking at it in a text editor.\n",
    "\n",
    "This code is pretty well cut and paste from http://pandas.pydata.org/pandas-docs/stable/index.html"
   ]
  },
  {
   "cell_type": "code",
   "execution_count": 2,
   "metadata": {},
   "outputs": [],
   "source": [
    "# gets all of numpy but you will still need to refer to e.g. numpy.random.randn() as random.randn()\n",
    "from numpy import *               # all of the array capable elements for numerical data          \n",
    "from scipy.stats import norm      # comprehensive functions for Gaussian normal distributions\n",
    "import csv                        # library for reading and writing comma separated value files\n",
    "from matplotlib.pyplot import *   # all of pyplot to graph the results of our calculations\n",
    "from pandas import *              # pandas for data science"
   ]
  },
  {
   "cell_type": "markdown",
   "metadata": {},
   "source": [
    "Reading the data with the csv library leaves us with an array that still needs some modifications. Much worse with the munged file TMP00020mung.CSV."
   ]
  },
  {
   "cell_type": "code",
   "execution_count": 12,
   "metadata": {},
   "outputs": [
    {
     "name": "stdout",
     "output_type": "stream",
     "text": [
      "[['microseconds' ' seconds' ' light' ... ' T2' ' BAT' ' ']\n",
      " ['4933697' ' 4.93' ' 48.69' ... ' 24.00' ' 4.1524' ' ']\n",
      " ['5105694' ' 5.11' ' 48.74' ... ' 24.10' ' 4.1476' ' ']\n",
      " ...\n",
      " ['222357702' ' 222.36' ' 47.89' ... ' 25.30' ' 4.1492' ' ']\n",
      " ['222405703' ' 222.41' ' 47.89' ... ' 25.30' ' 4.1476' ' ']\n",
      " ['222447703' ' 222.45' ' 47.99' ... ' 25.30' ' 4.1445' ' ']]\n"
     ]
    }
   ],
   "source": [
    "with open('TMP00020.CSV') as csvfile:\n",
    "    dataRead = csv.reader(csvfile)\n",
    "    a = asarray([data for data in dataRead])\n",
    "print(a)"
   ]
  },
  {
   "cell_type": "markdown",
   "metadata": {},
   "source": [
    "## Read the same file into a pandas dataframe\n",
    "df will be filled from the file and can then be manipulated by a wide variety of data tools, but all we want is to extract a matrix. df.head() is just the top part of the frame. Note that the numbers in the columns are converted appropriately to ints and floats. Although not obvious, there is still a column after BAT due to the trailing commas."
   ]
  },
  {
   "cell_type": "code",
   "execution_count": 13,
   "metadata": {},
   "outputs": [
    {
     "data": {
      "text/html": [
       "<div>\n",
       "<style scoped>\n",
       "    .dataframe tbody tr th:only-of-type {\n",
       "        vertical-align: middle;\n",
       "    }\n",
       "\n",
       "    .dataframe tbody tr th {\n",
       "        vertical-align: top;\n",
       "    }\n",
       "\n",
       "    .dataframe thead th {\n",
       "        text-align: right;\n",
       "    }\n",
       "</style>\n",
       "<table border=\"1\" class=\"dataframe\">\n",
       "  <thead>\n",
       "    <tr style=\"text-align: right;\">\n",
       "      <th></th>\n",
       "      <th>microseconds</th>\n",
       "      <th>seconds</th>\n",
       "      <th>light</th>\n",
       "      <th>USB</th>\n",
       "      <th>T1</th>\n",
       "      <th>T2</th>\n",
       "      <th>BAT</th>\n",
       "      <th></th>\n",
       "    </tr>\n",
       "  </thead>\n",
       "  <tbody>\n",
       "    <tr>\n",
       "      <th>0</th>\n",
       "      <td>4933697</td>\n",
       "      <td>4.93</td>\n",
       "      <td>48.69</td>\n",
       "      <td>3.9836</td>\n",
       "      <td>22.76</td>\n",
       "      <td>24.0</td>\n",
       "      <td>4.1524</td>\n",
       "      <td></td>\n",
       "    </tr>\n",
       "    <tr>\n",
       "      <th>1</th>\n",
       "      <td>5105694</td>\n",
       "      <td>5.11</td>\n",
       "      <td>48.74</td>\n",
       "      <td>3.9821</td>\n",
       "      <td>22.84</td>\n",
       "      <td>24.1</td>\n",
       "      <td>4.1476</td>\n",
       "      <td></td>\n",
       "    </tr>\n",
       "    <tr>\n",
       "      <th>2</th>\n",
       "      <td>5151696</td>\n",
       "      <td>5.15</td>\n",
       "      <td>48.69</td>\n",
       "      <td>3.9757</td>\n",
       "      <td>23.00</td>\n",
       "      <td>24.1</td>\n",
       "      <td>4.1492</td>\n",
       "      <td></td>\n",
       "    </tr>\n",
       "    <tr>\n",
       "      <th>3</th>\n",
       "      <td>5193699</td>\n",
       "      <td>5.19</td>\n",
       "      <td>48.74</td>\n",
       "      <td>3.9805</td>\n",
       "      <td>23.32</td>\n",
       "      <td>24.1</td>\n",
       "      <td>4.1461</td>\n",
       "      <td></td>\n",
       "    </tr>\n",
       "    <tr>\n",
       "      <th>4</th>\n",
       "      <td>5235702</td>\n",
       "      <td>5.24</td>\n",
       "      <td>48.69</td>\n",
       "      <td>3.9805</td>\n",
       "      <td>23.48</td>\n",
       "      <td>24.1</td>\n",
       "      <td>4.1429</td>\n",
       "      <td></td>\n",
       "    </tr>\n",
       "  </tbody>\n",
       "</table>\n",
       "</div>"
      ],
      "text/plain": [
       "   microseconds   seconds   light     USB     T1    T2     BAT   \n",
       "0       4933697      4.93   48.69  3.9836  22.76  24.0  4.1524   \n",
       "1       5105694      5.11   48.74  3.9821  22.84  24.1  4.1476   \n",
       "2       5151696      5.15   48.69  3.9757  23.00  24.1  4.1492   \n",
       "3       5193699      5.19   48.74  3.9805  23.32  24.1  4.1461   \n",
       "4       5235702      5.24   48.69  3.9805  23.48  24.1  4.1429   "
      ]
     },
     "execution_count": 13,
     "metadata": {},
     "output_type": "execute_result"
    }
   ],
   "source": [
    "df = read_csv('TMP00020.CSV')\n",
    "df.head()"
   ]
  },
  {
   "cell_type": "markdown",
   "metadata": {},
   "source": [
    "## df.as_matrix() returns a numpy array \n",
    "The index information for both the rows and columns is stripped off. The array can be used for plotting, etc., just like any other array."
   ]
  },
  {
   "cell_type": "code",
   "execution_count": 14,
   "metadata": {},
   "outputs": [
    {
     "name": "stdout",
     "output_type": "stream",
     "text": [
      "[[4933697 4.93 48.69 3.9836 22.76 24.0 4.1524 ' ']\n",
      " [5105694 5.11 48.74 3.9821 22.84 24.1 4.1476 ' ']\n",
      " [5151696 5.15 48.69 3.9757 23.0 24.1 4.1492 ' ']\n",
      " [5193699 5.19 48.74 3.9805 23.32 24.1 4.1461 ' ']\n",
      " [5235702 5.24 48.69 3.9805 23.48 24.1 4.1429 ' ']]\n"
     ]
    },
    {
     "data": {
      "text/plain": [
       "(5051, 8)"
      ]
     },
     "execution_count": 14,
     "metadata": {},
     "output_type": "execute_result"
    }
   ],
   "source": [
    "x = df.as_matrix()\n",
    "print(x[:5])\n",
    "shape(x)"
   ]
  },
  {
   "cell_type": "code",
   "execution_count": 15,
   "metadata": {},
   "outputs": [
    {
     "data": {
      "text/plain": [
       "[<matplotlib.lines.Line2D at 0x1a14b4ba58>]"
      ]
     },
     "execution_count": 15,
     "metadata": {},
     "output_type": "execute_result"
    },
    {
     "data": {
      "image/png": "[encoded data removed]",
      "text/plain": [
       "<matplotlib.figure.Figure at 0x1a14b2c518>"
      ]
     },
     "metadata": {
      "needs_background": "light"
     },
     "output_type": "display_data"
    }
   ],
   "source": [
    "plot(x[:,1],x[:,4])"
   ]
  },
  {
   "cell_type": "markdown",
   "metadata": {},
   "source": [
    "## Creating and Rearranging a DataFrame\n",
    "Strip off the first and last columns of x to create a tidier DataFrame and it can be written out to another csv file.\n",
    "\n"
   ]
  },
  {
   "cell_type": "code",
   "execution_count": 16,
   "metadata": {},
   "outputs": [
    {
     "data": {
      "text/html": [
       "<div>\n",
       "<style scoped>\n",
       "    .dataframe tbody tr th:only-of-type {\n",
       "        vertical-align: middle;\n",
       "    }\n",
       "\n",
       "    .dataframe tbody tr th {\n",
       "        vertical-align: top;\n",
       "    }\n",
       "\n",
       "    .dataframe thead th {\n",
       "        text-align: right;\n",
       "    }\n",
       "</style>\n",
       "<table border=\"1\" class=\"dataframe\">\n",
       "  <thead>\n",
       "    <tr style=\"text-align: right;\">\n",
       "      <th></th>\n",
       "      <th>0</th>\n",
       "      <th>1</th>\n",
       "      <th>2</th>\n",
       "      <th>3</th>\n",
       "      <th>4</th>\n",
       "      <th>5</th>\n",
       "    </tr>\n",
       "  </thead>\n",
       "  <tbody>\n",
       "    <tr>\n",
       "      <th>0</th>\n",
       "      <td>4.93</td>\n",
       "      <td>48.69</td>\n",
       "      <td>3.9836</td>\n",
       "      <td>22.76</td>\n",
       "      <td>24</td>\n",
       "      <td>4.1524</td>\n",
       "    </tr>\n",
       "    <tr>\n",
       "      <th>1</th>\n",
       "      <td>5.11</td>\n",
       "      <td>48.74</td>\n",
       "      <td>3.9821</td>\n",
       "      <td>22.84</td>\n",
       "      <td>24.1</td>\n",
       "      <td>4.1476</td>\n",
       "    </tr>\n",
       "    <tr>\n",
       "      <th>2</th>\n",
       "      <td>5.15</td>\n",
       "      <td>48.69</td>\n",
       "      <td>3.9757</td>\n",
       "      <td>23</td>\n",
       "      <td>24.1</td>\n",
       "      <td>4.1492</td>\n",
       "    </tr>\n",
       "    <tr>\n",
       "      <th>3</th>\n",
       "      <td>5.19</td>\n",
       "      <td>48.74</td>\n",
       "      <td>3.9805</td>\n",
       "      <td>23.32</td>\n",
       "      <td>24.1</td>\n",
       "      <td>4.1461</td>\n",
       "    </tr>\n",
       "    <tr>\n",
       "      <th>4</th>\n",
       "      <td>5.24</td>\n",
       "      <td>48.69</td>\n",
       "      <td>3.9805</td>\n",
       "      <td>23.48</td>\n",
       "      <td>24.1</td>\n",
       "      <td>4.1429</td>\n",
       "    </tr>\n",
       "  </tbody>\n",
       "</table>\n",
       "</div>"
      ],
      "text/plain": [
       "      0      1       2      3     4       5\n",
       "0  4.93  48.69  3.9836  22.76    24  4.1524\n",
       "1  5.11  48.74  3.9821  22.84  24.1  4.1476\n",
       "2  5.15  48.69  3.9757     23  24.1  4.1492\n",
       "3  5.19  48.74  3.9805  23.32  24.1  4.1461\n",
       "4  5.24  48.69  3.9805  23.48  24.1  4.1429"
      ]
     },
     "execution_count": 16,
     "metadata": {},
     "output_type": "execute_result"
    }
   ],
   "source": [
    "dfx = DataFrame(x[:,1:shape(x)[1]-1])\n",
    "dfx.head()"
   ]
  },
  {
   "cell_type": "markdown",
   "metadata": {},
   "source": [
    "x didn't include any labels for the columns, so the DataFrame indices are simply numbers. A full set of index labels can be added back on with dfx.columns. \n",
    "\n",
    "Probably better to use df.rename() to alter individual columns of the DataFrame in place."
   ]
  },
  {
   "cell_type": "code",
   "execution_count": 17,
   "metadata": {},
   "outputs": [
    {
     "data": {
      "text/html": [
       "<div>\n",
       "<style scoped>\n",
       "    .dataframe tbody tr th:only-of-type {\n",
       "        vertical-align: middle;\n",
       "    }\n",
       "\n",
       "    .dataframe tbody tr th {\n",
       "        vertical-align: top;\n",
       "    }\n",
       "\n",
       "    .dataframe thead th {\n",
       "        text-align: right;\n",
       "    }\n",
       "</style>\n",
       "<table border=\"1\" class=\"dataframe\">\n",
       "  <thead>\n",
       "    <tr style=\"text-align: right;\">\n",
       "      <th></th>\n",
       "      <th>Time [s]</th>\n",
       "      <th>Light</th>\n",
       "      <th>USB</th>\n",
       "      <th>TMP36 [C]</th>\n",
       "      <th>TC [C]</th>\n",
       "      <th>Batt [V]</th>\n",
       "    </tr>\n",
       "  </thead>\n",
       "  <tbody>\n",
       "    <tr>\n",
       "      <th>0</th>\n",
       "      <td>4.93</td>\n",
       "      <td>48.69</td>\n",
       "      <td>3.9836</td>\n",
       "      <td>22.76</td>\n",
       "      <td>24</td>\n",
       "      <td>4.1524</td>\n",
       "    </tr>\n",
       "    <tr>\n",
       "      <th>1</th>\n",
       "      <td>5.11</td>\n",
       "      <td>48.74</td>\n",
       "      <td>3.9821</td>\n",
       "      <td>22.84</td>\n",
       "      <td>24.1</td>\n",
       "      <td>4.1476</td>\n",
       "    </tr>\n",
       "    <tr>\n",
       "      <th>2</th>\n",
       "      <td>5.15</td>\n",
       "      <td>48.69</td>\n",
       "      <td>3.9757</td>\n",
       "      <td>23</td>\n",
       "      <td>24.1</td>\n",
       "      <td>4.1492</td>\n",
       "    </tr>\n",
       "    <tr>\n",
       "      <th>3</th>\n",
       "      <td>5.19</td>\n",
       "      <td>48.74</td>\n",
       "      <td>3.9805</td>\n",
       "      <td>23.32</td>\n",
       "      <td>24.1</td>\n",
       "      <td>4.1461</td>\n",
       "    </tr>\n",
       "    <tr>\n",
       "      <th>4</th>\n",
       "      <td>5.24</td>\n",
       "      <td>48.69</td>\n",
       "      <td>3.9805</td>\n",
       "      <td>23.48</td>\n",
       "      <td>24.1</td>\n",
       "      <td>4.1429</td>\n",
       "    </tr>\n",
       "  </tbody>\n",
       "</table>\n",
       "</div>"
      ],
      "text/plain": [
       "  Time [s]  Light     USB TMP36 [C] TC [C] Batt [V]\n",
       "0     4.93  48.69  3.9836     22.76     24   4.1524\n",
       "1     5.11  48.74  3.9821     22.84   24.1   4.1476\n",
       "2     5.15  48.69  3.9757        23   24.1   4.1492\n",
       "3     5.19  48.74  3.9805     23.32   24.1   4.1461\n",
       "4     5.24  48.69  3.9805     23.48   24.1   4.1429"
      ]
     },
     "execution_count": 17,
     "metadata": {},
     "output_type": "execute_result"
    }
   ],
   "source": [
    "dfx.columns = ['Time [s]','light','USB','TMP36 [C]','TC [C]','Batt [V]']\n",
    "dfx.rename(columns={'light': 'Light'},inplace = True)\n",
    "dfx.head()"
   ]
  },
  {
   "cell_type": "markdown",
   "metadata": {},
   "source": [
    "## Writing out to CSV\n",
    "Note that writing a DataFrame out without index=False will include the index column in the writing and will generate a new column when it is read back in. That is probably undesirable."
   ]
  },
  {
   "cell_type": "code",
   "execution_count": 18,
   "metadata": {},
   "outputs": [
    {
     "data": {
      "text/html": [
       "<div>\n",
       "<style scoped>\n",
       "    .dataframe tbody tr th:only-of-type {\n",
       "        vertical-align: middle;\n",
       "    }\n",
       "\n",
       "    .dataframe tbody tr th {\n",
       "        vertical-align: top;\n",
       "    }\n",
       "\n",
       "    .dataframe thead th {\n",
       "        text-align: right;\n",
       "    }\n",
       "</style>\n",
       "<table border=\"1\" class=\"dataframe\">\n",
       "  <thead>\n",
       "    <tr style=\"text-align: right;\">\n",
       "      <th></th>\n",
       "      <th>Unnamed: 0</th>\n",
       "      <th>Time [s]</th>\n",
       "      <th>Light</th>\n",
       "      <th>USB</th>\n",
       "      <th>TMP36 [C]</th>\n",
       "      <th>TC [C]</th>\n",
       "      <th>Batt [V]</th>\n",
       "    </tr>\n",
       "  </thead>\n",
       "  <tbody>\n",
       "    <tr>\n",
       "      <th>0</th>\n",
       "      <td>0</td>\n",
       "      <td>4.93</td>\n",
       "      <td>48.69</td>\n",
       "      <td>3.9836</td>\n",
       "      <td>22.76</td>\n",
       "      <td>24.0</td>\n",
       "      <td>4.1524</td>\n",
       "    </tr>\n",
       "    <tr>\n",
       "      <th>1</th>\n",
       "      <td>1</td>\n",
       "      <td>5.11</td>\n",
       "      <td>48.74</td>\n",
       "      <td>3.9821</td>\n",
       "      <td>22.84</td>\n",
       "      <td>24.1</td>\n",
       "      <td>4.1476</td>\n",
       "    </tr>\n",
       "    <tr>\n",
       "      <th>2</th>\n",
       "      <td>2</td>\n",
       "      <td>5.15</td>\n",
       "      <td>48.69</td>\n",
       "      <td>3.9757</td>\n",
       "      <td>23.00</td>\n",
       "      <td>24.1</td>\n",
       "      <td>4.1492</td>\n",
       "    </tr>\n",
       "    <tr>\n",
       "      <th>3</th>\n",
       "      <td>3</td>\n",
       "      <td>5.19</td>\n",
       "      <td>48.74</td>\n",
       "      <td>3.9805</td>\n",
       "      <td>23.32</td>\n",
       "      <td>24.1</td>\n",
       "      <td>4.1461</td>\n",
       "    </tr>\n",
       "    <tr>\n",
       "      <th>4</th>\n",
       "      <td>4</td>\n",
       "      <td>5.24</td>\n",
       "      <td>48.69</td>\n",
       "      <td>3.9805</td>\n",
       "      <td>23.48</td>\n",
       "      <td>24.1</td>\n",
       "      <td>4.1429</td>\n",
       "    </tr>\n",
       "  </tbody>\n",
       "</table>\n",
       "</div>"
      ],
      "text/plain": [
       "   Unnamed: 0  Time [s]  Light     USB  TMP36 [C]  TC [C]  Batt [V]\n",
       "0           0      4.93  48.69  3.9836      22.76    24.0    4.1524\n",
       "1           1      5.11  48.74  3.9821      22.84    24.1    4.1476\n",
       "2           2      5.15  48.69  3.9757      23.00    24.1    4.1492\n",
       "3           3      5.19  48.74  3.9805      23.32    24.1    4.1461\n",
       "4           4      5.24  48.69  3.9805      23.48    24.1    4.1429"
      ]
     },
     "execution_count": 18,
     "metadata": {},
     "output_type": "execute_result"
    }
   ],
   "source": [
    "dfx.to_csv('Tpandas.csv')\n",
    "dfx.to_csv('Tpandas1.csv',index=False)\n",
    "dfy = read_csv('Tpandas.csv')\n",
    "dfy.head()"
   ]
  },
  {
   "cell_type": "code",
   "execution_count": 19,
   "metadata": {},
   "outputs": [
    {
     "data": {
      "text/html": [
       "<div>\n",
       "<style scoped>\n",
       "    .dataframe tbody tr th:only-of-type {\n",
       "        vertical-align: middle;\n",
       "    }\n",
       "\n",
       "    .dataframe tbody tr th {\n",
       "        vertical-align: top;\n",
       "    }\n",
       "\n",
       "    .dataframe thead th {\n",
       "        text-align: right;\n",
       "    }\n",
       "</style>\n",
       "<table border=\"1\" class=\"dataframe\">\n",
       "  <thead>\n",
       "    <tr style=\"text-align: right;\">\n",
       "      <th></th>\n",
       "      <th>Time [s]</th>\n",
       "      <th>Light</th>\n",
       "      <th>USB</th>\n",
       "      <th>TMP36 [C]</th>\n",
       "      <th>TC [C]</th>\n",
       "      <th>Batt [V]</th>\n",
       "    </tr>\n",
       "  </thead>\n",
       "  <tbody>\n",
       "    <tr>\n",
       "      <th>0</th>\n",
       "      <td>4.93</td>\n",
       "      <td>48.69</td>\n",
       "      <td>3.9836</td>\n",
       "      <td>22.76</td>\n",
       "      <td>24.0</td>\n",
       "      <td>4.1524</td>\n",
       "    </tr>\n",
       "    <tr>\n",
       "      <th>1</th>\n",
       "      <td>5.11</td>\n",
       "      <td>48.74</td>\n",
       "      <td>3.9821</td>\n",
       "      <td>22.84</td>\n",
       "      <td>24.1</td>\n",
       "      <td>4.1476</td>\n",
       "    </tr>\n",
       "    <tr>\n",
       "      <th>2</th>\n",
       "      <td>5.15</td>\n",
       "      <td>48.69</td>\n",
       "      <td>3.9757</td>\n",
       "      <td>23.00</td>\n",
       "      <td>24.1</td>\n",
       "      <td>4.1492</td>\n",
       "    </tr>\n",
       "    <tr>\n",
       "      <th>3</th>\n",
       "      <td>5.19</td>\n",
       "      <td>48.74</td>\n",
       "      <td>3.9805</td>\n",
       "      <td>23.32</td>\n",
       "      <td>24.1</td>\n",
       "      <td>4.1461</td>\n",
       "    </tr>\n",
       "    <tr>\n",
       "      <th>4</th>\n",
       "      <td>5.24</td>\n",
       "      <td>48.69</td>\n",
       "      <td>3.9805</td>\n",
       "      <td>23.48</td>\n",
       "      <td>24.1</td>\n",
       "      <td>4.1429</td>\n",
       "    </tr>\n",
       "  </tbody>\n",
       "</table>\n",
       "</div>"
      ],
      "text/plain": [
       "   Time [s]  Light     USB  TMP36 [C]  TC [C]  Batt [V]\n",
       "0      4.93  48.69  3.9836      22.76    24.0    4.1524\n",
       "1      5.11  48.74  3.9821      22.84    24.1    4.1476\n",
       "2      5.15  48.69  3.9757      23.00    24.1    4.1492\n",
       "3      5.19  48.74  3.9805      23.32    24.1    4.1461\n",
       "4      5.24  48.69  3.9805      23.48    24.1    4.1429"
      ]
     },
     "execution_count": 19,
     "metadata": {},
     "output_type": "execute_result"
    }
   ],
   "source": [
    "dfz = read_csv('Tpandas1.csv')\n",
    "dfz.head()"
   ]
  },
  {
   "cell_type": "code",
   "execution_count": null,
   "metadata": {},
   "outputs": [],
   "source": []
  },
  {
   "cell_type": "code",
   "execution_count": null,
   "metadata": {},
   "outputs": [],
   "source": []
  },
  {
   "cell_type": "code",
   "execution_count": null,
   "metadata": {},
   "outputs": [],
   "source": []
  }
 ],
 "metadata": {
  "anaconda-cloud": {},
  "kernelspec": {
   "display_name": "Python 3",
   "language": "python",
   "name": "python3"
  },
  "language_info": {
   "codemirror_mode": {
    "name": "ipython",
    "version": 3
   },
   "file_extension": ".py",
   "mimetype": "text/x-python",
   "name": "python",
   "nbconvert_exporter": "python",
   "pygments_lexer": "ipython3",
   "version": "3.6.6"
  }
 },
 "nbformat": 4,
 "nbformat_minor": 1
}
