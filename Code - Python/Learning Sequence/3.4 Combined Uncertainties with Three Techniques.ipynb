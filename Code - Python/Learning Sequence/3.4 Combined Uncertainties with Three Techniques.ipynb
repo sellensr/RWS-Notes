{
 "cells": [
  {
   "cell_type": "markdown",
   "metadata": {
    "collapsed": true,
    "nbpresent": {
     "id": "15482a24-9adf-4abd-a4a9-cbef3bfe100d"
    }
   },
   "source": [
    "# Combined Uncertainties with Three Techniques\n",
    "\n",
    "This workbook carries out the calculations described in this video\n",
    "\n",
    "<a href=\"http://www.youtube.com/watch?feature=player_embedded&v=6m44-Y1civo\n",
    "\" target=\"_blank\"><img src=\"http://img.youtube.com/vi/6m44-Y1civo/0.jpg\" \n",
    "alt=\"IMAGE ALT TEXT HERE\" width=\"480\" height=\"360\" border=\"10\" /></a>\n"
   ]
  },
  {
   "cell_type": "code",
   "execution_count": 29,
   "metadata": {
    "collapsed": true,
    "nbpresent": {
     "id": "213bc3b4-66b4-4798-9f30-01c61be30ad1"
    }
   },
   "outputs": [],
   "source": [
    "%matplotlib inline\n",
    "from numpy import *\n",
    "import matplotlib.pyplot as plt\n",
    "from scipy.stats import norm"
   ]
  },
  {
   "cell_type": "markdown",
   "metadata": {},
   "source": [
    "This function calculates the fluid power $\\dot{W}=PQ$ for some actual input values."
   ]
  },
  {
   "cell_type": "code",
   "execution_count": 33,
   "metadata": {},
   "outputs": [
    {
     "data": {
      "text/plain": [
       "2.5"
      ]
     },
     "execution_count": 33,
     "metadata": {},
     "output_type": "execute_result"
    }
   ],
   "source": [
    "P1 = 5\n",
    "Q1 = 0.5\n",
    "uP1 = .23\n",
    "uQ1 = 0.01\n",
    "\n",
    "def Wdot(P,Q):\n",
    "    return P * Q\n",
    "\n",
    "Wdot(P1,Q1)"
   ]
  },
  {
   "cell_type": "markdown",
   "metadata": {
    "collapsed": true,
    "nbpresent": {
     "id": "adf0c9b6-a7b3-48b0-accf-d4e43b110461"
    }
   },
   "source": [
    "## Uncertainty by Analytical Derivatives\n",
    "\n",
    "This function uses the formula derived in the video to calculate the uncertainty."
   ]
  },
  {
   "cell_type": "code",
   "execution_count": 34,
   "metadata": {},
   "outputs": [
    {
     "data": {
      "text/plain": [
       "0.12539936203984453"
      ]
     },
     "execution_count": 34,
     "metadata": {},
     "output_type": "execute_result"
    }
   ],
   "source": [
    "def uWdot1(P,Q,uP,uQ):\n",
    "    return sqrt((Q*uP)**2 + (P*uQ)**2)\n",
    "\n",
    "uWdot1(P1,Q1,uP1,uQ1)"
   ]
  },
  {
   "cell_type": "markdown",
   "metadata": {
    "collapsed": true,
    "nbpresent": {
     "id": "adf0c9b6-a7b3-48b0-accf-d4e43b110461"
    }
   },
   "source": [
    "## Uncertainty by Linear Estimates of Derivatives\n",
    "\n",
    "This function estimates uncertainty by estimating the derivatives numerically -- no calculus to do by hand, so it will be easier for complicated functions. Note that we get partial derivatives from these differences because the other variable(s) are held constant.\n",
    "\n",
    "delta needs to be a small number, but not so small that it generates roundoff errors in the calculations. Try different values to see what happens.\n"
   ]
  },
  {
   "cell_type": "code",
   "execution_count": 35,
   "metadata": {},
   "outputs": [
    {
     "data": {
      "text/plain": [
       "0.12578529564813798"
      ]
     },
     "execution_count": 35,
     "metadata": {},
     "output_type": "execute_result"
    }
   ],
   "source": [
    "def uWdot2(P,Q,uP,uQ):\n",
    "    delta = 0.0000000000001\n",
    "    #derivative wrt to P\n",
    "    dP = (Wdot(P+delta,Q)-Wdot(P,Q))/delta\n",
    "    #derivative wrt to Q\n",
    "    dQ = (Wdot(P,Q+delta)-Wdot(P,Q))/delta\n",
    "    #sqrt of sum of squares\n",
    "    uWd = sqrt((dP*uP)**2 + (dQ*uQ)**2)\n",
    "    return uWd\n",
    "\n",
    "uWdot2(P1,Q1,uP1,uQ1)"
   ]
  },
  {
   "cell_type": "markdown",
   "metadata": {
    "collapsed": true,
    "nbpresent": {
     "id": "adf0c9b6-a7b3-48b0-accf-d4e43b110461"
    }
   },
   "source": [
    "## Uncertainty by Monte Carlo Simulation\n",
    "\n",
    "This function simulates multiple measurements in order to determine the uncertainty without even calculating derivatives numerically. You can use this approach if the process that produces the function is hard to differentiate both analytically and numerically. This could happen if there are steps in the function or other non-linear elements.\n",
    "\n",
    "This is a lot like actually making a large number of independent measurements and doing stats on the results. n needs to be large enough to give a good sample size, but small enough that it doesn't take forever to calculate. Try with different values of n.\n"
   ]
  },
  {
   "cell_type": "code",
   "execution_count": 36,
   "metadata": {
    "scrolled": true
   },
   "outputs": [
    {
     "data": {
      "text/plain": [
       "0.12484886438818488"
      ]
     },
     "execution_count": 36,
     "metadata": {},
     "output_type": "execute_result"
    }
   ],
   "source": [
    "def uWdot3(P,Q,uP,uQ):\n",
    "    n = 1000\n",
    "    Pp = random.randn(n) * uP/2 + P\n",
    "    Qp = random.randn(n) * uQ/2 + Q\n",
    "    Wdotp = zeros(n)\n",
    "    for i in range(0,n): \n",
    "        Wdotp[i] = Wdot(Pp[i],Qp[i])\n",
    "    return std(Wdotp)*2\n",
    "    \n",
    "uWdot3(P1,Q1,uP1,uQ1)"
   ]
  },
  {
   "cell_type": "markdown",
   "metadata": {},
   "source": [
    "This is even easier and doesn't require an assumption of linearity, however it does to a lot of samples to zero in to the same result. It also requires you to use discrete values in each call because the broadcast over the calculations fails."
   ]
  },
  {
   "cell_type": "code",
   "execution_count": null,
   "metadata": {
    "collapsed": true
   },
   "outputs": [],
   "source": []
  },
  {
   "cell_type": "code",
   "execution_count": null,
   "metadata": {
    "collapsed": true
   },
   "outputs": [],
   "source": []
  },
  {
   "cell_type": "code",
   "execution_count": null,
   "metadata": {
    "collapsed": true
   },
   "outputs": [],
   "source": []
  },
  {
   "cell_type": "code",
   "execution_count": null,
   "metadata": {
    "collapsed": true
   },
   "outputs": [],
   "source": []
  },
  {
   "cell_type": "code",
   "execution_count": null,
   "metadata": {
    "collapsed": true
   },
   "outputs": [],
   "source": []
  }
 ],
 "metadata": {
  "anaconda-cloud": {},
  "kernelspec": {
   "display_name": "Python 3",
   "language": "python",
   "name": "python3"
  },
  "language_info": {
   "codemirror_mode": {
    "name": "ipython",
    "version": 3
   },
   "file_extension": ".py",
   "mimetype": "text/x-python",
   "name": "python",
   "nbconvert_exporter": "python",
   "pygments_lexer": "ipython3",
   "version": "3.6.6"
  },
  "nbpresent": {
   "slides": {},
   "themes": {
    "default": "4e80ffb4-71fb-4d8d-899a-88cc56a7a805",
    "theme": {}
   }
  }
 },
 "nbformat": 4,
 "nbformat_minor": 1
}
