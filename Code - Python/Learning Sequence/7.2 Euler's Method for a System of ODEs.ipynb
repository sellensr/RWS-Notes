{
 "cells": [
  {
   "cell_type": "markdown",
   "metadata": {},
   "source": [
    "# Euler's Method for a System of Equations\n",
    "\n",
    "One of the simplest models for how a quantity changes with time is a first order ODE like this one for a temperature sensor.\n",
    "\n",
    "\\begin{equation}\n",
    "\\frac{dT_m}{dt}=\\dot{T}_m = \\frac{(T-T_m)}{\\tau}\n",
    "\\end{equation}\n",
    "\n",
    "We can predict the new temperature $T_m(new)$ based on the old and march the solution forward by Euler's method.\n",
    "\n",
    "\\begin{equation}\n",
    "T_m(new) = T_m(old) + \\Delta T_m = T_m(old) + \\frac{(T-T_m)}{\\tau} {\\Delta t} \n",
    "\\end{equation}\n",
    "\n"
   ]
  },
  {
   "cell_type": "code",
   "execution_count": 2,
   "metadata": {},
   "outputs": [],
   "source": [
    "# gets all of numpy but you will still need to refer to e.g. numpy.random.randn() as random.randn()\n",
    "from numpy import *               # all of the array capable elements for numerical data          \n",
    "from scipy.stats import norm      # comprehensive functions for Gaussian normal distributions\n",
    "import csv                        # library for reading and writing comma separated value files\n",
    "from matplotlib.pyplot import *   # all of pyplot to graph the results of our calculations\n",
    "\n",
    "# put figures inline in the notebook, so you don't have to call show()\n",
    "%matplotlib inline\n",
    "\n",
    "# This lets you make the default figure size larger (or smaller)\n",
    "from IPython.core.pylabtools import figsize\n",
    "figsize(14, 7)"
   ]
  },
  {
   "cell_type": "markdown",
   "metadata": {},
   "source": [
    "<a href=\"http://www.youtube.com/watch?feature=player_embedded&v=-bEeVGgU-PI\n",
    "\" target=\"_blank\"><img src=\"http://img.youtube.com/vi/-bEeVGgU-PI/0.jpg\" \n",
    "alt=\"IMAGE ALT TEXT HERE\" width=\"480\" height=\"360\" border=\"10\" /></a>\n",
    "## Simplify a second order equation to a system of first order\n",
    "We can do the same thing for higher order equations by reducing them to a system of first order equations, then solving the system. The position of the end of the ruler could be described by a second order equation derived from a force balance \n",
    "\n",
    "\\begin{equation}\n",
    "{\\rm Acceleration = \\frac{Force}{Mass}}\\quad\\quad\\quad\n",
    "\\ddot y = F - K y - C \\dot y\n",
    "\\end{equation}\n",
    "\n",
    "the acceleration depends on the externally applied force per unit mass $F$, the internal force per unit mass of the stiffness $K$, all slowed down by some friction that depends on how fast the ruler is moving. Introduce another equation saying that the velocity is the derivative of the position\n",
    "\n",
    "\\begin{equation}\n",
    "v = \\dot y\n",
    "\\end{equation}\n",
    "and now we can express that single, second order equation in one variable, $y$, as a system of two first order equations in two variables, $y$ and $v$\n",
    "\\begin{equation}\n",
    "\\dot v = F - K y - C v\n",
    "\\end{equation}\n",
    "\\begin{equation}\n",
    "\\dot y = v\n",
    "\\end{equation}\n",
    "\n",
    "## Solve the system with Euler\n",
    "For now let's take $K$ and $C$ as constants, and $F=0$, so we still need to know initial conditions for $y$ and $v$. Start out by making $v = 0$ and $y = -0.05$m, when we suddenly release the ruler. We would need a detailed model to get $K$ and $C$, or we could measure them, or just guess them to get performance that looks like the video.\n",
    "\n",
    "**Set up the intial conditions**, a time base $t$, and define how the ambient temperature will change with time. Make sure everything is defined at time $t=0$, including the time constant."
   ]
  },
  {
   "cell_type": "code",
   "execution_count": 3,
   "metadata": {},
   "outputs": [],
   "source": [
    "n = 10000             # the number of steps\n",
    "t = linspace(0,10,n)  # the time base\n",
    "a = zeros(n)          # acceleration, the second derivative\n",
    "v = zeros(n)          # velocity, the first derivative\n",
    "y = zeros(n)          # position, the underlying variable\n",
    "F = zeros(n)          # the external force from the finger\n",
    "v[0] = 0\n",
    "y[0] = -0.05\n",
    "K = 1000\n",
    "C = 3\n",
    "deltat = t[1]-t[0]"
   ]
  },
  {
   "cell_type": "markdown",
   "metadata": {},
   "source": [
    "**Go one time step into the future** using the values at the old time, then **do it again**. Notice that the ruler doesn't start to move until time step two, which would be a problem unless we make the time steps really small."
   ]
  },
  {
   "cell_type": "code",
   "execution_count": 4,
   "metadata": {},
   "outputs": [
    {
     "name": "stdout",
     "output_type": "stream",
     "text": [
      "-0.05 0.05000500050005\n"
     ]
    }
   ],
   "source": [
    "dydt = v[0]\n",
    "a[0] = F[0] - K*y[0] - C*v[0]\n",
    "dvdt = a[0]\n",
    "y[1] = y[0] + dydt * deltat\n",
    "v[1] = v[0] + dvdt * deltat\n",
    "print(y[1],v[1])"
   ]
  },
  {
   "cell_type": "code",
   "execution_count": 5,
   "metadata": {},
   "outputs": [
    {
     "name": "stdout",
     "output_type": "stream",
     "text": [
      "-0.049949989998499804 0.0998599709955994\n"
     ]
    }
   ],
   "source": [
    "dydt = v[1]\n",
    "a[1] = F[1] - K*y[1] - C*v[1]\n",
    "dvdt = a[1]\n",
    "y[2] = y[1] + dydt * deltat\n",
    "v[2] = v[1] + dvdt * deltat\n",
    "print(y[2],v[2])"
   ]
  },
  {
   "cell_type": "markdown",
   "metadata": {},
   "source": [
    "Now take all the rest of the steps"
   ]
  },
  {
   "cell_type": "code",
   "execution_count": 6,
   "metadata": {},
   "outputs": [],
   "source": [
    "for i in range(2,n-1):\n",
    "    a[i] = F[i] - K*y[i] - C*v[i]\n",
    "    y[i+1] = y[i] + v[i] * deltat\n",
    "    v[i+1] = v[i] + a[i] * deltat"
   ]
  },
  {
   "cell_type": "markdown",
   "metadata": {},
   "source": [
    "Run this plot any time to check on the progress of the solution after each step. Define the plot as a function so it is easy to call later."
   ]
  },
  {
   "cell_type": "code",
   "execution_count": 7,
   "metadata": {},
   "outputs": [
    {
     "data": {
      "image/png": "[encoded data removed]",
      "text/plain": [
       "<matplotlib.figure.Figure at 0x10e83a0f0>"
      ]
     },
     "metadata": {
      "needs_background": "light"
     },
     "output_type": "display_data"
    }
   ],
   "source": [
    "def showSolution():\n",
    "    plot(t,v,label=\"Velocity [m/s]\")\n",
    "    plot(t,y*100,label = 'Position [cm]')\n",
    "    grid()\n",
    "    legend()\n",
    "    xlabel(\"Time [s]\")\n",
    "\n",
    "showSolution()"
   ]
  },
  {
   "cell_type": "markdown",
   "metadata": {},
   "source": [
    "This follows the decaying sinusoid you saw in the video and would expect from the analytical solutions you get in your differential equations class. \n",
    "## Solve a more complicated situation\n",
    "Now try adding a time varying force (a bump) to the system and you get something you can't do easily with an analytical solution. If this was a car suspension we might want to actively change the damping based on what was happening in the motion, so we'll add that capability in the function cActive()."
   ]
  },
  {
   "cell_type": "code",
   "execution_count": 8,
   "metadata": {},
   "outputs": [
    {
     "data": {
      "image/png": "[encoded data removed]",
      "text/plain": [
       "<matplotlib.figure.Figure at 0x110252be0>"
      ]
     },
     "metadata": {
      "needs_background": "light"
     },
     "output_type": "display_data"
    }
   ],
   "source": [
    "# Add a bump in the middle of the time period\n",
    "# Could be a single chicken stride...\n",
    "F[int(n/3):int(2*n/3)] = 30*sin(t[:int(n/3)])\n",
    "\n",
    "def cActive(y,v):  # This function could change the suspension damping based on y and v\n",
    "    return C       # But for now it just keeps on returning a constant\n",
    "\n",
    "def runSolution():\n",
    "    global K,C     # Use the values defined externally\n",
    "    # set the intial conditions\n",
    "    v[0] = 0\n",
    "    y[0] = -0.05\n",
    "    K = 1000\n",
    "    C = 3\n",
    "    deltat = t[1]-t[0]\n",
    "    \n",
    "    for i in range(0,n-1):  # for the full range of values\n",
    "        # determine the current values for force, damping and acceleration\n",
    "        a[i] = F[i] - K*y[i] - cActive(y[i],v[i])*v[i]\n",
    "        # predict the new values of \n",
    "        y[i+1] = y[i] + v[i] * deltat\n",
    "        v[i+1] = v[i] + a[i] * deltat\n",
    "\n",
    "runSolution()        \n",
    "showSolution()"
   ]
  },
  {
   "cell_type": "markdown",
   "metadata": {
    "collapsed": true
   },
   "source": [
    "Now let's build in some active damping to slow things down. Play with the values to see the effects"
   ]
  },
  {
   "cell_type": "code",
   "execution_count": 9,
   "metadata": {},
   "outputs": [
    {
     "data": {
      "image/png": "[encoded data removed]",
      "text/plain": [
       "<matplotlib.figure.Figure at 0x1a1bf3c898>"
      ]
     },
     "metadata": {
      "needs_background": "light"
     },
     "output_type": "display_data"
    }
   ],
   "source": [
    "def cActive(y,v):  # This time C won't be a constant\n",
    "    c = C\n",
    "    # add more damping if we get out of the normal range\n",
    "    if(abs(y) > 0.02): c = c + .5*C\n",
    "    # add more damping on the rebound\n",
    "    if(v < 0): c = c + 2.5*C\n",
    "    return c\n",
    "runSolution()\n",
    "showSolution()"
   ]
  },
  {
   "cell_type": "code",
   "execution_count": null,
   "metadata": {},
   "outputs": [],
   "source": []
  },
  {
   "cell_type": "code",
   "execution_count": null,
   "metadata": {},
   "outputs": [],
   "source": []
  },
  {
   "cell_type": "code",
   "execution_count": null,
   "metadata": {},
   "outputs": [],
   "source": []
  },
  {
   "cell_type": "code",
   "execution_count": null,
   "metadata": {},
   "outputs": [],
   "source": []
  },
  {
   "cell_type": "code",
   "execution_count": null,
   "metadata": {},
   "outputs": [],
   "source": []
  },
  {
   "cell_type": "code",
   "execution_count": null,
   "metadata": {},
   "outputs": [],
   "source": []
  },
  {
   "cell_type": "code",
   "execution_count": null,
   "metadata": {},
   "outputs": [],
   "source": []
  },
  {
   "cell_type": "code",
   "execution_count": null,
   "metadata": {},
   "outputs": [],
   "source": []
  },
  {
   "cell_type": "code",
   "execution_count": null,
   "metadata": {},
   "outputs": [],
   "source": []
  },
  {
   "cell_type": "code",
   "execution_count": null,
   "metadata": {},
   "outputs": [],
   "source": []
  },
  {
   "cell_type": "code",
   "execution_count": null,
   "metadata": {},
   "outputs": [],
   "source": []
  },
  {
   "cell_type": "code",
   "execution_count": null,
   "metadata": {},
   "outputs": [],
   "source": []
  },
  {
   "cell_type": "code",
   "execution_count": null,
   "metadata": {},
   "outputs": [],
   "source": []
  },
  {
   "cell_type": "code",
   "execution_count": null,
   "metadata": {},
   "outputs": [],
   "source": []
  },
  {
   "cell_type": "code",
   "execution_count": null,
   "metadata": {},
   "outputs": [],
   "source": []
  },
  {
   "cell_type": "code",
   "execution_count": null,
   "metadata": {},
   "outputs": [],
   "source": []
  },
  {
   "cell_type": "code",
   "execution_count": null,
   "metadata": {},
   "outputs": [],
   "source": []
  },
  {
   "cell_type": "code",
   "execution_count": null,
   "metadata": {},
   "outputs": [],
   "source": []
  }
 ],
 "metadata": {
  "anaconda-cloud": {},
  "kernelspec": {
   "display_name": "Python 3",
   "language": "python",
   "name": "python3"
  },
  "language_info": {
   "codemirror_mode": {
    "name": "ipython",
    "version": 3
   },
   "file_extension": ".py",
   "mimetype": "text/x-python",
   "name": "python",
   "nbconvert_exporter": "python",
   "pygments_lexer": "ipython3",
   "version": "3.6.6"
  }
 },
 "nbformat": 4,
 "nbformat_minor": 2
}
