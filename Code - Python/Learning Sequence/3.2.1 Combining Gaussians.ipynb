{
 "cells": [
  {
   "cell_type": "markdown",
   "metadata": {
    "collapsed": true,
    "nbpresent": {
     "id": "15482a24-9adf-4abd-a4a9-cbef3bfe100d"
    }
   },
   "source": [
    "# Combining Gaussians\n",
    "\n",
    "Suppose the underlying temperature we are measuring is steady at 23 C.\n",
    "\n",
    "First import a bunch of components we will use...\n"
   ]
  },
  {
   "cell_type": "code",
   "execution_count": 1,
   "metadata": {
    "nbpresent": {
     "id": "213bc3b4-66b4-4798-9f30-01c61be30ad1"
    }
   },
   "outputs": [],
   "source": [
    "# gets all of numpy but you will still need to refer to e.g. numpy.random.randn() as random.randn()\n",
    "from numpy import *               # all of the array capable elements for numerical data          \n",
    "from scipy.stats import norm      # comprehensive functions for Gaussian normal distributions\n",
    "import csv                        # library for reading and writing comma separated value files\n",
    "from matplotlib.pyplot import *   # all of pyplot to graph the results of our calculations\n",
    "\n",
    "# put figures inline in the notebook, so you don't have to call show()\n",
    "%matplotlib inline\n",
    "\n",
    "# This lets you make the default figure size larger (or smaller)\n",
    "from IPython.core.pylabtools import figsize\n",
    "figsize(14, 7)"
   ]
  },
  {
   "cell_type": "markdown",
   "metadata": {
    "collapsed": true,
    "nbpresent": {
     "id": "adf0c9b6-a7b3-48b0-accf-d4e43b110461"
    }
   },
   "source": [
    "There is a random variation with a mean of 0 and a standard deviation of 0.5 C due to manufacturing differences in the measurement devices. We can simulate the probability of getting different values from a randomly chosen device."
   ]
  },
  {
   "cell_type": "code",
   "execution_count": 3,
   "metadata": {
    "nbpresent": {
     "id": "fc6b8c2c-95db-4a28-84ae-6271520c1a49"
    }
   },
   "outputs": [
    {
     "name": "stdout",
     "output_type": "stream",
     "text": [
      "0.5003367431165007\n"
     ]
    },
    {
     "data": {
      "image/png": "[encoded data removed]",
      "text/plain": [
       "<Figure size 432x288 with 1 Axes>"
      ]
     },
     "metadata": {},
     "output_type": "display_data"
    }
   ],
   "source": [
    "n = 1000000\n",
    "Tm = 23\n",
    "T1 = random.randn(n) * 0.5 + 0\n",
    "hist(Tm + T1,bins=40,alpha = 0.4, density=True)\n",
    "xlabel('Temperature [C]')\n",
    "print(std(T1))"
   ]
  },
  {
   "cell_type": "markdown",
   "metadata": {},
   "source": [
    "Looks like it will be within +/- 1 about 95% of the time. (+/- 2 standard deviations) Then there's additional electrical noise with a standard deviation of 1 C and a mean of 0. What do we get when we combine the two?"
   ]
  },
  {
   "cell_type": "code",
   "execution_count": 4,
   "metadata": {
    "nbpresent": {
     "id": "fc6b8c2c-95db-4a28-84ae-6271520c1a49"
    }
   },
   "outputs": [
    {
     "name": "stdout",
     "output_type": "stream",
     "text": [
      "0.5003367431165007 0.9999519887473125 1.118202962186846\n",
      "1.1181416888356022\n"
     ]
    },
    {
     "data": {
      "image/png": "[encoded data removed]",
      "text/plain": [
       "<Figure size 432x288 with 1 Axes>"
      ]
     },
     "metadata": {},
     "output_type": "display_data"
    }
   ],
   "source": [
    "T2 = random.randn(n) * 1 + 0\n",
    "hist(Tm+T1,bins=40,alpha = 0.4, density=True)\n",
    "hist(Tm+T2,bins=40,alpha = 0.4, density=True)\n",
    "hist(Tm+T1+T2,bins=40,alpha = 0.4, density=True)\n",
    "xlabel('Temperature [C]')\n",
    "print(std(T1),std(T2),std(T1+T2))\n",
    "print(sqrt(std(T1)**2+std(T2)**2))"
   ]
  },
  {
   "cell_type": "markdown",
   "metadata": {},
   "source": [
    "When you combine two Gaussian distributed random variables, the result is also a Gaussian. Th standard deviation of the combined result is the square root of the sum of the squares of the individual standard deviations.\n",
    "\n",
    "\\begin{equation}\n",
    "s = \\sqrt{s_1^2 + s_2^2}\n",
    "\\end{equation}\n",
    "\n",
    "If the uncertainty (95%) is +/- 2 standard deviations, then the combined uncertainty is\n",
    "\n",
    "\\begin{equation}\n",
    "u = 2s = 2\\sqrt{s_1^2 + s_2^2}= \\sqrt{(2s_1)^2 + (2s_2)^2}= \\sqrt{u_1^2 + u_2^2}\n",
    "\\end{equation}\n",
    "\n",
    "and for more sources of uncertainty\n",
    "\n",
    "\\begin{equation}\n",
    "u = \\sqrt{u_1^2 + u_2^2 + u_3^2 + \\dots}\n",
    "\\end{equation}\n",
    "\n",
    "This diminishing influence results because of the limited probability that all of the uncertainties will act at a large effect in the same direction. The result is the overall uncertainty in a measurement is often dominated by a single large contribution, even when there are many other small contributions."
   ]
  },
  {
   "cell_type": "code",
   "execution_count": null,
   "metadata": {},
   "outputs": [],
   "source": []
  },
  {
   "cell_type": "code",
   "execution_count": null,
   "metadata": {},
   "outputs": [],
   "source": []
  },
  {
   "cell_type": "code",
   "execution_count": null,
   "metadata": {},
   "outputs": [],
   "source": []
  }
 ],
 "metadata": {
  "anaconda-cloud": {},
  "kernelspec": {
   "display_name": "Python 3",
   "language": "python",
   "name": "python3"
  },
  "language_info": {
   "codemirror_mode": {
    "name": "ipython",
    "version": 3
   },
   "file_extension": ".py",
   "mimetype": "text/x-python",
   "name": "python",
   "nbconvert_exporter": "python",
   "pygments_lexer": "ipython3",
   "version": "3.6.5"
  },
  "nbpresent": {
   "slides": {},
   "themes": {
    "default": "4e80ffb4-71fb-4d8d-899a-88cc56a7a805",
    "theme": {}
   }
  }
 },
 "nbformat": 4,
 "nbformat_minor": 1
}
