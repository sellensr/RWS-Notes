{
 "cells": [
  {
   "cell_type": "markdown",
   "metadata": {},
   "source": [
    "# Formatting your Notebook\n",
    "\n",
    "This notebook has multiple **Markdown Cells** to illustrate how *you can provide* more than just plain text. \n",
    "\n",
    "* bulleted lists\n",
    " * with sub bullets including `code formatted with` backquotes (under the ~ at the top left on my keyboard)\n",
    "* Equations in display format with `\\begin{equation}`\n",
    "* headings at different levels with `# Heading`\n",
    "\n",
    "There are lots of markdown cheat sheets. I like this one: https://github.com/adam-p/markdown-here/wiki/Markdown-Cheatsheet\n",
    "\n",
    "## Subheadings\n",
    "are easy to create, as are numbered lists, and you don't have to get the numbering right manually! Double click on the cell to have a look at the markdown source.\n",
    "1. item number one\n",
    "2. item number two\n",
    "2. also number two\n",
    " 3. a sub list\n",
    " 97. the next sub\n",
    "5. definitely not five"
   ]
  },
  {
   "cell_type": "markdown",
   "metadata": {},
   "source": [
    "## Example with equations from another notebook\n",
    "The LaTeX formatting is useful in a lot of different applications and is the long standing world standard for mathematics typesetting! You can cut and paste the equations you use here into other documents. If you expect to use a lot of math in your written work, learning LaTeX is time well spent. (I have used TeX and LaTeX since 1986 - it will probably remain a durable skill like C programming.)\n",
    "\n",
    "Check and make sure that we get the same results by direct calculation. With a little manipulation we don't need to calculate the mean and the differences all the way through, just the sum and the sum of the squares. The mean is simply\n",
    "$\\bar{T} = \\frac{\\Sigma T}{N}$ which can be calculated by keeping a running sum of all the temperature values and the number of samples. The variance is the square of the standard deviation and at first it looks like you need to know the mean before you can start the calculation:\n",
    "\n",
    "\\begin{equation}\n",
    "s^2_T = \\frac{\\Sigma (T-\\bar{T})^2}{N-1}\\quad\n",
    "= \\quad \\frac{\\Sigma (T^2-2T\\bar{T}+\\bar{T}^2)}{N-1}\\quad\n",
    "= \\quad \\frac{\\Sigma T^2 - 2\\Sigma T\\Sigma T/N + (\\Sigma{T})^2/N}{N-1}\n",
    "\\end{equation}\n",
    "\n",
    "It turns out the variance simplifies so that you only need a running total of temperature, temperature squared and the number of points.\n",
    "\\begin{equation}\n",
    "s^2_T = \\frac{\\Sigma T^2 - (\\Sigma{T})^2/N}{N-1}\n",
    "\\end{equation}\n",
    "\n",
    "This makes it easier to keep on updating your calculations each time you get a new data point. Then you can calculate the standard deviation as the square root of the variance. \n",
    "\n",
    "This is easy to implement on a microcontroller without keeping every data point. It saves storage space and calculation time so the controller can respond to changes in real time.\n",
    "\n",
    "https://jupyter-notebook.readthedocs.io/en/stable/examples/Notebook/Working%20With%20Markdown%20Cells.html for a whole lot more!\n",
    "\n"
   ]
  },
  {
   "cell_type": "code",
   "execution_count": null,
   "metadata": {
    "collapsed": true
   },
   "outputs": [],
   "source": []
  }
 ],
 "metadata": {
  "kernelspec": {
   "display_name": "Python 3",
   "language": "python",
   "name": "python3"
  },
  "language_info": {
   "codemirror_mode": {
    "name": "ipython",
    "version": 3
   },
   "file_extension": ".py",
   "mimetype": "text/x-python",
   "name": "python",
   "nbconvert_exporter": "python",
   "pygments_lexer": "ipython3",
   "version": "3.6.6"
  }
 },
 "nbformat": 4,
 "nbformat_minor": 2
}
