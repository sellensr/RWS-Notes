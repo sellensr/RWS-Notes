{
 "cells": [
  {
   "cell_type": "markdown",
   "metadata": {
    "collapsed": true
   },
   "source": [
    "# Adding New Libraries\n",
    "Not everything is in the standard collection of libraries built into the anaconda distribution. I googled \"python thermocouples\" and found information about a library called thermocouples_reference at https://pypi.org/project/thermocouples_reference/. \n",
    "\n",
    "I copied this fragment from their example code, but the first time I ran it I got a ModuleNotFoundError because thermocouples_reference was not installed. Try it yourself.\n",
    "<img src=\"Mod Not Found.png\">"
   ]
  },
  {
   "cell_type": "code",
   "execution_count": 2,
   "metadata": {},
   "outputs": [
    {
     "data": {
      "text/plain": [
       "1.6938477049901346"
      ]
     },
     "execution_count": 2,
     "metadata": {},
     "output_type": "execute_result"
    }
   ],
   "source": [
    "from thermocouples_reference import thermocouples\n",
    "typeK = thermocouples['K']\n",
    "typeK.emf_mVC(42, Tref=0)"
   ]
  },
  {
   "cell_type": "markdown",
   "metadata": {},
   "source": [
    "To add the library to your installation, you need to run the Python Install Program pip. Start a terminal window from your Jupyter home window like this\n",
    "\n",
    "<img src=\"Add Library 1.png\">\n",
    "\n",
    "then type\n",
    "\n",
    "pip install thermocouples_reference\n",
    "\n",
    "and you should see something like this\n",
    "\n",
    "<img src=\"Add Library 2.png\">\n",
    "\n",
    "Type exit at the prompt to close the terminal session. Now try the code at the top of this notebook and you should find the library. You may have to restart Jupyter before it finds it.\n",
    "\n",
    "We will use the thermocouple library later in the course."
   ]
  },
  {
   "cell_type": "code",
   "execution_count": null,
   "metadata": {
    "collapsed": true
   },
   "outputs": [],
   "source": []
  },
  {
   "cell_type": "code",
   "execution_count": null,
   "metadata": {
    "collapsed": true
   },
   "outputs": [],
   "source": []
  },
  {
   "cell_type": "code",
   "execution_count": null,
   "metadata": {
    "collapsed": true
   },
   "outputs": [],
   "source": []
  }
 ],
 "metadata": {
  "anaconda-cloud": {},
  "kernelspec": {
   "display_name": "Python 3",
   "language": "python",
   "name": "python3"
  },
  "language_info": {
   "codemirror_mode": {
    "name": "ipython",
    "version": 3
   },
   "file_extension": ".py",
   "mimetype": "text/x-python",
   "name": "python",
   "nbconvert_exporter": "python",
   "pygments_lexer": "ipython3",
   "version": "3.6.4"
  }
 },
 "nbformat": 4,
 "nbformat_minor": 1
}
