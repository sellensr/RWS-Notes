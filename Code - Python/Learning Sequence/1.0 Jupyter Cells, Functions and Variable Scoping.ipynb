{
 "cells": [
  {
   "cell_type": "markdown",
   "metadata": {},
   "source": [
    "# Cells, Functions and Variable Scoping\n",
    "Each of the boxes in a notebook is called a cell and can be run independently. They can either be Markdown Cells like this one for describing the notebook, or code cells for doing calculations like the next one. Variables defined at the cell level are global and will be visible in all functions. (unless that function defines a different variable with the same name.)\n",
    "\n",
    "Press the play button labelled \"Run\" in the menu bar to run the current cell and stop. Use the Cell menu to choose different Run options. Double click on the text in a markdown cell to open it and allow editing."
   ]
  },
  {
   "cell_type": "code",
   "execution_count": 1,
   "metadata": {},
   "outputs": [
    {
     "name": "stdout",
     "output_type": "stream",
     "text": [
      "15\n"
     ]
    }
   ],
   "source": [
    "# This is a code cell with some statements that \n",
    "# do what you might expect -- press run\n",
    "i = 5\n",
    "j = 10\n",
    "k = i + j\n",
    "print(k)"
   ]
  },
  {
   "cell_type": "markdown",
   "metadata": {},
   "source": [
    "Define a function with the def statement so you can call it from anywhere later. Define a variable inside a function by assigning a value to it, e.g. i = 4. Defining a variable inside a function which has the same name as a global variable will create a new variable that is completely separate from the global variable with the same name.\n",
    "\n",
    "A function needs to be defined before it can be used, so it usually needs to go at the top of the notebook or cell.\n",
    "\n",
    "A function usually returns a result with a return statement, but it doesn't have to."
   ]
  },
  {
   "cell_type": "code",
   "execution_count": 2,
   "metadata": {},
   "outputs": [
    {
     "name": "stdout",
     "output_type": "stream",
     "text": [
      "inside the function g() i = 4\n",
      "g() returns: 42\n"
     ]
    }
   ],
   "source": [
    "def g():\n",
    "    i = 4\n",
    "    print('inside the function g() i =',i) \n",
    "    return 42\n",
    "\n",
    "x = g()\n",
    "print('g() returns:',x)"
   ]
  },
  {
   "cell_type": "markdown",
   "metadata": {},
   "source": [
    "Defining and calling a function is easy and the function will have global variables visible as long as the function doesn't redefine those variable with an assignment statement like i = 3. The argument j in the function f(j) is also an independent variable and not the same as j at the global level.\n",
    "\n",
    "f(j) doesn't return anything so the value is reported as 'None'"
   ]
  },
  {
   "cell_type": "code",
   "execution_count": 3,
   "metadata": {},
   "outputs": [
    {
     "name": "stdout",
     "output_type": "stream",
     "text": [
      "inside f() i = 5\n",
      "inside f() j = 15\n",
      "f(k) returns None\n"
     ]
    }
   ],
   "source": [
    "def f(j):\n",
    "    print('inside f() i =', i)\n",
    "    print('inside f() j =',j)\n",
    "    \n",
    "x = f(k)\n",
    "print('f(k) returns',x)"
   ]
  },
  {
   "cell_type": "markdown",
   "metadata": {},
   "source": [
    "Declaring a variable as \"global\" at the start of the function will make it operate on the global version of the variable instead of a local version."
   ]
  },
  {
   "cell_type": "code",
   "execution_count": 4,
   "metadata": {},
   "outputs": [
    {
     "name": "stdout",
     "output_type": "stream",
     "text": [
      "outside the function at global level i = 5\n",
      "inside function h() i = 3\n",
      "inside function h() k = 3\n",
      "h(j) returns: 100\n",
      "outside the function at global level i = 3\n"
     ]
    }
   ],
   "source": [
    "def h(k):\n",
    "    global i\n",
    "    i = 3\n",
    "    print('inside function h() i =',i)\n",
    "    print('inside function h() k =',i)\n",
    "    return k**2\n",
    "\n",
    "print('outside the function at global level i =',i)\n",
    "print('h(j) returns:',h(j))\n",
    "print('outside the function at global level i =',i)"
   ]
  },
  {
   "cell_type": "markdown",
   "metadata": {
    "collapsed": true
   },
   "source": [
    "Simply putting a variable name or a function call as the last line in a cell will print the value of the variable or the results of the function call."
   ]
  },
  {
   "cell_type": "code",
   "execution_count": 5,
   "metadata": {},
   "outputs": [
    {
     "name": "stdout",
     "output_type": "stream",
     "text": [
      "inside f() i = 3\n",
      "inside f() j = 15\n"
     ]
    }
   ],
   "source": [
    "f(k)"
   ]
  },
  {
   "cell_type": "code",
   "execution_count": 6,
   "metadata": {},
   "outputs": [
    {
     "name": "stdout",
     "output_type": "stream",
     "text": [
      "inside the function g() i = 4\n"
     ]
    },
    {
     "data": {
      "text/plain": [
       "42"
      ]
     },
     "execution_count": 6,
     "metadata": {},
     "output_type": "execute_result"
    }
   ],
   "source": [
    "g()"
   ]
  },
  {
   "cell_type": "code",
   "execution_count": 7,
   "metadata": {},
   "outputs": [
    {
     "name": "stdout",
     "output_type": "stream",
     "text": [
      "inside function h() i = 3\n",
      "inside function h() k = 3\n"
     ]
    },
    {
     "data": {
      "text/plain": [
       "9"
      ]
     },
     "execution_count": 7,
     "metadata": {},
     "output_type": "execute_result"
    }
   ],
   "source": [
    "h(i)"
   ]
  },
  {
   "cell_type": "code",
   "execution_count": 8,
   "metadata": {},
   "outputs": [
    {
     "name": "stdout",
     "output_type": "stream",
     "text": [
      "outside the function at global level i = 3\n",
      "outside the function at global level j = 10\n",
      "outside the function at global level k = 15\n"
     ]
    }
   ],
   "source": [
    "print('outside the function at global level i =',i)\n",
    "print('outside the function at global level j =',j)\n",
    "print('outside the function at global level k =',k)"
   ]
  },
  {
   "cell_type": "code",
   "execution_count": null,
   "metadata": {},
   "outputs": [],
   "source": []
  },
  {
   "cell_type": "code",
   "execution_count": null,
   "metadata": {
    "collapsed": true
   },
   "outputs": [],
   "source": []
  }
 ],
 "metadata": {
  "kernelspec": {
   "display_name": "Python 3",
   "language": "python",
   "name": "python3"
  },
  "language_info": {
   "codemirror_mode": {
    "name": "ipython",
    "version": 3
   },
   "file_extension": ".py",
   "mimetype": "text/x-python",
   "name": "python",
   "nbconvert_exporter": "python",
   "pygments_lexer": "ipython3",
   "version": "3.6.6"
  }
 },
 "nbformat": 4,
 "nbformat_minor": 2
}
