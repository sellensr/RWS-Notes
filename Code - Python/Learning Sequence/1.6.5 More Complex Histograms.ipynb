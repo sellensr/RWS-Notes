{
 "cells": [
  {
   "cell_type": "markdown",
   "metadata": {
    "collapsed": true,
    "nbpresent": {
     "id": "15482a24-9adf-4abd-a4a9-cbef3bfe100d"
    }
   },
   "source": [
    "# Plotting More Complicated Histograms \n",
    "\n",
    "Check the latest matplotlib documentation at https://matplotlib.org/contents.html to find out more about the options on each of the commands."
   ]
  },
  {
   "cell_type": "code",
   "execution_count": 5,
   "metadata": {
    "nbpresent": {
     "id": "15482a24-9adf-4abd-a4a9-cbef3bfe100d"
    }
   },
   "outputs": [],
   "source": [
    "# gets all of numpy but you will still need to refer to e.g. numpy.random.randn() as random.randn()\n",
    "from numpy import *               # all of the array capable elements for numerical data          \n",
    "from scipy.stats import norm      # comprehensive functions for Gaussian normal distributions\n",
    "import csv                        # library for reading and writing comma separated value files\n",
    "from matplotlib.pyplot import *   # all of pyplot to graph the results of our calculations\n",
    "\n",
    "# put figures inline in the notebook, so you don't have to call show()\n",
    "%matplotlib inline\n",
    "\n",
    "n = 10000\n",
    "r1 = random.rand(n) * 6         # uniformly distributed random values between 1 and 6\n",
    "r2 = random.randn(n) * 1.5 + 3  # normally distributed random values, mean 3, SD 1.5\n",
    "r3 = random.randint(1,7,n)      # uniformly distributed random integers between 1 and 6"
   ]
  },
  {
   "cell_type": "markdown",
   "metadata": {},
   "source": [
    "## Customize the Bin Widths, etc.\n",
    "The examples below explore some additional plotting capabilities you may find interesting, but won't need for MECH 217.\n",
    "\n",
    "This sample shows several other more advanced things besides customizing bin widths. Ask yourself which plots actually represent the data clearly. Which mark is given to more students, A or B?\n",
    "\n",
    "N and bins are fairly easy to figure out, but patches gets a little more complicated. Every shape drawn on the plot is a \"patch\" and you can find out much more by googling \"pyplot patches\". I took a look and decided I didn't need to know all the details!"
   ]
  },
  {
   "cell_type": "code",
   "execution_count": 6,
   "metadata": {},
   "outputs": [
    {
     "data": {
      "text/plain": [
       "(array([2.400e+01, 1.730e+02, 7.610e+02, 2.154e+03, 2.985e+03, 2.444e+03,\n",
       "        1.120e+03, 3.000e+02, 3.800e+01, 1.000e+00]),\n",
       " array([-2.44087666, -1.26587197, -0.09086729,  1.08413739,  2.25914207,\n",
       "         3.43414676,  4.60915144,  5.78415612,  6.9591608 ,  8.13416549,\n",
       "         9.30917017]),\n",
       " <a list of 10 Patch objects>)"
      ]
     },
     "execution_count": 6,
     "metadata": {},
     "output_type": "execute_result"
    },
    {
     "data": {
      "image/png": "[encoded data removed]",
      "text/plain": [
       "<Figure size 432x288 with 1 Axes>"
      ]
     },
     "metadata": {
      "needs_background": "light"
     },
     "output_type": "display_data"
    }
   ],
   "source": [
    "N,bins,patches = hist(r2)  # the line from most examples\n",
    "hist(r2)   # the first array is a list of counts and the second is the bin boundaries"
   ]
  },
  {
   "cell_type": "markdown",
   "metadata": {},
   "source": [
    "## Create some data to plot as histograms. Give students marks with about a B average and a reasonable distribution. "
   ]
  },
  {
   "cell_type": "code",
   "execution_count": 7,
   "metadata": {},
   "outputs": [
    {
     "data": {
      "text/plain": [
       "74.99644592641346"
      ]
     },
     "execution_count": 7,
     "metadata": {},
     "output_type": "execute_result"
    }
   ],
   "source": [
    "marks = random.randn(n) * 12 + 75   # an imaginary range of student percentage marks\n",
    "for i in range(0,n): \n",
    "    marks[i] = min(marks[i],100)       # that can't be larger than 100\n",
    "    marks[i] = max(marks[i],0)         # or smaller than 0\n",
    "mean(marks)"
   ]
  },
  {
   "cell_type": "markdown",
   "metadata": {},
   "source": [
    "## Use the figure capability to make multiple subplots with different bin widths, colours and labels."
   ]
  },
  {
   "cell_type": "code",
   "execution_count": 8,
   "metadata": {},
   "outputs": [
    {
     "data": {
      "text/plain": [
       "(array([0.000386, 0.00876 , 0.02288 , 0.03244 , 0.016995]),\n",
       " array([  0,  50,  60,  70,  80, 100]),\n",
       " <a list of 5 Patch objects>)"
      ]
     },
     "execution_count": 8,
     "metadata": {},
     "output_type": "execute_result"
    },
    {
     "data": {
      "image/png": "[encoded data removed]",
      "text/plain": [
       "<Figure size 432x288 with 3 Axes>"
      ]
     },
     "metadata": {
      "needs_background": "light"
     },
     "output_type": "display_data"
    }
   ],
   "source": [
    "b=[0,50,60,70,80,100]    # bin by round letter grade boundaries\n",
    "l=['F','D','C','B','A']\n",
    "\n",
    "# you need to create a figure to do some of the more complex elements in plotting\n",
    "fig = figure()\n",
    "ax = fig.add_subplot(234) # ax will be the 4th set of axes in a fig layout of 2 rows by 3 cols \n",
    "N,bins,patches = ax.hist(marks,bins = b)\n",
    "patches[0].set_facecolor('red')\n",
    "patches[1].set_facecolor('orange')\n",
    "patches[2].set_facecolor('yellow')\n",
    "patches[3].set_facecolor('green')\n",
    "patches[4].set_facecolor('blue')\n",
    "for i in range(0,5):\n",
    "    ax.text((b[i+1]+b[i])/2-3,N[i]/2,l[i],size = 20)\n",
    "\n",
    "ax2 = fig.add_subplot(232)\n",
    "ax2.hist(marks)\n",
    "\n",
    "ax6 = fig.add_subplot(236)\n",
    "ax6.hist(marks,bins=b,density=True)\n",
    "\n"
   ]
  },
  {
   "cell_type": "markdown",
   "metadata": {},
   "source": [
    "## Exercise caution with histograms!\n",
    "Note that how you present your data makes a difference to the impression, especially if you mess with the bin widths. The normalized plot gives me a better picture of the reality of marks distribution, while the plot of counts emphasizes artifacts of the binning used to turn percentages into letter grades. There are more students with A- than with B+ because B+ includes only 3% of the range (77.0-79.9) while A- includes 5% of the range (80.0-84.9). The F block looks disproportionately large in the second plot because the area hasn't been normalized to give the right visual impression. "
   ]
  },
  {
   "cell_type": "code",
   "execution_count": 9,
   "metadata": {},
   "outputs": [
    {
     "data": {
      "image/png": "[encoded data removed]",
      "text/plain": [
       "<Figure size 432x288 with 2 Axes>"
      ]
     },
     "metadata": {
      "needs_background": "light"
     },
     "output_type": "display_data"
    }
   ],
   "source": [
    "b=[0,50,53, 57, 60,  63,  67, 70,  73,  77, 80,  85,  90, 100]   # bin to fine scale\n",
    "l=['F','D-','D','D+','C-','C','C+','B-','B','B+','A-','A','A+']\n",
    "fig = figure()\n",
    "ax = fig.add_subplot(121)\n",
    "N,bins,patches = ax.hist(marks,bins=b,density=True)\n",
    "for i in range(0,13):\n",
    "    ax.text((b[i+1]+b[i])/2-1,N[i]/2,l[i])\n",
    "    if (int(i/2)*2 == i): patches[i].set_facecolor('red')\n",
    "axc = fig.add_subplot(122)\n",
    "N,bins,patches = axc.hist(marks,bins=b)\n",
    "for i in range(0,13):\n",
    "    axc.text((b[i+1]+b[i])/2-1,N[i]/2,l[i])\n",
    "    if (int(i/2)*2 == i): patches[i].set_facecolor('red')\n"
   ]
  },
  {
   "cell_type": "code",
   "execution_count": null,
   "metadata": {},
   "outputs": [],
   "source": []
  },
  {
   "cell_type": "code",
   "execution_count": null,
   "metadata": {},
   "outputs": [],
   "source": []
  },
  {
   "cell_type": "code",
   "execution_count": null,
   "metadata": {},
   "outputs": [],
   "source": []
  }
 ],
 "metadata": {
  "anaconda-cloud": {},
  "kernelspec": {
   "display_name": "Python 3",
   "language": "python",
   "name": "python3"
  },
  "language_info": {
   "codemirror_mode": {
    "name": "ipython",
    "version": 3
   },
   "file_extension": ".py",
   "mimetype": "text/x-python",
   "name": "python",
   "nbconvert_exporter": "python",
   "pygments_lexer": "ipython3",
   "version": "3.6.6"
  },
  "nbpresent": {
   "slides": {},
   "themes": {
    "default": "4e80ffb4-71fb-4d8d-899a-88cc56a7a805",
    "theme": {}
   }
  }
 },
 "nbformat": 4,
 "nbformat_minor": 1
}
