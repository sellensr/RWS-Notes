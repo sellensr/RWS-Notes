{
 "cells": [
  {
   "cell_type": "markdown",
   "metadata": {},
   "source": [
    "# Jupyter and Python Learning Sequence\n",
    "This sequence was created primarily to support MECH 217, Measurement in Mechatronics. It is organized on the asssumption you have a basic programming course, but no familiarity with Python or Jupyter. It is not a full coverage tutorial, and concentrates on skills you need for the course.\n",
    "\n",
    "You can find more background at https://ecampusontario.pressbooks.pub/rwsnotes/\n",
    "\n",
    "**1.X The Basics** of using Jupyter Notebooks to run some Python Code and plot graphs. You will need all of these.\n",
    "\n",
    "**2.X Formatting** text and pictures to explain your code. Yopu will need all of these.\n",
    "\n",
    "**3.X Statistics, Monte Carlo Simulations and Uncertainty.** 3.5 and above are not required for MECH 217, but may be of interest.\n",
    "\n",
    "**4.X Sampling and Signal Processing Techniques.** 4.5 and above are not required for MECH 217, but may be of interest.\n",
    "\n",
    "**6.X Control Techniques.** 6.5 and above are not required for MECH 217, but may be of interest.\n",
    "\n",
    "**7.X Predicting Dynamic Performance of Measurement Systems.** 7.5 and above are not required for MECH 217, but may be of interest.\n",
    "\n",
    "**8.X Resources for Individual Components.** 8.5 and above are not required for MECH 217, but may be of interest."
   ]
  },
  {
   "cell_type": "code",
   "execution_count": null,
   "metadata": {},
   "outputs": [],
   "source": []
  }
 ],
 "metadata": {
  "kernelspec": {
   "display_name": "Python 3",
   "language": "python",
   "name": "python3"
  },
  "language_info": {
   "codemirror_mode": {
    "name": "ipython",
    "version": 3
   },
   "file_extension": ".py",
   "mimetype": "text/x-python",
   "name": "python",
   "nbconvert_exporter": "python",
   "pygments_lexer": "ipython3",
   "version": "3.6.6"
  }
 },
 "nbformat": 4,
 "nbformat_minor": 2
}
