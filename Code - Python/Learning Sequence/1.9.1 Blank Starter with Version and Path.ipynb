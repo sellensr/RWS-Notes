{
 "cells": [
  {
   "cell_type": "markdown",
   "metadata": {},
   "source": [
    "# Import the Usual  Libraries\n",
    "You can use this as a starting point so you don't forget the imports"
   ]
  },
  {
   "cell_type": "code",
   "execution_count": 5,
   "metadata": {},
   "outputs": [],
   "source": [
    "# gets all of numpy but you will still need to refer to e.g. numpy.random.randn() as random.randn()\n",
    "from numpy import *               # all of the array capable elements for numerical data          \n",
    "from scipy.stats import norm      # comprehensive functions for Gaussian normal distributions\n",
    "import csv                        # library for reading and writing comma separated value files\n",
    "from matplotlib.pyplot import *   # all of pyplot to graph the results of our calculations\n",
    "\n",
    "# put figures inline in the notebook, so you don't have to call show()\n",
    "%matplotlib inline\n",
    "\n",
    "# This lets you make the default figure size larger (or smaller)\n",
    "from IPython.core.pylabtools import figsize\n",
    "figsize(14, 7)"
   ]
  },
  {
   "cell_type": "markdown",
   "metadata": {},
   "source": [
    "## Check the version information and file search path\n",
    "\n",
    "This additional code will make it easier to import your own custom libraries as detailed in the example on Importing Libraries."
   ]
  },
  {
   "cell_type": "code",
   "execution_count": 6,
   "metadata": {
    "scrolled": true
   },
   "outputs": [
    {
     "name": "stdout",
     "output_type": "stream",
     "text": [
      "Python version:\n",
      "3.6.4 |Anaconda custom (64-bit)| (default, Jan 16 2018, 12:04:33) \n",
      "[GCC 4.2.1 Compatible Clang 4.0.1 (tags/RELEASE_401/final)]\n",
      "\n",
      "Version information:\n",
      "sys.version_info(major=3, minor=6, micro=4, releaselevel='final', serial=0)\n",
      "\n",
      "Path:\n",
      "['', '/Users/sellensr/anaconda3/lib/python36.zip', '/Users/sellensr/anaconda3/lib/python3.6', '/Users/sellensr/anaconda3/lib/python3.6/lib-dynload', '/Users/sellensr/anaconda3/lib/python3.6/site-packages', '/Users/sellensr/anaconda3/lib/python3.6/site-packages/aeosa', '/Users/sellensr/anaconda3/lib/python3.6/site-packages/IPython/extensions', '/Users/sellensr/.ipython', '/Users/sellensr/Documents/PythonLibs']\n"
     ]
    }
   ],
   "source": [
    "import sys,os,os.path\n",
    "print(\"Python version:\")\n",
    "print (sys.version)\n",
    "print(\"\\nVersion information:\")\n",
    "print (sys.version_info)\n",
    "print(\"\\nPath:\")\n",
    "print(sys.path)\n"
   ]
  },
  {
   "cell_type": "markdown",
   "metadata": {},
   "source": [
    "## Add a directory to the python path to find my personal libraries\n",
    "This code will add a path by appending it to the system search path. I used a path into my documents folder so that Mac OS will copy the latest versions of my library files over to all my machines automatically."
   ]
  },
  {
   "cell_type": "code",
   "execution_count": 7,
   "metadata": {},
   "outputs": [
    {
     "name": "stdout",
     "output_type": "stream",
     "text": [
      "Path:\n",
      "['', '/Users/sellensr/anaconda3/lib/python36.zip', '/Users/sellensr/anaconda3/lib/python3.6', '/Users/sellensr/anaconda3/lib/python3.6/lib-dynload', '/Users/sellensr/anaconda3/lib/python3.6/site-packages', '/Users/sellensr/anaconda3/lib/python3.6/site-packages/aeosa', '/Users/sellensr/anaconda3/lib/python3.6/site-packages/IPython/extensions', '/Users/sellensr/.ipython', '/Users/sellensr/Documents/PythonLibs', '/Users/sellensr/Documents/PythonLibs']\n"
     ]
    }
   ],
   "source": [
    "sys.path.append(os.path.expanduser(\"~/Documents/PythonLibs\"))\n",
    "import RWSlib\n",
    "print(\"Path:\")\n",
    "print(sys.path)\n"
   ]
  },
  {
   "cell_type": "code",
   "execution_count": 8,
   "metadata": {},
   "outputs": [
    {
     "name": "stdout",
     "output_type": "stream",
     "text": [
      "RWSLib Version:\n",
      "0.0.9\n",
      "\n",
      "RWSLib Version information:\n",
      "Just a little test library with some MECH 217 functions in it.\n"
     ]
    }
   ],
   "source": [
    "print(\"RWSLib Version:\")\n",
    "print (RWSlib.version)\n",
    "print(\"\\nRWSLib Version information:\")\n",
    "print (RWSlib.version_info)\n"
   ]
  },
  {
   "cell_type": "markdown",
   "metadata": {},
   "source": [
    "## Use a function from the library\n",
    "\n",
    "Because moving average is defined in the library RWSlib.py, we don't need to define it here in the notebook before we can use it."
   ]
  },
  {
   "cell_type": "code",
   "execution_count": 9,
   "metadata": {},
   "outputs": [
    {
     "data": {
      "text/plain": [
       "<matplotlib.legend.Legend at 0x1a115794e0>"
      ]
     },
     "execution_count": 9,
     "metadata": {},
     "output_type": "execute_result"
    },
    {
     "data": {
      "image/png": "[encoded data removed]",
      "text/plain": [
       "<matplotlib.figure.Figure at 0x1a0bb4d668>"
      ]
     },
     "metadata": {},
     "output_type": "display_data"
    }
   ],
   "source": [
    "from RWSlib import *\n",
    "\n",
    "t = linspace(0,1,1000)  # time of measurement\n",
    "# Simulate a low frequency signal with added high frequency noise \n",
    "T = sin(10*t) + sin(1000*t)/10\n",
    "n = 5\n",
    "\n",
    "Tma = movingAverage(T,20,10)\n",
    "\n",
    "plot(t,T,label = 'Raw Data')\n",
    "plot(t,Tma,label = 'Moving Averaged Data')\n",
    "legend()"
   ]
  },
  {
   "cell_type": "code",
   "execution_count": null,
   "metadata": {},
   "outputs": [],
   "source": []
  }
 ],
 "metadata": {
  "anaconda-cloud": {},
  "kernelspec": {
   "display_name": "Python 3",
   "language": "python",
   "name": "python3"
  },
  "language_info": {
   "codemirror_mode": {
    "name": "ipython",
    "version": 3
   },
   "file_extension": ".py",
   "mimetype": "text/x-python",
   "name": "python",
   "nbconvert_exporter": "python",
   "pygments_lexer": "ipython3",
   "version": "3.6.6"
  }
 },
 "nbformat": 4,
 "nbformat_minor": 1
}
