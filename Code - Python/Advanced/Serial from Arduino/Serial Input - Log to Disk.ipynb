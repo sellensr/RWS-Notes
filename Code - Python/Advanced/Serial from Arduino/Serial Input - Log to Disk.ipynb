{
 "cells": [
  {
   "cell_type": "markdown",
   "metadata": {},
   "source": [
    "# Start out with 'Serial Input - an Example' to understand the process\n",
    "Use this code as a starting point to pull in serial data once you know how things work and log to disk. It should work with any data format. You will need to make sure the serial library has been installed."
   ]
  },
  {
   "cell_type": "code",
   "execution_count": 1,
   "metadata": {},
   "outputs": [],
   "source": [
    "%matplotlib inline\n",
    "import numpy as np\n",
    "import matplotlib.pyplot as plt\n",
    "import time\n",
    "import serial\n",
    "import serial.tools.list_ports\n",
    "import datetime"
   ]
  },
  {
   "cell_type": "markdown",
   "metadata": {},
   "source": [
    "## Make sure the Arduino is plugged in and available\n",
    "\n",
    "If the IDE and/or the serial monitor are open, Jupyter may not be able to get access to the serial port. Run the cell to see a list of serial ports, then use the right format in the next cell to open the port you have the arduino plugged into."
   ]
  },
  {
   "cell_type": "code",
   "execution_count": 2,
   "metadata": {},
   "outputs": [
    {
     "name": "stdout",
     "output_type": "stream",
     "text": [
      "/dev/cu.wlan-debug - n/a\n",
      "/dev/cu.Bluetooth-Incoming-Port - n/a\n",
      "/dev/cu.usbmodem22401 - Feather M0\n",
      "/dev/cu.usbmodem22301 - ItsyBitsy M0 Express\n",
      "/dev/cu.usbmodem109NTDVPZ9622 - USB Controls\n"
     ]
    }
   ],
   "source": [
    "# Show a list of existing serial ports so you can decide what to open\n",
    "ports = list(serial.tools.list_ports.comports())\n",
    "for p in ports:\n",
    "    print(p)"
   ]
  },
  {
   "cell_type": "code",
   "execution_count": 3,
   "metadata": {},
   "outputs": [],
   "source": [
    "# Serial port must not be in use by another application, or complex errors will show up\n",
    "# Be sure the Arduino serial monitor is closed before you run this cell!\n",
    "ser = serial.Serial('/dev/cu.usbmodem22401',115200,timeout=1)\n",
    "#ser = serial.Serial('COM3',115200,timeout=1)"
   ]
  },
  {
   "cell_type": "code",
   "execution_count": 4,
   "metadata": {},
   "outputs": [
    {
     "name": "stdout",
     "output_type": "stream",
     "text": [
      "done\n"
     ]
    }
   ],
   "source": [
    "def catchUp():   # get rid of any data lying around the serial buffer\n",
    "    while ser.in_waiting > 100:  # read just about everything that's there\n",
    "        ser.reset_input_buffer()   # throwaway everything in the buffer\n",
    "        ser.readline()\n",
    "    ser.readline()\n",
    "    \n",
    "catchUp()\n",
    "print(\"done\")"
   ]
  },
  {
   "cell_type": "markdown",
   "metadata": {},
   "source": [
    "## Write out the data to a file\n",
    "You need to open the file ('tmpYY-MM-DD-hh-mm-ss.csv' will wind up in the current directory) in order to write on it ('w'), then write a whole series of lines. Putting a time stamp on means you won't overwrite the last data you took by mistake, but may make things difficult to keep track of. Change the file names as soon as practical and delete the ones you don't need.\n",
    "\n",
    "I googled and found the timestamp code here:\n",
    "\n",
    "http://www.pythonforbeginners.com/basics/python-datetime-time-examples"
   ]
  },
  {
   "cell_type": "code",
   "execution_count": 5,
   "metadata": {},
   "outputs": [
    {
     "name": "stdout",
     "output_type": "stream",
     "text": [
      "Writing data to: tmp22-11-29-16-11-58.csv\n"
     ]
    }
   ],
   "source": [
    "fn = ('tmp' \n",
    "      + datetime.datetime.now().strftime(\"%y-%m-%d-%H-%M-%S\") \n",
    "      + '.csv')\n",
    "f = open(fn,'w')\n",
    "print(\"Writing data to: \"+fn)"
   ]
  },
  {
   "cell_type": "code",
   "execution_count": 6,
   "metadata": {},
   "outputs": [
    {
     "name": "stdout",
     "output_type": "stream",
     "text": [
      "3829.113,   5.4690,  -0.8833\n",
      "3829.115,   5.4679,  -0.8839\n",
      "3829.116,   5.4668,  -0.8844\n",
      "3829.117,   5.4658,  -0.8850\n",
      "3829.118,   5.4647,  -0.8856\n",
      "3829.119,   5.4636,  -0.8861\n",
      "3829.121,   5.4625,  -0.8867\n",
      "3829.122,   5.4615,  -0.8873\n",
      "3829.123,   5.4604,  -0.8878\n",
      "3829.124,   5.4593,  -0.8884\n",
      "3829.125,   5.4583,  -0.8889\n",
      "3829.127,   5.4572,  -0.8895\n",
      "3829.128,   5.4561,  -0.8900\n",
      "3829.129,   5.4550,  -0.8906\n",
      "3829.130,   5.4539,  -0.8911\n",
      "3829.131,   5.4529,  -0.8917\n",
      "3829.133,   5.4518,  -0.8922\n",
      "3829.134,   5.4507,  -0.8928\n",
      "3829.135,   5.4496,  -0.8933\n",
      "3829.136,   5.4485,  -0.8939\n",
      "3829.138,   5.4474,  -0.8944\n"
     ]
    }
   ],
   "source": [
    "lines = 20   # the number of lines you want to read from the arduino\n",
    "a = []        # a[] is just a list for now...\n",
    "\n",
    "catchUp()\n",
    "\n",
    "# read in a whole lot of lines from the serial port and append them to a[]\n",
    "for i in range(0,lines+1):\n",
    "    #read, then decode into simple ASCII, strip off whitespace\n",
    "    a.append(ser.readline().decode(\"utf-8\").strip())\n",
    "    print(a[i])\n",
    "    f.write(a[i])\n",
    "    f.write(\"\\n\")\n",
    "    "
   ]
  },
  {
   "cell_type": "code",
   "execution_count": 7,
   "metadata": {},
   "outputs": [
    {
     "name": "stdout",
     "output_type": "stream",
     "text": [
      "True\n"
     ]
    }
   ],
   "source": [
    "print(ser.isOpen())"
   ]
  },
  {
   "cell_type": "code",
   "execution_count": 8,
   "metadata": {},
   "outputs": [],
   "source": [
    "ser.close()\n",
    "f.close()"
   ]
  },
  {
   "cell_type": "code",
   "execution_count": null,
   "metadata": {},
   "outputs": [],
   "source": []
  }
 ],
 "metadata": {
  "anaconda-cloud": {},
  "kernelspec": {
   "display_name": "Python 3 (ipykernel)",
   "language": "python",
   "name": "python3"
  },
  "language_info": {
   "codemirror_mode": {
    "name": "ipython",
    "version": 3
   },
   "file_extension": ".py",
   "mimetype": "text/x-python",
   "name": "python",
   "nbconvert_exporter": "python",
   "pygments_lexer": "ipython3",
   "version": "3.9.15"
  }
 },
 "nbformat": 4,
 "nbformat_minor": 1
}
