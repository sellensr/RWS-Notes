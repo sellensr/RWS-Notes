{
 "cells": [
  {
   "cell_type": "markdown",
   "metadata": {},
   "source": [
    "# Start out with 'Serial Input' to understand the process\n",
    "Use this code as a starting point to pull in serial data once you know how things work and log to disk. It should work with any data format. You will need to make sure the serial library has been installed."
   ]
  },
  {
   "cell_type": "code",
   "execution_count": 19,
   "metadata": {},
   "outputs": [],
   "source": [
    "%matplotlib inline\n",
    "import numpy as np\n",
    "import matplotlib.pyplot as plt\n",
    "import time\n",
    "import serial\n",
    "import serial.tools.list_ports\n",
    "import datetime"
   ]
  },
  {
   "cell_type": "markdown",
   "metadata": {},
   "source": [
    "## Make sure the Arduino is plugged in and available\n",
    "\n",
    "If the IDE and/or the serial monitor are open, Jupyter may not be able to get access to the serial port. Run the cell to see a list of serial ports, then use the right format in the next cell to open the port you have the arduino plugged into."
   ]
  },
  {
   "cell_type": "code",
   "execution_count": 20,
   "metadata": {},
   "outputs": [
    {
     "name": "stdout",
     "output_type": "stream",
     "text": [
      "/dev/cu.wlan-debug - n/a\n",
      "/dev/cu.Bluetooth-Incoming-Port - n/a\n",
      "/dev/cu.usbmodem22401 - Feather M0\n",
      "/dev/cu.usbmodem109NTDVPZ9622 - USB Controls\n"
     ]
    }
   ],
   "source": [
    "# Show a list of existing serial ports so you can decide what to open\n",
    "ports = list(serial.tools.list_ports.comports())\n",
    "for p in ports:\n",
    "    print(p)"
   ]
  },
  {
   "cell_type": "code",
   "execution_count": 21,
   "metadata": {},
   "outputs": [],
   "source": [
    "# Serial port must not be in use by another application, or complex errors will show up\n",
    "# Be sure the Arduino serial monitor is closed before you run this cell!\n",
    "ser = serial.Serial('/dev/cu.usbmodem22401',115200,timeout=1)\n",
    "#ser = serial.Serial('COM3',115200,timeout=1)"
   ]
  },
  {
   "cell_type": "code",
   "execution_count": 22,
   "metadata": {},
   "outputs": [
    {
     "name": "stdout",
     "output_type": "stream",
     "text": [
      "done\n"
     ]
    }
   ],
   "source": [
    "def catchUp():   # get rid of any data lying around the serial buffer\n",
    "    while ser.in_waiting > 100:  # read just about everything that's there\n",
    "        ser.reset_input_buffer()   # throwaway everything in the buffer\n",
    "        ser.readline()\n",
    "    ser.readline()\n",
    "    \n",
    "catchUp()\n",
    "print(\"done\")"
   ]
  },
  {
   "cell_type": "markdown",
   "metadata": {},
   "source": [
    "## Write out the data to a file\n",
    "You need to open the file ('tmpYY-MM-DD-hh-mm-ss.csv' will wind up in the current directory) in order to write on it ('w'), then write a whole series of lines. Putting a time stamp on means you won't overwrite the last data you took by mistake, but may make things difficult to keep track of. Change the file names as soon as practical and delete the ones you don't need.\n",
    "\n",
    "I googled and found the timestamp code here:\n",
    "\n",
    "http://www.pythonforbeginners.com/basics/python-datetime-time-examples"
   ]
  },
  {
   "cell_type": "code",
   "execution_count": 23,
   "metadata": {},
   "outputs": [
    {
     "name": "stdout",
     "output_type": "stream",
     "text": [
      "Writing data to: tmp22-11-23-11-28-27.csv\n"
     ]
    }
   ],
   "source": [
    "fn = ('tmp' \n",
    "      + datetime.datetime.now().strftime(\"%y-%m-%d-%H-%M-%S\") \n",
    "      + '.csv')\n",
    "f = open(fn,'w')\n",
    "print(\"Writing data to: \"+fn)"
   ]
  },
  {
   "cell_type": "code",
   "execution_count": 24,
   "metadata": {},
   "outputs": [
    {
     "name": "stdout",
     "output_type": "stream",
     "text": [
      "sin(time):4.609668,cos(time):-0.920590\n",
      "sin(time):4.354275,cos(time):-0.763434\n",
      "sin(time):4.156938,cos(time):-0.537626\n",
      "sin(time):4.035395,cos(time):-0.263492\n",
      "sin(time):4.000582,cos(time):0.034325\n",
      "sin(time):4.055610,cos(time):0.329037\n",
      "sin(time):4.195536,cos(time):0.594182\n",
      "sin(time):4.407801,cos(time):0.805919\n",
      "sin(time):4.673308,cos(time):0.945201\n",
      "sin(time):4.968170,cos(time):0.999500\n",
      "sin(time):5.265899,cos(time):0.963944\n",
      "sin(time):5.539726,cos(time):0.841725\n",
      "sin(time):5.765036,cos(time):0.643815\n",
      "sin(time):5.921557,cos(time):0.388034\n",
      "sin(time):5.995227,cos(time):0.097367\n",
      "sin(time):5.979422,cos(time):-0.202035\n",
      "sin(time):5.875568,cos(time):-0.483294\n",
      "sin(time):5.692979,cos(time):-0.721104\n",
      "sin(time):5.448084,cos(time):-0.894086\n",
      "sin(time):5.162907,cos(time):-0.986676\n",
      "sin(time):4.863098,cos(time):-0.990556\n"
     ]
    }
   ],
   "source": [
    "lines = 20   # the number of lines you want to read from the arduino\n",
    "a = []        # a[] is just a list for now...\n",
    "\n",
    "catchUp()\n",
    "\n",
    "# read in a whole lot of lines from the serial port and append them to a[]\n",
    "for i in range(0,lines+1):\n",
    "    #read, then decode into simple ASCII, strip off whitespace\n",
    "    a.append(ser.readline().decode(\"utf-8\").strip())\n",
    "    print(a[i])\n",
    "    f.write(a[i])\n",
    "    f.write(\"\\n\")\n",
    "    "
   ]
  },
  {
   "cell_type": "code",
   "execution_count": 28,
   "metadata": {},
   "outputs": [
    {
     "name": "stdout",
     "output_type": "stream",
     "text": [
      "False\n"
     ]
    }
   ],
   "source": [
    "print(ser.isOpen())"
   ]
  },
  {
   "cell_type": "code",
   "execution_count": 26,
   "metadata": {},
   "outputs": [],
   "source": [
    "ser.close()\n",
    "f.close()"
   ]
  },
  {
   "cell_type": "code",
   "execution_count": null,
   "metadata": {},
   "outputs": [],
   "source": []
  }
 ],
 "metadata": {
  "anaconda-cloud": {},
  "kernelspec": {
   "display_name": "Python 3 (ipykernel)",
   "language": "python",
   "name": "python3"
  },
  "language_info": {
   "codemirror_mode": {
    "name": "ipython",
    "version": 3
   },
   "file_extension": ".py",
   "mimetype": "text/x-python",
   "name": "python",
   "nbconvert_exporter": "python",
   "pygments_lexer": "ipython3",
   "version": "3.9.12"
  }
 },
 "nbformat": 4,
 "nbformat_minor": 1
}
