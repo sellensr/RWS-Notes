{
 "cells": [
  {
   "cell_type": "markdown",
   "metadata": {},
   "source": [
    "# Getting input from the serial ports\n",
    "First you need to make sure that pyserial is installed on your system. On my mac I followed the approach below, opening a terminal window (New/Terminal from the Jupyter directory page) and running pip to install the library. We did the same thing on a Windows 10 machine with the same success.\n",
    "\n",
    "pip install pyserial\n",
    "\n",
    "If that doesn't work, you could try: python -m pip install pyserial to install from inside the python package. If you have multiple versions of python installed it gets more complicated and you will have to sort that out on your own."
   ]
  },
  {
   "cell_type": "raw",
   "metadata": {},
   "source": [
    "Last login: Wed Feb  1 09:04:40 on ttys000\n",
    "Ricks-iMac:~ sellensr$ pip install pyserial\n",
    "Collecting pyserial\n",
    "  Downloading pyserial-3.2.1-py2.py3-none-any.whl (189kB)\n",
    "    100% |████████████████████████████████| 194kB 1.4MB/s \n",
    "Installing collected packages: pyserial\n",
    "Successfully installed pyserial-3.2.1"
   ]
  },
  {
   "cell_type": "raw",
   "metadata": {},
   "source": [
    "Microsoft Windows [Version 10.0.14393]\n",
    "(c) 2016 Microsoft Corporation. All rights reserved.\n",
    "\n",
    "C:\\Users\\Stacey>pip install pyserial\n",
    "Collecting pyserial\n",
    "  Downloading pyserial-3.2.1-py2.py3-none-any.whl (189kB)\n",
    "    100% |################################| 194kB 1.7MB/s\n",
    "Installing collected packages: pyserial\n",
    "Successfully installed pyserial-3.2.1"
   ]
  },
  {
   "cell_type": "markdown",
   "metadata": {},
   "source": [
    "# Shut down Jupyter!\n",
    "\n",
    "If you don't do a complete restart of Jupyter, it may not catch the library and the permissions to access the port -- we needed to do this on Windows, but got away without it on Mac. Then run the next cell to import the libraries."
   ]
  },
  {
   "cell_type": "code",
   "execution_count": 1,
   "metadata": {},
   "outputs": [],
   "source": [
    "%matplotlib inline\n",
    "import numpy as np\n",
    "import matplotlib.pyplot as plt\n",
    "import time\n",
    "import serial\n",
    "import serial.tools.list_ports"
   ]
  },
  {
   "cell_type": "markdown",
   "metadata": {},
   "source": [
    "## Make sure the Arduino is plugged in and available\n",
    "\n",
    "If the IDE and/or the serial monitor are open, Jupyter may not be able to get access to the serial port. Run the cell to see a list of serial ports, then use the right format in the next cell to open the port you have the arduino plugged into."
   ]
  },
  {
   "cell_type": "code",
   "execution_count": 9,
   "metadata": {},
   "outputs": [
    {
     "name": "stdout",
     "output_type": "stream",
     "text": [
      "/dev/cu.wlan-debug - n/a\n",
      "/dev/cu.Bluetooth-Incoming-Port - n/a\n",
      "/dev/cu.usbmodem22401 - Feather M0\n",
      "/dev/cu.usbmodem109NTDVPZ9622 - USB Controls\n"
     ]
    }
   ],
   "source": [
    "# Show a list of existing serial ports so you can decide what to open\n",
    "ports = list(serial.tools.list_ports.comports())\n",
    "for p in ports:\n",
    "    print(p)"
   ]
  },
  {
   "cell_type": "code",
   "execution_count": 10,
   "metadata": {},
   "outputs": [],
   "source": [
    "# Serial port must not be in use by another application, or complex errors will show up\n",
    "# Be sure the Arduino serial monitor is closed before you run this cell!\n",
    "#ser = serial.Serial('/dev/cu.usbmodemFD14131',115200,timeout=1)\n",
    "#ser = serial.Serial('/dev/cu.usbmodem1A1321',115200,timeout=1)\n",
    "#ser = serial.Serial('/dev/cu.usbmodem1411',115200,timeout=1)\n",
    "#ser = serial.Serial('/dev/cu.usbmodemFD1461',115200,timeout=1)\n",
    "ser = serial.Serial('/dev/cu.usbmodem22401',115200,timeout=1)\n",
    "#ser = serial.Serial('COM3',115200,timeout=1)"
   ]
  },
  {
   "cell_type": "markdown",
   "metadata": {},
   "source": [
    "## Throw away anything that is in the serial port input buffer"
   ]
  },
  {
   "cell_type": "code",
   "execution_count": 11,
   "metadata": {},
   "outputs": [
    {
     "name": "stdout",
     "output_type": "stream",
     "text": [
      "done\n"
     ]
    }
   ],
   "source": [
    "def catchUp():   #not sure why this seems to work better\n",
    "    while ser.in_waiting > 100:  # read just about everything that's there\n",
    "        ser.reset_input_buffer()   # throwaway everything in the buffer\n",
    "        ser.readline()\n",
    "    ser.readline()\n",
    "    \n",
    "catchUp()\n",
    "print(\"done\")"
   ]
  },
  {
   "cell_type": "markdown",
   "metadata": {},
   "source": [
    "## Read Some Lines\n",
    "Throw away any whitespace at the beginning and end of the lines, then split them into tokens separated by commas. If they are just numbers, you could then use float() to convert the strings to numbers."
   ]
  },
  {
   "cell_type": "code",
   "execution_count": 13,
   "metadata": {},
   "outputs": [
    {
     "name": "stdout",
     "output_type": "stream",
     "text": [
      "sin(time):5.212653,cos(time):-0.977173 <class 'str'>\n",
      "['sin(time):5.212653', 'cos(time):-0.977173']\n",
      "sin(time):4.913424,cos(time):-0.996227 <class 'str'>\n",
      "['sin(time):4.913424', 'cos(time):-0.996227']\n",
      "sin(time):4.621980,cos(time):-0.925717 <class 'str'>\n",
      "['sin(time):4.621980', 'cos(time):-0.925717']\n",
      "sin(time):4.364505,cos(time):-0.771970 <class 'str'>\n",
      "['sin(time):4.364505', 'cos(time):-0.771970']\n",
      "sin(time):4.164172,cos(time):-0.548805 <class 'str'>\n",
      "['sin(time):4.164172', 'cos(time):-0.548805']\n"
     ]
    }
   ],
   "source": [
    "catchUp()\n",
    "for i in range(0,5):\n",
    "    line = ser.readline().decode(\"utf-8\")  # decode turns bytes into a string\n",
    "    line = line.strip()                    # strip removes any whitespace like \\n\n",
    "    print(line, type(line))\n",
    "    mylist = line.split(\",\")               # split it into tokens separated by commas\n",
    "    print(mylist)"
   ]
  },
  {
   "cell_type": "code",
   "execution_count": null,
   "metadata": {},
   "outputs": [],
   "source": []
  }
 ],
 "metadata": {
  "anaconda-cloud": {},
  "kernelspec": {
   "display_name": "Python 3 (ipykernel)",
   "language": "python",
   "name": "python3"
  },
  "language_info": {
   "codemirror_mode": {
    "name": "ipython",
    "version": 3
   },
   "file_extension": ".py",
   "mimetype": "text/x-python",
   "name": "python",
   "nbconvert_exporter": "python",
   "pygments_lexer": "ipython3",
   "version": "3.9.12"
  }
 },
 "nbformat": 4,
 "nbformat_minor": 1
}
