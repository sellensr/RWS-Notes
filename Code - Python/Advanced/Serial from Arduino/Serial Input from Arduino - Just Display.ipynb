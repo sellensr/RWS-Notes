{
 "cells": [
  {
   "cell_type": "markdown",
   "metadata": {},
   "source": [
    "# Getting input from the serial ports\n",
    "First you need to make sure that pyserial is installed on your system. On my mac (Sierra) I followed the approach below, opening a terminal window and running pip to install the library. We did the same thing on Stacey's Windows 10 machine with the same success.\n",
    "\n",
    "pip install pyserial\n",
    "\n",
    "If that doesn't work, you could try: python -m pip install pyserial to install from inside the python package. If you have multiple versions of python installed it gets more complicated and you will have to sort that out on your own."
   ]
  },
  {
   "cell_type": "raw",
   "metadata": {},
   "source": [
    "Last login: Wed Feb  1 09:04:40 on ttys000\n",
    "Ricks-iMac:~ sellensr$ pip install pyserial\n",
    "Collecting pyserial\n",
    "  Downloading pyserial-3.2.1-py2.py3-none-any.whl (189kB)\n",
    "    100% |████████████████████████████████| 194kB 1.4MB/s \n",
    "Installing collected packages: pyserial\n",
    "Successfully installed pyserial-3.2.1"
   ]
  },
  {
   "cell_type": "raw",
   "metadata": {},
   "source": [
    "Microsoft Windows [Version 10.0.14393]\n",
    "(c) 2016 Microsoft Corporation. All rights reserved.\n",
    "\n",
    "C:\\Users\\Stacey>pip install pyserial\n",
    "Collecting pyserial\n",
    "  Downloading pyserial-3.2.1-py2.py3-none-any.whl (189kB)\n",
    "    100% |################################| 194kB 1.7MB/s\n",
    "Installing collected packages: pyserial\n",
    "Successfully installed pyserial-3.2.1"
   ]
  },
  {
   "cell_type": "markdown",
   "metadata": {},
   "source": [
    "# Shut down Jupyter!\n",
    "\n",
    "If you don't do a complete restart of Jupyter, it may not catch the library and the permissions to access the port -- we needed to do this on Windows, but got away without it on Mac. Then run the next cell to import the libraries."
   ]
  },
  {
   "cell_type": "code",
   "execution_count": 1,
   "metadata": {},
   "outputs": [],
   "source": [
    "%matplotlib inline\n",
    "import numpy as np\n",
    "import matplotlib.pyplot as plt\n",
    "import time\n",
    "import serial\n",
    "import serial.tools.list_ports"
   ]
  },
  {
   "cell_type": "markdown",
   "metadata": {},
   "source": [
    "## Make sure the Arduino is plugged in and available\n",
    "\n",
    "If the IDE and/or the serial monitor are open, Jupyter may not be able to get access to the serial port. Run the cell to see a list of serial ports, then use the right format in the next cell to open the port you have the arduino plugged into."
   ]
  },
  {
   "cell_type": "code",
   "execution_count": 2,
   "metadata": {},
   "outputs": [
    {
     "name": "stdout",
     "output_type": "stream",
     "text": [
      "/dev/cu.wlan-debug - n/a\n",
      "/dev/cu.usbmodem109NTDVPZ9622 - USB Controls\n",
      "/dev/cu.Bluetooth-Incoming-Port - n/a\n",
      "/dev/cu.usbmodem221101 - ItsyBitsy M0 Express\n"
     ]
    }
   ],
   "source": [
    "# Show a list of existing serial ports so you can decide what to open\n",
    "ports = list(serial.tools.list_ports.comports())\n",
    "for p in ports:\n",
    "    print(p)"
   ]
  },
  {
   "cell_type": "code",
   "execution_count": 3,
   "metadata": {},
   "outputs": [],
   "source": [
    "# Serial port must not be in use by another application, or complex errors will show up\n",
    "# Be sure the Arduino serial monitor is closed before you run this cell!\n",
    "#ser = serial.Serial('/dev/cu.usbmodemFD14131',115200,timeout=1)\n",
    "#ser = serial.Serial('/dev/cu.usbmodem1A1321',115200,timeout=1)\n",
    "#ser = serial.Serial('/dev/cu.usbmodem1411',115200,timeout=1)\n",
    "#ser = serial.Serial('/dev/cu.usbmodemFD1461',115200,timeout=1)\n",
    "ser = serial.Serial('/dev/cu.usbmodem221101',115200,timeout=1)\n",
    "#ser = serial.Serial('COM3',115200,timeout=1)"
   ]
  },
  {
   "cell_type": "markdown",
   "metadata": {},
   "source": [
    "## Empty the buffer"
   ]
  },
  {
   "cell_type": "code",
   "execution_count": 12,
   "metadata": {},
   "outputs": [
    {
     "name": "stdout",
     "output_type": "stream",
     "text": [
      "done\n"
     ]
    }
   ],
   "source": [
    "def catchUp():   #empty everything in the buffer so you only get what's the latest\n",
    "    while ser.in_waiting > 100:  # read just about everything that's there\n",
    "        ser.reset_input_buffer()   # throwaway everything in the buffer\n",
    "        ser.readline()\n",
    "    ser.readline()\n",
    "    \n",
    "catchUp()\n",
    "print(\"done\")"
   ]
  },
  {
   "cell_type": "code",
   "execution_count": 14,
   "metadata": {},
   "outputs": [
    {
     "name": "stdout",
     "output_type": "stream",
     "text": [
      "1220.573, 2610.53, 2589.44\n",
      "1220.594, 2699.52, 2673.23\n",
      "1220.615, 2788.16, 2762.66\n",
      "1220.636, 2876.76, 2845.65\n",
      "1220.657, 2965.39, 2938.30\n",
      "1220.678, 253.64, 273.93\n",
      "1220.699, 341.85, 344.02\n",
      "1220.720, 430.22, 439.90\n",
      "1220.741, 518.81, 526.11\n",
      "1220.763, 607.46, 616.34\n",
      "1220.784, 696.00, 700.13\n",
      "1220.805, 784.81, 788.76\n",
      "1220.826, 873.61, 874.16\n",
      "1220.847, 962.33, 961.98\n",
      "1220.868, 1050.95, 1048.18\n",
      "1220.889, 1139.45, 1128.75\n",
      "1220.910, 1228.07, 1223.82\n",
      "1220.931, 1316.79, 1313.25\n",
      "1220.953, 1405.57, 1399.46\n",
      "1220.974, 1494.55, 1486.47\n",
      "1220.995, 1583.25, 1574.29\n",
      "1221.016, 1672.07, 1663.72\n",
      "1221.037, 1760.83, 1749.12\n",
      "1221.058, 1849.45, 1836.94\n",
      "1221.079, 1938.17, 1915.09\n",
      "1221.101, 2027.01, 2015.00\n",
      "1221.122, 2115.77, 2101.20\n",
      "1221.143, 2204.55, 2187.41\n",
      "1221.164, 2293.37, 2273.62\n",
      "1221.185, 2382.09, 2360.63\n",
      "1221.206, 2470.77, 2447.64\n",
      "1221.227, 2559.63, 2537.88\n",
      "1221.249, 2648.61, 2625.70\n",
      "1221.270, 2737.28, 2710.30\n",
      "1221.291, 2826.15, 2801.34\n",
      "1221.312, 2914.93, 2887.54\n",
      "1221.333, 203.22, 226.40\n",
      "1221.354, 291.41, 304.55\n",
      "1221.375, 379.61, 382.70\n",
      "1221.396, 467.80, 480.99\n",
      "1221.417, 556.27, 564.78\n",
      "1221.438, 644.82, 650.99\n",
      "1221.459, 733.44, 740.42\n",
      "1221.480, 821.97, 816.96\n",
      "1221.501, 910.36, 909.61\n",
      "1221.522, 998.88, 997.43\n",
      "1221.544, 1087.57, 1087.66\n",
      "1221.565, 1176.14, 1172.26\n",
      "1221.586, 1265.03, 1262.49\n",
      "1221.607, 1353.88, 1347.09\n",
      "1221.628, 1442.56, 1437.33\n",
      "1221.649, 1531.11, 1521.12\n",
      "1221.670, 1619.74, 1611.35\n",
      "1221.691, 1708.32, 1699.98\n",
      "1221.712, 1796.88, 1786.99\n",
      "1221.734, 1885.69, 1872.39\n",
      "1221.755, 1974.51, 1961.02\n",
      "1221.776, 2063.30, 2046.42\n",
      "1221.797, 2152.23, 2139.88\n",
      "1221.818, 2240.81, 2224.47\n",
      "1221.839, 2329.35, 2312.29\n",
      "1221.860, 2417.95, 2397.69\n",
      "1221.881, 2506.52, 2484.71\n",
      "1221.902, 2595.07, 2572.52\n",
      "1221.924, 2683.81, 2657.93\n",
      "1221.945, 2772.46, 2744.94\n",
      "1221.966, 2861.15, 2828.73\n",
      "1221.987, 2949.92, 2920.58\n",
      "1222.008, 238.19, 262.65\n",
      "1222.029, 326.39, 341.61\n",
      "1222.050, 414.72, 427.01\n",
      "1222.071, 503.04, 510.80\n",
      "1222.092, 591.71, 598.62\n",
      "1222.113, 680.23, 683.21\n",
      "1222.134, 768.81, 771.84\n",
      "1222.155, 857.33, 858.05\n",
      "1222.176, 945.68, 946.67\n",
      "1222.198, 1034.31, 1030.46\n",
      "1222.219, 1122.99, 1120.70\n",
      "1222.240, 1211.74, 1206.90\n",
      "1222.261, 1300.44, 1297.94\n",
      "1222.282, 1389.30, 1381.73\n",
      "1222.303, 1478.01, 1471.17\n",
      "1222.324, 1566.74, 1554.96\n",
      "1222.345, 1655.35, 1647.61\n",
      "1222.367, 1744.15, 1729.79\n",
      "1222.388, 1832.73, 1821.63\n",
      "1222.409, 1921.54, 1909.45\n",
      "1222.430, 2010.52, 1997.27\n",
      "1222.451, 2099.31, 2082.67\n",
      "1222.472, 2187.92, 2171.30\n",
      "1222.493, 2276.54, 2259.92\n",
      "1222.514, 2365.18, 2346.13\n",
      "1222.536, 2454.10, 2435.56\n",
      "1222.557, 2542.85, 2522.57\n",
      "1222.578, 2631.71, 2606.36\n",
      "1222.599, 2720.46, 2695.79\n",
      "1222.620, 2809.11, 2782.00\n",
      "1222.641, 2897.71, 2871.43\n",
      "1222.662, 2986.32, 2954.42\n"
     ]
    }
   ],
   "source": [
    "catchUp()                 # Run as often as you need to grab data\n",
    "for i in range(0,100):    # Set the line count to grab enough lines to pick from\n",
    "    line = ser.readline().decode(\"utf-8\")  # decode turns bytes into a string\n",
    "    line = line.strip()                    # strip removes extraneous whitespace\n",
    "    print(line)\n",
    "    "
   ]
  },
  {
   "cell_type": "markdown",
   "metadata": {},
   "source": [
    "## Copy the output and paste in \n",
    "You will probably need to select the first line you want, then scroll down to pick the last line you want with Shift-Click then Ctrl-C or Cmd-C to copy. (Ctrl-A will try to grab the whole web page...)"
   ]
  },
  {
   "cell_type": "code",
   "execution_count": null,
   "metadata": {
    "collapsed": true
   },
   "outputs": [],
   "source": []
  }
 ],
 "metadata": {
  "anaconda-cloud": {},
  "kernelspec": {
   "display_name": "Python 3 (ipykernel)",
   "language": "python",
   "name": "python3"
  },
  "language_info": {
   "codemirror_mode": {
    "name": "ipython",
    "version": 3
   },
   "file_extension": ".py",
   "mimetype": "text/x-python",
   "name": "python",
   "nbconvert_exporter": "python",
   "pygments_lexer": "ipython3",
   "version": "3.9.12"
  }
 },
 "nbformat": 4,
 "nbformat_minor": 1
}
