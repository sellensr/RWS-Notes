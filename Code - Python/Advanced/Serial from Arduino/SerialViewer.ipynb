{
 "cells": [
  {
   "cell_type": "markdown",
   "id": "00924a46",
   "metadata": {},
   "source": [
    "# Getting input from the serial ports using tkinter\n",
    "First you need to make sure that pyserial and tkinter are installed on your system. On my mac (Sierra) I followed the approach below, opening a terminal window and running pip to install the libraries. We did the same thing on a Windows 10 machine with the same success. To open a terminal window, go to the Jupyter file browser and choose New/Terminal\n",
    "\n",
    "pip install pyserial\n",
    "\n",
    "pip install tkinter\n"
   ]
  },
  {
   "cell_type": "raw",
   "id": "fe6d42d7",
   "metadata": {},
   "source": [
    "Last login: Wed Feb  1 09:04:40 on ttys000\n",
    "Ricks-iMac:~ sellensr$ pip install pyserial\n",
    "Collecting pyserial\n",
    "  Downloading pyserial-3.2.1-py2.py3-none-any.whl (189kB)\n",
    "    100% |████████████████████████████████| 194kB 1.4MB/s \n",
    "Installing collected packages: pyserial\n",
    "Successfully installed pyserial-3.2.1"
   ]
  },
  {
   "cell_type": "code",
   "execution_count": null,
   "id": "1a1ebac0",
   "metadata": {},
   "outputs": [
    {
     "name": "stdout",
     "output_type": "stream",
     "text": [
      "starting tracking/logging\n",
      "stopping tracking/logging\n"
     ]
    }
   ],
   "source": [
    "import numpy as np\n",
    "import matplotlib.pyplot as plt\n",
    "import time\n",
    "import datetime\n",
    "\n",
    "import serial\n",
    "import serial.tools.list_ports\n",
    "\n",
    "import tkinter as tk\n",
    "import tkinter.scrolledtext as scrolledtext\n",
    "import tkinter.filedialog as filedialog\n",
    "\n",
    "# Make a tkinter window\n",
    "window = tk.Tk()\n",
    "window.title(\"Rick's Serial Viewer / Logger\")\n",
    "window.geometry(\"800x800\")\n",
    "\n",
    "# with two scrolling text boxes\n",
    "devList = scrolledtext.ScrolledText(window, highlightbackground = \"orange\", \n",
    "                                    highlightthickness = 2, \n",
    "                                    width = 60, height = 10)\n",
    "devList.grid(row = 0, columnspan = 3,pady = 10,padx = 10)\n",
    "\n",
    "serText = scrolledtext.ScrolledText(window, highlightbackground = \"blue\", \n",
    "                                    highlightthickness = 2, \n",
    "                                    width = 100, height = 40)\n",
    "serText.grid(row = 1, columnspan = 4,padx = 10)\n",
    "\n",
    "# and a frame with a dropdown and some buttons arranged on a grid\n",
    "frame1 = tk.Frame(window)\n",
    "tk.Label(frame1, text= \"Select Serial Device Name:\").grid(row = 0,column = 0, sticky = 'W')\n",
    "devName = tk.StringVar()\n",
    "devName.set(\"Choose a Serial Device\")\n",
    "devOption = tk.OptionMenu(frame1,devName,\"Choose a Serial Device\")\n",
    "devOption.grid(row = 1, column = 0, columnspan = 2, sticky = 'W')\n",
    "saveAsButton = tk.Button(frame1, text=\"Save Output As...\")\n",
    "saveAsButton.grid(row = 2, column=1)\n",
    "startButton = tk.Button(frame1, text=\"Start Logging\")\n",
    "startButton.grid(row = 2, column=0)\n",
    "clearButton = tk.Button(frame1, text=\"Clear the Output\")\n",
    "clearButton.grid(row = 3, column = 1)\n",
    "frame1.grid(row = 0, column = 3)\n",
    "\n",
    "ser = 0    # the serial port handle to read from if one is open, otherwise 0\n",
    "\n",
    "def startLog(event):   # when the start logging button is pressed\n",
    "    global ser\n",
    "    if(startButton['text'] == \"Start Logging\"):\n",
    "        print(\"starting tracking/logging\")\n",
    "        try:\n",
    "            ser = serial.Serial(devName.get(),115200,timeout=1)\n",
    "        except:\n",
    "            ser = 0\n",
    "            tk.messagebox.showerror(\"Opening Error\", \"Error opening serial device\\nChoose a valid device\")\n",
    "        else:\n",
    "            startButton.config(text = \"Stop Logging\")\n",
    "    else:\n",
    "        print(\"stopping tracking/logging\")\n",
    "        startButton.config(text = \"Start Logging\")\n",
    "        try:   \n",
    "            ser.close()\n",
    "        except:   # I don't think this will ever happen\n",
    "            tk.messagebox.showerror(\"Closing Error\", \"Error closing serial device\")\n",
    "        ser = 0\n",
    "    \n",
    "startButton.bind(\"<Button-1>\", startLog)\n",
    "\n",
    "def saveAs(event):   #when hitting the save as button\n",
    "    file = tk.filedialog.asksaveasfile(mode='w')\n",
    "    if(file):\n",
    "        print(\"writing file...\")\n",
    "        file.write(serText.get(\"1.0\",tk.END))\n",
    "        file.close\n",
    "\n",
    "saveAsButton.bind(\"<Button-1>\", saveAs)\n",
    "\n",
    "a = []                 # a place to save the data for later\n",
    "def clearLog(event):   # when hitting the clear the output button\n",
    "    global a\n",
    "    a = []\n",
    "    serText.delete(\"1.0\",tk.END)\n",
    "\n",
    "clearButton.bind(\"<Button-1>\", clearLog)\n",
    "\n",
    "def pollSerial():   # check for new lines on the serial port\n",
    "    if(ser != 0):\n",
    "        line = ser.readline().decode(\"utf-8\")  # decode turns bytes into a string\n",
    "        line = line.strip()                    # strip to remove potential \\r\\n double termination\n",
    "        if(line != \"\"):                        # timeout will return a null line\n",
    "            a.append(line.split(','))\n",
    "            serText.insert(tk.END,line) \n",
    "            serText.insert(tk.END,'\\n')        # add single \\n to terminate line\n",
    "            serText.yview_moveto(1.0)          # keep the focus at the end of the text\n",
    "            window.after(1,pollSerial)         # return very often for more serial data if there was no timeout\n",
    "        else:\n",
    "            window.after(50,pollSerial)        # return often for more serial data\n",
    "    else:                                      # return too often and the app locks in timeouts for slow data\n",
    "        window.after(50,pollSerial)            # return often for more serial data\n",
    "    \n",
    "pollSerial()   # start it running repeatedly\n",
    "\n",
    "def refreshPorts():\n",
    "    # Show a list of existing serial ports so you can decide what to open\n",
    "    ports = list(serial.tools.list_ports.comports())\n",
    "    devOption['menu'].delete(0,'end')    # remove all the old options from the optionmenu\n",
    "    devList.delete(\"1.0\",tk.END)         # empty out the displayed list\n",
    "    devList.insert(tk.END,\"System returns this list of Serial Devices:\\n\\n\")\n",
    "    maxwidth = 0                         # track the largest menu option text width\n",
    "    for p in ports:\n",
    "        s = str(p).split()[0]            # put only the first token in the menu\n",
    "        devOption['menu'].add_command(label=s, command=tk._setit(devName, s))\n",
    "        maxwidth = max(maxwidth,len(s))\n",
    "        devList.insert(tk.END,p)         # add the complete port line with descriptors to the list\n",
    "        devList.insert(tk.END,'\\n')      # with a new line\n",
    "    devOption.config(width = maxwidth)   # make sure the menu is wide enough\n",
    "    window.after(500,refreshPorts)       #repeat again later, but not too often   \n",
    "        \n",
    "refreshPorts()   # start it running repeatedly\n",
    "\n",
    "window.mainloop()\n"
   ]
  },
  {
   "cell_type": "markdown",
   "id": "b6640d8d",
   "metadata": {},
   "source": [
    "## Plot the Results\n",
    "\n",
    "a[] is an array of all the lines recorded since the last clearing of the output, split at commas into string tokens. If all of those tokens are string representations of numbers, it will be very easy to convert them to a floating point array and draw somw graphs."
   ]
  },
  {
   "cell_type": "code",
   "execution_count": 32,
   "id": "7b79e883",
   "metadata": {},
   "outputs": [
    {
     "name": "stdout",
     "output_type": "stream",
     "text": [
      "[['330.987', '   4.0999', '  -0.4354'], ['330.988', '   4.0994', '  -0.4344'], ['330.990', '   4.0988', '  -0.4333']] \n",
      "\n",
      "\n",
      "[[330.987    4.0999  -0.4354]\n",
      " [330.988    4.0994  -0.4344]\n",
      " [330.99     4.0988  -0.4333]]\n"
     ]
    },
    {
     "data": {
      "text/plain": [
       "[<matplotlib.lines.Line2D at 0x7f81a82a9d00>,\n",
       " <matplotlib.lines.Line2D at 0x7f81a82a9d60>]"
      ]
     },
     "execution_count": 32,
     "metadata": {},
     "output_type": "execute_result"
    },
    {
     "data": {
      "image/png": "[encoded data removed]",
      "text/plain": [
       "<Figure size 432x288 with 1 Axes>"
      ]
     },
     "metadata": {
      "needs_background": "light"
     },
     "output_type": "display_data"
    }
   ],
   "source": [
    "print(a[:3],\"\\n\\n\")                            # a should be full of string tokens\n",
    "x = np.asfarray(a)                             # convert a[] into an np.array of floats\n",
    "print(x[:3,:])                                 # print a few lines to be sure it worked  \n",
    "plt.plot(x[:,0],x[:,1],x[:,0],x[:,2])"
   ]
  },
  {
   "cell_type": "code",
   "execution_count": null,
   "id": "7e0d8aae",
   "metadata": {},
   "outputs": [],
   "source": []
  }
 ],
 "metadata": {
  "kernelspec": {
   "display_name": "Python 3 (ipykernel)",
   "language": "python",
   "name": "python3"
  },
  "language_info": {
   "codemirror_mode": {
    "name": "ipython",
    "version": 3
   },
   "file_extension": ".py",
   "mimetype": "text/x-python",
   "name": "python",
   "nbconvert_exporter": "python",
   "pygments_lexer": "ipython3",
   "version": "3.9.12"
  }
 },
 "nbformat": 4,
 "nbformat_minor": 5
}
