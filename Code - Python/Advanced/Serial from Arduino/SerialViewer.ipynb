{
 "cells": [
  {
   "cell_type": "markdown",
   "id": "00924a46",
   "metadata": {},
   "source": [
    "# Getting input from the serial ports using tkinter\n",
    "First you need to make sure that pyserial and tkinter are installed on your system. If you are using Anaconda, then tkinter is probably already installed. On my mac (Ventura) I followed the approach below, opening a terminal window and running pip to install the libraries. We did the same thing on a Windows 10 machine with the same success, although the tkinter install may look like it failed. To open a terminal window, go to the Jupyter file browser and choose New/Terminal\n",
    "\n",
    "pip install pyserial\n",
    "\n",
    "pip install tk\n"
   ]
  },
  {
   "cell_type": "raw",
   "id": "fe6d42d7",
   "metadata": {},
   "source": [
    "Last login: Wed Feb  1 09:04:40 on ttys000\n",
    "Ricks-iMac:~ sellensr$ pip install pyserial\n",
    "Collecting pyserial\n",
    "  Downloading pyserial-3.2.1-py2.py3-none-any.whl (189kB)\n",
    "    100% |████████████████████████████████| 194kB 1.4MB/s \n",
    "Installing collected packages: pyserial\n",
    "Successfully installed pyserial-3.2.1"
   ]
  },
  {
   "cell_type": "code",
   "execution_count": 11,
   "id": "1a1ebac0",
   "metadata": {},
   "outputs": [
    {
     "name": "stdout",
     "output_type": "stream",
     "text": [
      "starting recording\n",
      "stopping recording\n"
     ]
    }
   ],
   "source": [
    "import numpy as np\n",
    "import matplotlib.pyplot as plt\n",
    "import time\n",
    "import datetime\n",
    "\n",
    "import serial\n",
    "import serial.tools.list_ports\n",
    "\n",
    "import tkinter as tk\n",
    "import tkinter.scrolledtext as scrolledtext\n",
    "import tkinter.filedialog as filedialog\n",
    "\n",
    "# Make a tkinter window\n",
    "window = tk.Tk()\n",
    "window.title(\"Rick's Serial Viewer / Recorder\")\n",
    "window.geometry(\"800x800\")\n",
    "\n",
    "# with two scrolling text boxes\n",
    "devList = scrolledtext.ScrolledText(window, highlightbackground = \"orange\", \n",
    "                                    highlightthickness = 2, \n",
    "                                    width = 60, height = 10)\n",
    "devList.grid(row = 0, columnspan = 3,pady = 10,padx = 10)\n",
    "\n",
    "serText = scrolledtext.ScrolledText(window, highlightbackground = \"blue\", \n",
    "                                    highlightthickness = 2, \n",
    "                                    width = 100, height = 40)\n",
    "serText.grid(row = 1, columnspan = 4,padx = 10)\n",
    "\n",
    "# and a frame with a dropdown and some buttons arranged on a grid\n",
    "frame1 = tk.Frame(window)\n",
    "tk.Label(frame1, text= \"Select Serial Device Name:\").grid(row = 0,column = 0, sticky = 'W')\n",
    "devName = tk.StringVar()\n",
    "devName.set(\"Choose a Serial Device\")\n",
    "devOption = tk.OptionMenu(frame1,devName,\"Choose a Serial Device\")\n",
    "devOption.grid(row = 1, column = 0, columnspan = 2, sticky = 'W')\n",
    "saveAsButton = tk.Button(frame1, text=\"Save Output As...\")\n",
    "saveAsButton.grid(row = 2, column=1)\n",
    "startButton = tk.Button(frame1, text=\"Start Recording\")\n",
    "startButton.grid(row = 2, column=0)\n",
    "clearButton = tk.Button(frame1, text=\"Clear the Output\")\n",
    "clearButton.grid(row = 3, column = 1)\n",
    "frame1.grid(row = 0, column = 3)\n",
    "\n",
    "ser = 0    # the serial port handle to read from if one is open, otherwise 0\n",
    "\n",
    "def startLog(event):   # when the start logging button is pressed\n",
    "    global ser\n",
    "    if(startButton['text'] == \"Start Recording\"):\n",
    "        print(\"starting recording\")\n",
    "        try:\n",
    "            ser = serial.Serial(devName.get(),115200,timeout=1)\n",
    "        except:\n",
    "            ser = 0\n",
    "            tk.messagebox.showerror(\"Opening Error\", \"Error opening serial device:\"+\n",
    "                                    \"\\nConnect and choose a valid device\")\n",
    "        else:\n",
    "            startButton.config(text = \"Stop Recording\")\n",
    "    else:\n",
    "        print(\"stopping recording\")\n",
    "        startButton.config(text = \"Start Recording\")\n",
    "        try:   \n",
    "            ser.close()\n",
    "        except:   # I don't think this will ever happen\n",
    "            tk.messagebox.showerror(\"Closing Error\", \"Error closing serial device\")\n",
    "        ser = 0\n",
    "    \n",
    "startButton.bind(\"<Button-1>\", startLog)\n",
    "\n",
    "def saveAs(event):   #when hitting the save as button\n",
    "    file = tk.filedialog.asksaveasfile(mode='w')\n",
    "    if(file):\n",
    "        print(\"writing file...\")\n",
    "        file.write(serText.get(\"1.0\",tk.END))\n",
    "        file.close\n",
    "\n",
    "saveAsButton.bind(\"<Button-1>\", saveAs)\n",
    "\n",
    "a = []                 # a place to save the data for later\n",
    "def clearLog(event):   # when hitting the clear the output button\n",
    "    global a\n",
    "    a = []\n",
    "    serText.delete(\"1.0\",tk.END)\n",
    "\n",
    "clearButton.bind(\"<Button-1>\", clearLog)\n",
    "\n",
    "def pollSerial():   # check for new lines on the serial port\n",
    "    if(ser != 0):\n",
    "        line = ser.readline().decode(\"utf-8\")  # decode turns bytes into a string\n",
    "        line = line.strip()                    # strip to remove potential \\r\\n double termination\n",
    "        if(line != \"\"):                        # timeout will return a null line\n",
    "            a.append(line.split(','))\n",
    "            serText.insert(tk.END,line) \n",
    "            serText.insert(tk.END,'\\n')        # add single \\n to terminate line\n",
    "            serText.yview_moveto(1.0)          # keep the focus at the end of the text\n",
    "            window.after(1,pollSerial)         # return very often for more serial data if there was no timeout\n",
    "        else:\n",
    "            window.after(50,pollSerial)        # return often for more serial data if timed out\n",
    "    else:                                      # return too often and the app locks in timeouts for slow data\n",
    "        window.after(250,pollSerial)           # return less often for more serial data if not connected\n",
    "    \n",
    "pollSerial()   # start it running repeatedly\n",
    "\n",
    "def refreshPorts():\n",
    "    # Show a list of existing serial ports so you can decide what to open\n",
    "    ports = list(serial.tools.list_ports.comports())\n",
    "    devOption['menu'].delete(0,'end')    # remove all the old options from the optionmenu\n",
    "    devList.delete(\"1.0\",tk.END)         # empty out the displayed list\n",
    "    devList.insert(tk.END,\"System returns this list of Serial Devices:\\n\\n\")\n",
    "    maxwidth = 23                        # track the largest menu option text width >20\n",
    "    for p in ports:\n",
    "        s = str(p).split()[0]            # put only the first token in the menu\n",
    "        devOption['menu'].add_command(label=s, command=tk._setit(devName, s))\n",
    "        maxwidth = max(maxwidth,len(s))\n",
    "        devList.insert(tk.END,p)         # add the complete port line with descriptors to the list\n",
    "        devList.insert(tk.END,'\\n')      # with a new line\n",
    "    devOption.config(width = maxwidth)   # make sure the menu is wide enough\n",
    "    window.after(500,refreshPorts)       #repeat again later, but not too often   \n",
    "        \n",
    "refreshPorts()   # start it running repeatedly\n",
    "\n",
    "window.mainloop()\n"
   ]
  },
  {
   "cell_type": "markdown",
   "id": "b6640d8d",
   "metadata": {},
   "source": [
    "## Close the tkinter Window\n",
    "\n",
    "The tkinter cell above will keep running until you close the window it created. You won't be able to run the next cell until it finishes.\n",
    "\n",
    "## Plot the Results\n",
    "\n",
    "a[ ] is an array of all the lines recorded since the last clearing of the output, split at commas into string tokens. If all of those tokens are string representations of numbers, it will be very easy to convert them to a floating point array and draw some graphs."
   ]
  },
  {
   "cell_type": "code",
   "execution_count": 12,
   "id": "7b79e883",
   "metadata": {},
   "outputs": [
    {
     "name": "stdout",
     "output_type": "stream",
     "text": [
      " ['2623.586', '   4.6509', '  -0.9370'] \n",
      " ['2623.588', '   4.6498', '  -0.9366'] \n",
      " ['2623.589', '   4.6486', '  -0.9362'] \n",
      "\n",
      "\n",
      "[[ 2.623586e+03  4.650900e+00 -9.370000e-01]\n",
      " [ 2.623588e+03  4.649800e+00 -9.366000e-01]\n",
      " [ 2.623589e+03  4.648600e+00 -9.362000e-01]]\n"
     ]
    },
    {
     "data": {
      "text/plain": [
       "<matplotlib.legend.Legend at 0x7f91300a2f70>"
      ]
     },
     "execution_count": 12,
     "metadata": {},
     "output_type": "execute_result"
    },
    {
     "data": {
      "image/png": "[encoded data removed]",
      "text/plain": [
       "<Figure size 640x480 with 1 Axes>"
      ]
     },
     "metadata": {},
     "output_type": "display_data"
    }
   ],
   "source": [
    "print('',a[0],'\\n',a[1],'\\n',a[2],\"\\n\\n\")      # a should be full of string tokens\n",
    "x = np.asfarray(a)                             # convert a[] into an np.array of floats\n",
    "print(x[:3,:])                                 # print a few lines to be sure it worked  \n",
    "# You need to specify the labels to match your data by changing these strings.\n",
    "# Make sure there are enough for all the columns in your data.\n",
    "labels = [\"Time [s]\", \"Sine(t) + 5\", \"Cosine(t)\", \"Variable 3\", \"Variable 4\", \n",
    "          \"Variable 5\", \"Variable 6\", \"Variable 7\", \"Variable 8\"]\n",
    "for col in range(1,x.shape[1]):                # for each of the columns after the first\n",
    "    plt.plot(x[:,0],x[:,col], label = labels[col])\n",
    "plt.xlabel(labels[0])\n",
    "plt.grid()\n",
    "plt.legend()"
   ]
  },
  {
   "cell_type": "code",
   "execution_count": null,
   "id": "7e0d8aae",
   "metadata": {},
   "outputs": [],
   "source": []
  }
 ],
 "metadata": {
  "kernelspec": {
   "display_name": "Python 3 (ipykernel)",
   "language": "python",
   "name": "python3"
  },
  "language_info": {
   "codemirror_mode": {
    "name": "ipython",
    "version": 3
   },
   "file_extension": ".py",
   "mimetype": "text/x-python",
   "name": "python",
   "nbconvert_exporter": "python",
   "pygments_lexer": "ipython3",
   "version": "3.9.15"
  }
 },
 "nbformat": 4,
 "nbformat_minor": 5
}
