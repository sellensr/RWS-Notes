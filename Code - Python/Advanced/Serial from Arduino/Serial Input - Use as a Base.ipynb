{
 "cells": [
  {
   "cell_type": "markdown",
   "metadata": {},
   "source": [
    "# Start out with 'Serial Input' to understand the process\n",
    "Use this code as a starting point to pull in serial data once you know how things work."
   ]
  },
  {
   "cell_type": "code",
   "execution_count": 1,
   "metadata": {},
   "outputs": [],
   "source": [
    "%matplotlib inline\n",
    "import numpy as np\n",
    "import matplotlib.pyplot as plt\n",
    "import time\n",
    "import serial\n",
    "import serial.tools.list_ports"
   ]
  },
  {
   "cell_type": "markdown",
   "metadata": {},
   "source": [
    "## Make sure the Arduino is plugged in and available\n",
    "\n",
    "If the IDE and/or the serial monitor are open, Jupyter may not be able to get access to the serial port. Run the cell to see a list of serial ports, then use the right format in the next cell to open the port you have the arduino plugged into."
   ]
  },
  {
   "cell_type": "code",
   "execution_count": 2,
   "metadata": {},
   "outputs": [
    {
     "name": "stdout",
     "output_type": "stream",
     "text": [
      "/dev/cu.wlan-debug - n/a\n",
      "/dev/cu.Bluetooth-Incoming-Port - n/a\n",
      "/dev/cu.usbmodem22401 - Feather M0\n",
      "/dev/cu.usbmodem109NTDVPZ9622 - USB Controls\n"
     ]
    }
   ],
   "source": [
    "# Show a list of existing serial ports so you can decide what to open\n",
    "ports = list(serial.tools.list_ports.comports())\n",
    "for p in ports:\n",
    "    print(p)"
   ]
  },
  {
   "cell_type": "code",
   "execution_count": 3,
   "metadata": {},
   "outputs": [],
   "source": [
    "# Serial port must not be in use by another application, or complex errors will show up\n",
    "# Be sure the Arduino serial monitor is closed before you run this cell!\n",
    "#ser = serial.Serial('/dev/cu.usbmodemFD14131',115200,timeout=1)\n",
    "#ser = serial.Serial('/dev/cu.usbmodem1A1321',115200,timeout=1)\n",
    "#ser = serial.Serial('/dev/cu.usbmodem1411',115200,timeout=1)\n",
    "#ser = serial.Serial('/dev/cu.usbmodemFD1461',115200,timeout=1)\n",
    "ser = serial.Serial('/dev/cu.usbmodem22401',115200,timeout=1)\n",
    "#ser = serial.Serial('COM3',115200,timeout=1)"
   ]
  },
  {
   "cell_type": "code",
   "execution_count": 4,
   "metadata": {},
   "outputs": [
    {
     "name": "stdout",
     "output_type": "stream",
     "text": [
      "done\n"
     ]
    }
   ],
   "source": [
    "def catchUp():   # get rid of any data lying around the serial buffer\n",
    "    while ser.in_waiting > 100:  # read just about everything that's there\n",
    "        ser.reset_input_buffer()   # throwaway everything in the buffer\n",
    "        ser.readline()\n",
    "    ser.readline()\n",
    "    \n",
    "catchUp()\n",
    "print(\"done\")"
   ]
  },
  {
   "cell_type": "code",
   "execution_count": 5,
   "metadata": {},
   "outputs": [
    {
     "name": "stdout",
     "output_type": "stream",
     "text": [
      "[['sin(time):5.549354' 'cos(time):0.835473']\n",
      " ['sin(time):5.772372' 'cos(time):0.634998']\n",
      " ['sin(time):5.925952' 'cos(time):0.377435']]\n"
     ]
    },
    {
     "ename": "ValueError",
     "evalue": "could not convert string to float: 'cos(time):0.634998'",
     "output_type": "error",
     "traceback": [
      "\u001b[0;31m---------------------------------------------------------------------------\u001b[0m",
      "\u001b[0;31mValueError\u001b[0m                                Traceback (most recent call last)",
      "Input \u001b[0;32mIn [5]\u001b[0m, in \u001b[0;36m<cell line: 13>\u001b[0;34m()\u001b[0m\n\u001b[1;32m     11\u001b[0m a \u001b[38;5;241m=\u001b[39m np\u001b[38;5;241m.\u001b[39masarray(a)                              \u001b[38;5;66;03m# convert a[] into an np.array\u001b[39;00m\n\u001b[1;32m     12\u001b[0m \u001b[38;5;28mprint\u001b[39m(a[:\u001b[38;5;241m3\u001b[39m,:])                                 \u001b[38;5;66;03m# print a few lines to be sure it worked  \u001b[39;00m\n\u001b[0;32m---> 13\u001b[0m d \u001b[38;5;241m=\u001b[39m \u001b[43mnp\u001b[49m\u001b[38;5;241;43m.\u001b[39;49m\u001b[43masfarray\u001b[49m\u001b[43m(\u001b[49m\u001b[43ma\u001b[49m\u001b[43m[\u001b[49m\u001b[38;5;241;43m1\u001b[39;49m\u001b[43m:\u001b[49m\u001b[43m,\u001b[49m\u001b[38;5;241;43m1\u001b[39;49m\u001b[43m:\u001b[49m\u001b[43m]\u001b[49m\u001b[43m)\u001b[49m                      \u001b[38;5;66;03m# slice to get the data columns as floats\u001b[39;00m\n\u001b[1;32m     14\u001b[0m micros \u001b[38;5;241m=\u001b[39m np\u001b[38;5;241m.\u001b[39masfarray(a[\u001b[38;5;241m1\u001b[39m:,\u001b[38;5;241m0\u001b[39m],dtype\u001b[38;5;241m=\u001b[39mnp\u001b[38;5;241m.\u001b[39muint32)  \u001b[38;5;66;03m# and the first column as time in unsigned 32 bit\u001b[39;00m\n\u001b[1;32m     15\u001b[0m plt\u001b[38;5;241m.\u001b[39mplot(micros,d[:,\u001b[38;5;241m0\u001b[39m],micros,d[:,\u001b[38;5;241m1\u001b[39m])\n",
      "File \u001b[0;32m<__array_function__ internals>:5\u001b[0m, in \u001b[0;36masfarray\u001b[0;34m(*args, **kwargs)\u001b[0m\n",
      "File \u001b[0;32m~/opt/anaconda3/lib/python3.9/site-packages/numpy/lib/type_check.py:114\u001b[0m, in \u001b[0;36masfarray\u001b[0;34m(a, dtype)\u001b[0m\n\u001b[1;32m    112\u001b[0m \u001b[38;5;28;01mif\u001b[39;00m \u001b[38;5;129;01mnot\u001b[39;00m _nx\u001b[38;5;241m.\u001b[39missubdtype(dtype, _nx\u001b[38;5;241m.\u001b[39minexact):\n\u001b[1;32m    113\u001b[0m     dtype \u001b[38;5;241m=\u001b[39m _nx\u001b[38;5;241m.\u001b[39mfloat_\n\u001b[0;32m--> 114\u001b[0m \u001b[38;5;28;01mreturn\u001b[39;00m \u001b[43masarray\u001b[49m\u001b[43m(\u001b[49m\u001b[43ma\u001b[49m\u001b[43m,\u001b[49m\u001b[43m \u001b[49m\u001b[43mdtype\u001b[49m\u001b[38;5;241;43m=\u001b[39;49m\u001b[43mdtype\u001b[49m\u001b[43m)\u001b[49m\n",
      "\u001b[0;31mValueError\u001b[0m: could not convert string to float: 'cos(time):0.634998'"
     ]
    }
   ],
   "source": [
    "lines = 20   # the number of lines you want to read from the arduino\n",
    "a = []        # a[] is just a list for now...\n",
    "\n",
    "catchUp()\n",
    "\n",
    "# read in a whole lot of lines from the serial port and append them to a[]\n",
    "for i in range(0,lines+1):\n",
    "    #read, then decode into simple ASCII, strip off whitespace and split at commas\n",
    "    a.append(ser.readline().decode(\"utf-8\").strip().split(','))\n",
    "    \n",
    "a = np.asarray(a)                              # convert a[] into an np.array\n",
    "print(a[:3,:])                                 # print a few lines to be sure it worked  \n",
    "d = np.asfarray(a[1:,1:])                      # slice to get the data columns as floats\n",
    "micros = np.asfarray(a[1:,0],dtype=np.uint32)  # and the first column as time in unsigned 32 bit\n",
    "plt.plot(micros,d[:,0],micros,d[:,1])"
   ]
  },
  {
   "cell_type": "code",
   "execution_count": 6,
   "metadata": {},
   "outputs": [
    {
     "name": "stdout",
     "output_type": "stream",
     "text": [
      "True\n"
     ]
    }
   ],
   "source": [
    "print(ser.isOpen())"
   ]
  },
  {
   "cell_type": "code",
   "execution_count": 7,
   "metadata": {},
   "outputs": [],
   "source": [
    "ser.close()"
   ]
  },
  {
   "cell_type": "markdown",
   "metadata": {},
   "source": [
    "## Write out the data to a file\n",
    "You need to open the file ('tmpYY-MM-DD-hh-mm-ss.csv' will wind up in the current directory) in order to write on it ('w'), then write a whole series of lines. Putting a time stamp on means you won't overwrite the last data you took by mistake, but may make things difficult to keep track of. Change the file names as soon as practical and delete the ones you don't need.\n",
    "\n",
    "I googled and found the timestamp code here:\n",
    "\n",
    "http://www.pythonforbeginners.com/basics/python-datetime-time-examples"
   ]
  },
  {
   "cell_type": "code",
   "execution_count": 8,
   "metadata": {},
   "outputs": [
    {
     "ename": "NameError",
     "evalue": "name 'micros' is not defined",
     "output_type": "error",
     "traceback": [
      "\u001b[0;31m---------------------------------------------------------------------------\u001b[0m",
      "\u001b[0;31mNameError\u001b[0m                                 Traceback (most recent call last)",
      "Input \u001b[0;32mIn [8]\u001b[0m, in \u001b[0;36m<cell line: 6>\u001b[0;34m()\u001b[0m\n\u001b[1;32m      5\u001b[0m f \u001b[38;5;241m=\u001b[39m \u001b[38;5;28mopen\u001b[39m(fn,\u001b[38;5;124m'\u001b[39m\u001b[38;5;124mw\u001b[39m\u001b[38;5;124m'\u001b[39m)\n\u001b[1;32m      6\u001b[0m \u001b[38;5;28;01mfor\u001b[39;00m i \u001b[38;5;129;01min\u001b[39;00m \u001b[38;5;28mrange\u001b[39m(\u001b[38;5;241m0\u001b[39m,lines):\n\u001b[0;32m----> 7\u001b[0m     f\u001b[38;5;241m.\u001b[39mwrite(\u001b[38;5;124m\"\u001b[39m\u001b[38;5;132;01m%d\u001b[39;00m\u001b[38;5;124m, \u001b[39m\u001b[38;5;124m\"\u001b[39m \u001b[38;5;241m%\u001b[39m \u001b[43mmicros\u001b[49m[i])\n\u001b[1;32m      8\u001b[0m     \u001b[38;5;28;01mfor\u001b[39;00m x \u001b[38;5;129;01min\u001b[39;00m d[i]: f\u001b[38;5;241m.\u001b[39mwrite(\u001b[38;5;124m\"\u001b[39m\u001b[38;5;132;01m%f\u001b[39;00m\u001b[38;5;124m, \u001b[39m\u001b[38;5;124m\"\u001b[39m \u001b[38;5;241m%\u001b[39m x)\n\u001b[1;32m      9\u001b[0m     f\u001b[38;5;241m.\u001b[39mwrite(\u001b[38;5;124m\"\u001b[39m\u001b[38;5;130;01m\\n\u001b[39;00m\u001b[38;5;124m\"\u001b[39m)\n",
      "\u001b[0;31mNameError\u001b[0m: name 'micros' is not defined"
     ]
    }
   ],
   "source": [
    "import datetime\n",
    "fn = ('tmp' \n",
    "      + datetime.datetime.now().strftime(\"%y-%m-%d-%H-%M-%S\") \n",
    "      + '.csv')\n",
    "f = open(fn,'w')\n",
    "for i in range(0,lines):\n",
    "    f.write(\"%d, \" % micros[i])\n",
    "    for x in d[i]: f.write(\"%f, \" % x)\n",
    "    f.write(\"\\n\")\n",
    "f.close()\n",
    "print(\"Data written to: \"+fn)"
   ]
  },
  {
   "cell_type": "code",
   "execution_count": null,
   "metadata": {},
   "outputs": [],
   "source": []
  }
 ],
 "metadata": {
  "anaconda-cloud": {},
  "kernelspec": {
   "display_name": "Python 3 (ipykernel)",
   "language": "python",
   "name": "python3"
  },
  "language_info": {
   "codemirror_mode": {
    "name": "ipython",
    "version": 3
   },
   "file_extension": ".py",
   "mimetype": "text/x-python",
   "name": "python",
   "nbconvert_exporter": "python",
   "pygments_lexer": "ipython3",
   "version": "3.9.12"
  }
 },
 "nbformat": 4,
 "nbformat_minor": 1
}
