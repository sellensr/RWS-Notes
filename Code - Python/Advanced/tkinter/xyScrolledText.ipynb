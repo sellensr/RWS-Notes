{
 "cells": [
  {
   "cell_type": "markdown",
   "id": "a1d9d69f",
   "metadata": {},
   "source": [
    "The scrolled text widget provides scrolling in the vertical direction with a scroll bar.\n",
    "\n",
    "How do we provide both horizontal and vertical scroll bars? This may be partially moot, as both text and scrolledtext will scroll with magic mouse gestures on the Mac.\n"
   ]
  },
  {
   "cell_type": "code",
   "execution_count": 18,
   "id": "fd5dec57",
   "metadata": {},
   "outputs": [],
   "source": [
    "import tkinter as tk\n",
    "import datetime\n",
    "import tkinter.scrolledtext as scrolledtext\n",
    "\n",
    "window = tk.Tk()\n",
    "window.title(\"Rick's GUI Window\")\n",
    "window.geometry(\"800x1200\")\n",
    "\n",
    "text = scrolledtext.ScrolledText(window, highlightbackground = \"orange\", highlightthickness = 2, undo = True)\n",
    "text.pack()\n",
    "text.insert(tk.END,\"this is an intialization line that gets really long so that it overruns the end of the scrolled text box by many characters and probably wraps around.\\n\")\n",
    "\n",
    "group1 = tk.Frame(window, padx=5, pady=5, highlightbackground = \"blue\", highlightthickness = 2)\n",
    "# group1.grid(row=1, column=0, columnspan=100, padx=10, pady=10)\n",
    "\n",
    "display_abf = tk.Text(group1, width= 100, height=40, bg=\"lightgrey\", wrap=\"none\")\n",
    "display_abf.insert(tk.END,\"this is an intialization line that gets really long so that it overruns the end of the scrolled text box by many characters and probably wraps around.\\n\")\n",
    "display_abf.grid(row = 1, column = 0, columnspan = 100)\n",
    "xsb = tk.Scrollbar(group1, orient=\"horizontal\", command=display_abf.xview)\n",
    "display_abf.configure(xscrollcommand=xsb.set)\n",
    "xsb.grid(row=2, column=1, columnspan=80)\n",
    "\n",
    "group1.pack()\n",
    "\n",
    "window.mainloop()"
   ]
  },
  {
   "cell_type": "code",
   "execution_count": null,
   "id": "95cd13d9",
   "metadata": {},
   "outputs": [],
   "source": []
  },
  {
   "cell_type": "code",
   "execution_count": null,
   "id": "a52faa96",
   "metadata": {},
   "outputs": [],
   "source": []
  },
  {
   "cell_type": "code",
   "execution_count": null,
   "id": "bfdcb43b",
   "metadata": {},
   "outputs": [],
   "source": []
  },
  {
   "cell_type": "code",
   "execution_count": null,
   "id": "c052113c",
   "metadata": {},
   "outputs": [],
   "source": []
  }
 ],
 "metadata": {
  "kernelspec": {
   "display_name": "Python 3 (ipykernel)",
   "language": "python",
   "name": "python3"
  },
  "language_info": {
   "codemirror_mode": {
    "name": "ipython",
    "version": 3
   },
   "file_extension": ".py",
   "mimetype": "text/x-python",
   "name": "python",
   "nbconvert_exporter": "python",
   "pygments_lexer": "ipython3",
   "version": "3.9.15"
  }
 },
 "nbformat": 4,
 "nbformat_minor": 5
}
