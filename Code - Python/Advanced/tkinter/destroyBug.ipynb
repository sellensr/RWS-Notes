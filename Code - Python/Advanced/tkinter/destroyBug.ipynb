{
 "cells": [
  {
   "cell_type": "markdown",
   "id": "1fa65367",
   "metadata": {},
   "source": [
    "## Avoid using destroy in Jupyter\n",
    "It appears there's a known bug in tkinter that prevents windows from vanishing after they are destroyed. This code creates a window with quit buttons. Both buttons generate the same result. The process quits, allowing the cell to finsh, so execution can move on, but the window remains with a spinning pinwheel and no response to other controls. The window does disappear if you run the cell again, creating a new window.\n",
    "\n",
    "Using the close button in the corner of the window works fine."
   ]
  },
  {
   "cell_type": "code",
   "execution_count": 15,
   "id": "e9d51c92",
   "metadata": {},
   "outputs": [],
   "source": [
    "import tkinter as tk\n",
    "import datetime\n",
    "\n",
    "window = tk.Tk()\n",
    "window.title(\"Rick's GUI Window\")\n",
    "window.geometry(\"750x250\")\n",
    "\n",
    "# destroy() works in python from a terminal, but only half kills the window from Jupyter on the Mac\n",
    "quit = tk.Button(window,text=\"Quit like a zombie\", command=window.destroy).pack()\n",
    "\n",
    "quit2 = tk.Button(window,text=\"Quit like a werewolf\")\n",
    "quit2.pack()\n",
    "def destroyWindow(event):\n",
    "    window.destroy()\n",
    "quit2.bind(\"<Button-1>\",destroyWindow)    \n",
    "\n",
    "window.mainloop()\n"
   ]
  },
  {
   "cell_type": "code",
   "execution_count": null,
   "id": "b23853ad",
   "metadata": {},
   "outputs": [],
   "source": []
  },
  {
   "cell_type": "code",
   "execution_count": null,
   "id": "958945c4",
   "metadata": {},
   "outputs": [],
   "source": []
  },
  {
   "cell_type": "code",
   "execution_count": null,
   "id": "09df0614",
   "metadata": {},
   "outputs": [],
   "source": []
  },
  {
   "cell_type": "code",
   "execution_count": null,
   "id": "72762838",
   "metadata": {},
   "outputs": [],
   "source": []
  }
 ],
 "metadata": {
  "kernelspec": {
   "display_name": "Python 3 (ipykernel)",
   "language": "python",
   "name": "python3"
  },
  "language_info": {
   "codemirror_mode": {
    "name": "ipython",
    "version": 3
   },
   "file_extension": ".py",
   "mimetype": "text/x-python",
   "name": "python",
   "nbconvert_exporter": "python",
   "pygments_lexer": "ipython3",
   "version": "3.9.15"
  }
 },
 "nbformat": 4,
 "nbformat_minor": 5
}
