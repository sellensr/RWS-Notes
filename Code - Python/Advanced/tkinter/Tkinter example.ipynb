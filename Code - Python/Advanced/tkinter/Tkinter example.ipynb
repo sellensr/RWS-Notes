{
 "cells": [
  {
   "cell_type": "markdown",
   "id": "a1d9d69f",
   "metadata": {},
   "source": [
    "https://www.datacamp.com/tutorial/gui-tkinter-python\n"
   ]
  },
  {
   "cell_type": "code",
   "execution_count": 1,
   "id": "fd5dec57",
   "metadata": {},
   "outputs": [],
   "source": [
    "import tkinter as tk\n",
    "import datetime\n",
    "\n",
    "window = tk.Tk()\n",
    "window.title(\"Rick's GUI Window\")\n",
    "window.geometry(\"750x250\")\n",
    "\n",
    "frameT = tk.Frame(window, highlightbackground = \"yellow\", highlightthickness = 2)\n",
    "\n",
    "button = tk.Button(frameT, text=\"Click Me\")\n",
    "button.pack()\n",
    "# destroy() works in python from a terminal, but only half kills the window from Jupyter\n",
    "# quit = tk.Button(frameT,text=\"Quit\", command=window.destroy).pack()\n",
    "tk.Label(frameT, text=\"Hello, Tkinter\").pack()\n",
    "checkVar = tk.IntVar()\n",
    "tk.Checkbutton(frameT, text = \"Check Button\", variable = checkVar, onvalue = 1, offvalue = 0).pack()\n",
    "frameT.grid(row = 0, column = 1, columnspan = 2)\n",
    "\n",
    "frameL = tk.Frame(window, width = 200, height = 200, border = 10, highlightbackground = \"blue\", highlightthickness = 2)\n",
    "frameL.grid(row = 1, column = 0)\n",
    "\n",
    "frameR = tk.Frame(window, width = 200, height = 200, border = 10, highlightbackground = \"red\", highlightthickness = 2)\n",
    "frameR.grid(row = 1, column = 1)\n",
    "\n",
    "tk.Label(frameL, text = \"Label in the left frame       \").pack()\n",
    "tk.Label(frameR, text = \"Label in the right frame\").pack()\n",
    "\n",
    "frame1 = tk.Frame(frameR)\n",
    "frame1.pack()\n",
    "entry1 = tk.Entry(frame1, width = 20)\n",
    "entry1.pack(side = \"right\")\n",
    "tk.Label(frame1, text= \"A Label for the entry\").pack(side = \"left\")\n",
    "\n",
    "bottom_frame = tk.Frame(window, highlightbackground = \"green\", highlightthickness = 2)\n",
    "bottom_frame.grid(row = 3, column = 0, columnspan= 2)\n",
    "\n",
    "btn3 = tk.Button(bottom_frame, text = \"Button3\", fg = \"purple\").pack()\n",
    "btn4 = tk.Button(bottom_frame, text = \"Button4\", fg = \"orange\").pack()\n",
    "tk.Label(bottom_frame, text = \"Label in the bottom frame\").pack()\n",
    "\n",
    "def handle_click(event):\n",
    "    print(\"The button was clicked!\")\n",
    "    text.insert(tk.END,\"added to the end\\n\")\n",
    "    print(text.get(\"1.0\",tk.END))\n",
    "\n",
    "def handle_clickR(event):\n",
    "    print(\"The button was right-clicked!\")\n",
    "    \n",
    "button.bind(\"<Button-1>\", handle_click)\n",
    "button.bind(\"<Button-2>\", handle_clickR) # may be middle button on windows mice\n",
    "\n",
    "# use the after() function to generate periodic updates \n",
    "def clock():\n",
    "    time = datetime.datetime.now().strftime(\"Time: %H:%M:%S\")\n",
    "    button.config(text=time)\n",
    "    #lab['text'] = time\n",
    "    window.after(1000, clock) # run itself again after 1000 ms\n",
    "    \n",
    "# run first time\n",
    "clock()\n",
    "\n",
    "# https://www.cc.kyoto-su.ac.jp/~atsushi/Programs/VisualWorks/CSV2HTML/CSV2HTML_PyDoc/ScrolledText.html\n",
    "import tkinter.scrolledtext as scrolledtext\n",
    "\n",
    "text = scrolledtext.ScrolledText(window, highlightbackground = \"orange\", highlightthickness = 2, undo = True)\n",
    "text.grid(row = 4, columnspan = 3)\n",
    "text.insert(\"1.0\",\"this is an intialization line\\n\")\n",
    "\n",
    "\n",
    "window.mainloop()"
   ]
  },
  {
   "cell_type": "code",
   "execution_count": 2,
   "id": "95cd13d9",
   "metadata": {},
   "outputs": [],
   "source": []
  },
  {
   "cell_type": "code",
   "execution_count": null,
   "id": "a52faa96",
   "metadata": {},
   "outputs": [],
   "source": []
  },
  {
   "cell_type": "code",
   "execution_count": null,
   "id": "bfdcb43b",
   "metadata": {},
   "outputs": [],
   "source": []
  },
  {
   "cell_type": "code",
   "execution_count": null,
   "id": "c052113c",
   "metadata": {},
   "outputs": [],
   "source": []
  }
 ],
 "metadata": {
  "kernelspec": {
   "display_name": "Python 3 (ipykernel)",
   "language": "python",
   "name": "python3"
  },
  "language_info": {
   "codemirror_mode": {
    "name": "ipython",
    "version": 3
   },
   "file_extension": ".py",
   "mimetype": "text/x-python",
   "name": "python",
   "nbconvert_exporter": "python",
   "pygments_lexer": "ipython3",
   "version": "3.9.15"
  }
 },
 "nbformat": 4,
 "nbformat_minor": 5
}
